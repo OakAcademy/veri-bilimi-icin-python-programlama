{
 "cells": [
  {
   "cell_type": "markdown",
   "id": "0ab6160d-e24f-4938-9247-ba8fbc2e9dbf",
   "metadata": {},
   "source": [
    "### DÖNGÜLER - FOR DÖNGÜSÜ\n"
   ]
  },
  {
   "cell_type": "code",
   "execution_count": 1,
   "id": "253cfcb2-fb16-4cfa-bf10-f8688a817cfe",
   "metadata": {},
   "outputs": [
    {
     "name": "stdout",
     "output_type": "stream",
     "text": [
      "Turkey\n",
      "France\n",
      "Germany\n",
      "Usa\n",
      "United Kingdom\n"
     ]
    }
   ],
   "source": [
    "list_example = [\"turkey\", \"france\", \"germany\", \"usa\", \"united kingdom\"]\n",
    "\n",
    "for i in list_example:\n",
    "    print(i.title())"
   ]
  },
  {
   "cell_type": "markdown",
   "id": "acabbecb-8a3e-490f-ae22-933f36015a3c",
   "metadata": {},
   "source": [
    "### DÖNGÜLER - FOR DÖNGÜSÜ – PEKİŞTİRME\n"
   ]
  },
  {
   "cell_type": "code",
   "execution_count": 5,
   "id": "ff2874ed-1ddb-4759-b98f-7fadc260e0d1",
   "metadata": {},
   "outputs": [],
   "source": [
    "personel_salary = [2000, 2500, 2250, 2350, 2000, 2850, 2750, 3000, 2650, 2500]"
   ]
  },
  {
   "cell_type": "code",
   "execution_count": 11,
   "id": "e73be9b4-6920-46c8-83a4-c3fe8dfcc073",
   "metadata": {},
   "outputs": [
    {
     "name": "stdout",
     "output_type": "stream",
     "text": [
      "[2200.0, 2750.0, 2475.0, 2585.0, 2200.0, 3135.0, 3025.0, 3300.0, 2915.0, 2750.0]\n"
     ]
    }
   ],
   "source": [
    "new_salary = []\n",
    "\n",
    "for i in personel_salary:\n",
    "    increased_salary =  i + (i * 10 / 100)\n",
    "    new_salary.append(increased_salary)\n",
    "    \n",
    "print(new_salary)"
   ]
  },
  {
   "cell_type": "markdown",
   "id": "c25256c2-b176-44a0-bc48-49e0e56a2384",
   "metadata": {},
   "source": [
    "### DÖNGÜLER - KOŞULLU İFADELER VE FOR DÖNGÜSÜNÜN BİRLİKTE KULLANIMI\n"
   ]
  },
  {
   "cell_type": "code",
   "execution_count": 14,
   "id": "f8e6a905-4166-4b60-9f20-13b4a7430247",
   "metadata": {},
   "outputs": [],
   "source": [
    "personel_salary = [2000, 2500, 2250, 2350, 2000, 2850, 2750, 3000, 2650, 2500]"
   ]
  },
  {
   "cell_type": "code",
   "execution_count": 15,
   "id": "78688c0d-8243-4126-9dd3-664acc9c2333",
   "metadata": {},
   "outputs": [
    {
     "name": "stdout",
     "output_type": "stream",
     "text": [
      "[2400.0, 2875.0, 2700.0, 2702.5, 2400.0, 3135.0, 3025.0, 3300.0, 2915.0, 2875.0]\n"
     ]
    }
   ],
   "source": [
    "new_salary = []\n",
    "\n",
    "for i in personel_salary:\n",
    "    if i < 2300:\n",
    "        increased_salary1 = i + (i * 20 / 100)\n",
    "        new_salary.append(increased_salary1)\n",
    "    elif 2300 <= i <= 2500:\n",
    "        increased_salary2 = i + (i * 15 / 100)\n",
    "        new_salary.append(increased_salary2)\n",
    "    elif i > 2500:\n",
    "        increased_salary3 = i + (i * 10 / 100)\n",
    "        new_salary.append(increased_salary3)\n",
    "\n",
    "print(new_salary)"
   ]
  },
  {
   "cell_type": "markdown",
   "id": "3850d53a-3b16-449c-8ca5-7fcb5d01b196",
   "metadata": {},
   "source": [
    "### DÖNGÜLER - CONTINUE KOMUTU\n"
   ]
  },
  {
   "cell_type": "code",
   "execution_count": 16,
   "id": "ca0bd847-6c0d-4d07-980b-1b3d8f194f57",
   "metadata": {},
   "outputs": [],
   "source": [
    "personel_salary = [2000, 2500, 2250, 2350, 2000, 2850, 2750, 3000, 2650, 2500]"
   ]
  },
  {
   "cell_type": "code",
   "execution_count": 30,
   "id": "48b3d170-3b40-4e3a-93ff-71024259ad70",
   "metadata": {},
   "outputs": [
    {
     "name": "stdout",
     "output_type": "stream",
     "text": [
      "[2400.0, 2700.0, 2702.5, 2400.0, 3135.0, 3025.0, 3300.0, 2915.0]\n"
     ]
    }
   ],
   "source": [
    "new_salary = []\n",
    "\n",
    "for i in personel_salary:\n",
    "    if i == 2500:\n",
    "        continue\n",
    "    elif i < 2300:\n",
    "        increased_salary1 = i + (i * 20 / 100)\n",
    "        new_salary.append(increased_salary1)\n",
    "    elif 2300 <= i <= 2500:\n",
    "        increased_salary2 = i + (i * 15 / 100)\n",
    "        new_salary.append(increased_salary2)\n",
    "    elif i > 2500:\n",
    "        increased_salary3 = i + (i * 10 / 100)\n",
    "        new_salary.append(increased_salary3)\n",
    "\n",
    "print(new_salary)"
   ]
  },
  {
   "cell_type": "markdown",
   "id": "96c14896-a6c7-4647-baaa-6b76521b6068",
   "metadata": {},
   "source": [
    "### DÖNGÜLER - BREAK KOMUTU\n"
   ]
  },
  {
   "cell_type": "code",
   "execution_count": 31,
   "id": "96880ebb-b2fa-4132-8ef8-cec958956669",
   "metadata": {},
   "outputs": [],
   "source": [
    "personel_salary = [2000, 2500, 2250, 2350, 2000, 2850, 2750, 3000, 2650, 2500]"
   ]
  },
  {
   "cell_type": "code",
   "execution_count": 32,
   "id": "6340408c-ca9a-4b13-a138-280e59805acc",
   "metadata": {},
   "outputs": [],
   "source": [
    "personel_salary.sort()"
   ]
  },
  {
   "cell_type": "code",
   "execution_count": 33,
   "id": "344ac63f-4d19-4d4f-8387-4e2ceca8ed5f",
   "metadata": {},
   "outputs": [
    {
     "name": "stdout",
     "output_type": "stream",
     "text": [
      "[2000, 2000, 2250, 2350, 2500, 2500, 2650, 2750, 2850, 3000]\n"
     ]
    }
   ],
   "source": [
    "print(personel_salary)"
   ]
  },
  {
   "cell_type": "code",
   "execution_count": 34,
   "id": "a2cad03c-698b-459e-b112-86cf51028e07",
   "metadata": {},
   "outputs": [
    {
     "name": "stdout",
     "output_type": "stream",
     "text": [
      "[2400.0, 2400.0, 2700.0, 2702.5, 2875.0, 2875.0, 2915.0]\n"
     ]
    }
   ],
   "source": [
    "new_salary = []\n",
    "\n",
    "for i in personel_salary:\n",
    "    if i == 2750:\n",
    "        break\n",
    "    elif i < 2300:\n",
    "        increased_salary1 = i + (i * 20 / 100)\n",
    "        new_salary.append(increased_salary1)\n",
    "    elif 2300 <= i <= 2500:\n",
    "        increased_salary2 = i + (i * 15 / 100)\n",
    "        new_salary.append(increased_salary2)\n",
    "    elif i > 2500:\n",
    "        increased_salary3 = i + (i * 10 / 100)\n",
    "        new_salary.append(increased_salary3)\n",
    "\n",
    "print(new_salary)"
   ]
  },
  {
   "cell_type": "markdown",
   "id": "b8b8d27f-6b47-4f10-8f61-cde8a18dfc2d",
   "metadata": {},
   "source": [
    "### DÖNGÜLER - LIST COMPREHENSION"
   ]
  },
  {
   "cell_type": "code",
   "execution_count": 15,
   "id": "bee4d92f-098e-40f1-bd41-993e52da72f8",
   "metadata": {},
   "outputs": [],
   "source": [
    "list_example = [\"adam\", \"joseph\", \"mariam\", \"donald\"]"
   ]
  },
  {
   "cell_type": "code",
   "execution_count": 16,
   "id": "4482999e-887a-4105-98e6-2f59e939a497",
   "metadata": {},
   "outputs": [],
   "source": [
    "upper_list = []\n",
    "\n",
    "for i in list_example:\n",
    "    x = i.upper()\n",
    "    upper_list.append(x)"
   ]
  },
  {
   "cell_type": "code",
   "execution_count": 17,
   "id": "be2d7eb7-5206-4721-bef8-e16673f778ff",
   "metadata": {},
   "outputs": [
    {
     "name": "stdout",
     "output_type": "stream",
     "text": [
      "['ADAM', 'JOSEPH', 'MARIAM', 'DONALD']\n"
     ]
    }
   ],
   "source": [
    "print(upper_list)"
   ]
  },
  {
   "cell_type": "code",
   "execution_count": 18,
   "id": "ece9afcc-9522-471a-8e0f-6e5dd4dfbcd5",
   "metadata": {},
   "outputs": [
    {
     "data": {
      "text/plain": [
       "['ADAM', 'JOSEPH', 'MARIAM', 'DONALD']"
      ]
     },
     "execution_count": 18,
     "metadata": {},
     "output_type": "execute_result"
    }
   ],
   "source": [
    "[i.upper() for i in list_example]"
   ]
  },
  {
   "cell_type": "code",
   "execution_count": 21,
   "id": "d39683f1-8aff-4e08-bead-ba39c1be8242",
   "metadata": {},
   "outputs": [],
   "source": [
    "upper_list2 = [i.upper() for i in list_example]"
   ]
  },
  {
   "cell_type": "code",
   "execution_count": 22,
   "id": "6208bfa3-1f04-4c4f-a65e-e8a22afded66",
   "metadata": {},
   "outputs": [
    {
     "name": "stdout",
     "output_type": "stream",
     "text": [
      "['ADAM', 'JOSEPH', 'MARIAM', 'DONALD']\n"
     ]
    }
   ],
   "source": [
    "print(upper_list2)"
   ]
  },
  {
   "cell_type": "markdown",
   "id": "e52e191e-2f78-42fd-baf8-332f588aeb7e",
   "metadata": {},
   "source": [
    "### DÖNGÜLER - WHILE DÖNGÜSÜ\n"
   ]
  },
  {
   "cell_type": "code",
   "execution_count": 3,
   "id": "36cd6f8f-2618-4d57-9e01-496ba7ce47cc",
   "metadata": {},
   "outputs": [
    {
     "name": "stdout",
     "output_type": "stream",
     "text": [
      "0\n",
      "1\n",
      "2\n",
      "3\n",
      "4\n",
      "5\n",
      "6\n",
      "7\n",
      "8\n",
      "9\n"
     ]
    }
   ],
   "source": [
    "number = 0\n",
    "\n",
    "while number < 10:\n",
    "    print(number)\n",
    "    number += 1"
   ]
  },
  {
   "cell_type": "markdown",
   "id": "01e730a3-9891-447d-a168-a2754e6613c6",
   "metadata": {},
   "source": [
    "### DÖNGÜLER - WHILE DÖNGÜSÜ PEKİŞTİRME"
   ]
  },
  {
   "cell_type": "code",
   "execution_count": 2,
   "id": "62f7e2a9-95c0-4616-9aa8-a62100545cad",
   "metadata": {},
   "outputs": [
    {
     "name": "stdin",
     "output_type": "stream",
     "text": [
      "Please enter a number:  10\n",
      "Please guess the number:  40\n"
     ]
    },
    {
     "name": "stdout",
     "output_type": "stream",
     "text": [
      "increase the number\n"
     ]
    },
    {
     "name": "stdin",
     "output_type": "stream",
     "text": [
      "Please guess the number:  60\n"
     ]
    },
    {
     "name": "stdout",
     "output_type": "stream",
     "text": [
      "increase the number\n"
     ]
    },
    {
     "name": "stdin",
     "output_type": "stream",
     "text": [
      "Please guess the number:  130\n"
     ]
    },
    {
     "name": "stdout",
     "output_type": "stream",
     "text": [
      "reduce the number\n"
     ]
    },
    {
     "name": "stdin",
     "output_type": "stream",
     "text": [
      "Please guess the number:  120\n"
     ]
    },
    {
     "name": "stdout",
     "output_type": "stream",
     "text": [
      "reduce the number\n"
     ]
    },
    {
     "name": "stdin",
     "output_type": "stream",
     "text": [
      "Please guess the number:  110\n"
     ]
    },
    {
     "name": "stdout",
     "output_type": "stream",
     "text": [
      "You guessed the correct number. 110\n"
     ]
    }
   ],
   "source": [
    "number = int(input(\"Please enter a number: \"))\n",
    "number = int((number*10/8) + (number*8) + (number/5) + (number*2) - (number*2/5))\n",
    "\n",
    "counter = 0\n",
    "\n",
    "while True:\n",
    "    counter += 1\n",
    "    estimate = int(input(\"Please guess the number: \"))\n",
    "    \n",
    "    if estimate < number:\n",
    "        print(\"increase the number\")\n",
    "    elif estimate > number:\n",
    "        print(\"reduce the number\")\n",
    "    elif estimate == number:\n",
    "        print(\"You guessed the correct number. {}\".format(number))\n",
    "        break"
   ]
  },
  {
   "cell_type": "code",
   "execution_count": 3,
   "id": "961e02a6-daea-4421-a72f-e322e156f371",
   "metadata": {},
   "outputs": [
    {
     "data": {
      "text/plain": [
       "110"
      ]
     },
     "execution_count": 3,
     "metadata": {},
     "output_type": "execute_result"
    }
   ],
   "source": [
    "number"
   ]
  },
  {
   "cell_type": "markdown",
   "id": "0386ae72-ebbd-4587-b8d8-7a923d05b7b8",
   "metadata": {},
   "source": [
    "### FONKSİYONLAR - FONKSİYONLAR İLE TANIŞMA"
   ]
  },
  {
   "cell_type": "code",
   "execution_count": 5,
   "id": "88dd07b8-4297-4a5c-88ea-cbb3f49d9bc1",
   "metadata": {},
   "outputs": [
    {
     "data": {
      "text/plain": [
       "<function print>"
      ]
     },
     "execution_count": 5,
     "metadata": {},
     "output_type": "execute_result"
    }
   ],
   "source": [
    "print"
   ]
  },
  {
   "cell_type": "code",
   "execution_count": 13,
   "id": "65c5514e-6fe0-460f-9cb9-977a48b3c4cd",
   "metadata": {},
   "outputs": [
    {
     "data": {
      "text/plain": [
       "\u001b[1;31mDocstring:\u001b[0m\n",
       "print(value, ..., sep=' ', end='\\n', file=sys.stdout, flush=False)\n",
       "\n",
       "Prints the values to a stream, or to sys.stdout by default.\n",
       "Optional keyword arguments:\n",
       "file:  a file-like object (stream); defaults to the current sys.stdout.\n",
       "sep:   string inserted between values, default a space.\n",
       "end:   string appended after the last value, default a newline.\n",
       "flush: whether to forcibly flush the stream.\n",
       "\u001b[1;31mType:\u001b[0m      builtin_function_or_method\n"
      ]
     },
     "metadata": {},
     "output_type": "display_data"
    }
   ],
   "source": [
    "?print"
   ]
  },
  {
   "cell_type": "markdown",
   "id": "8b883ae4-5fd0-4ca2-a67b-ef5381df6ba8",
   "metadata": {},
   "source": [
    "###  FONKSİYONLAR - FONKSİYON NASIL YAZILIR\n"
   ]
  },
  {
   "cell_type": "code",
   "execution_count": 8,
   "id": "c13adadd-09b0-4fd9-9a15-79250eb31733",
   "metadata": {},
   "outputs": [],
   "source": [
    "def cube(x):\n",
    "    x ** 3"
   ]
  },
  {
   "cell_type": "code",
   "execution_count": 9,
   "id": "1a441cfd-e4e2-4890-b611-6f2e8b81f7b9",
   "metadata": {},
   "outputs": [
    {
     "data": {
      "text/plain": [
       "function"
      ]
     },
     "execution_count": 9,
     "metadata": {},
     "output_type": "execute_result"
    }
   ],
   "source": [
    "type(cube)"
   ]
  },
  {
   "cell_type": "code",
   "execution_count": 10,
   "id": "6a60ef9d-afba-460b-829a-544f370c3d6b",
   "metadata": {},
   "outputs": [],
   "source": [
    "cube(3)"
   ]
  },
  {
   "cell_type": "code",
   "execution_count": 11,
   "id": "ffd6c598-29eb-4a7d-9024-8dc537e0330f",
   "metadata": {},
   "outputs": [],
   "source": [
    "def new_cube(x):\n",
    "    print(x ** 3)"
   ]
  },
  {
   "cell_type": "code",
   "execution_count": 12,
   "id": "c588dace-cce4-400e-96d1-8113ff1c3fe7",
   "metadata": {},
   "outputs": [
    {
     "name": "stdout",
     "output_type": "stream",
     "text": [
      "27\n"
     ]
    }
   ],
   "source": [
    "new_cube(3)"
   ]
  },
  {
   "cell_type": "code",
   "execution_count": 17,
   "id": "89169862-449f-4cfa-8625-94a949aae355",
   "metadata": {},
   "outputs": [
    {
     "name": "stdout",
     "output_type": "stream",
     "text": [
      "8\n"
     ]
    }
   ],
   "source": [
    "new_cube(2) "
   ]
  },
  {
   "cell_type": "markdown",
   "id": "454194da-857e-4dfb-869c-0a2a1924b407",
   "metadata": {},
   "source": [
    "### FONKSİYONLAR - FONKSİYONDA RETURN İFADESİ\n"
   ]
  },
  {
   "cell_type": "code",
   "execution_count": 29,
   "id": "a005d816-7d9b-42de-882b-b3024281f8f7",
   "metadata": {},
   "outputs": [],
   "source": [
    "def new_cube(x):\n",
    "    print(x ** 3)"
   ]
  },
  {
   "cell_type": "code",
   "execution_count": 30,
   "id": "a2570914-f3ed-48ba-9256-dd4e03673453",
   "metadata": {},
   "outputs": [
    {
     "name": "stdout",
     "output_type": "stream",
     "text": [
      "8\n"
     ]
    }
   ],
   "source": [
    "new_cube(2) "
   ]
  },
  {
   "cell_type": "code",
   "execution_count": 18,
   "id": "f4bc09a2-aead-41f6-a06a-11267b84feae",
   "metadata": {},
   "outputs": [
    {
     "name": "stdout",
     "output_type": "stream",
     "text": [
      "8\n"
     ]
    },
    {
     "data": {
      "text/plain": [
       "NoneType"
      ]
     },
     "execution_count": 18,
     "metadata": {},
     "output_type": "execute_result"
    }
   ],
   "source": [
    "type(new_cube(2))"
   ]
  },
  {
   "cell_type": "code",
   "execution_count": 31,
   "id": "bd3631de-87a8-4717-a328-48abc8b6a453",
   "metadata": {},
   "outputs": [
    {
     "name": "stdout",
     "output_type": "stream",
     "text": [
      "8\n"
     ]
    },
    {
     "ename": "TypeError",
     "evalue": "unsupported operand type(s) for *: 'NoneType' and 'int'",
     "output_type": "error",
     "traceback": [
      "\u001b[1;31m---------------------------------------------------------------------------\u001b[0m",
      "\u001b[1;31mTypeError\u001b[0m                                 Traceback (most recent call last)",
      "\u001b[1;32m<ipython-input-31-792c5af50b6f>\u001b[0m in \u001b[0;36m<module>\u001b[1;34m\u001b[0m\n\u001b[1;32m----> 1\u001b[1;33m \u001b[0mnew_cube\u001b[0m\u001b[1;33m(\u001b[0m\u001b[1;36m2\u001b[0m\u001b[1;33m)\u001b[0m \u001b[1;33m*\u001b[0m \u001b[1;36m5\u001b[0m\u001b[1;33m\u001b[0m\u001b[1;33m\u001b[0m\u001b[0m\n\u001b[0m",
      "\u001b[1;31mTypeError\u001b[0m: unsupported operand type(s) for *: 'NoneType' and 'int'"
     ]
    }
   ],
   "source": [
    "new_cube(2) * 5"
   ]
  },
  {
   "cell_type": "code",
   "execution_count": 37,
   "id": "1ff8b7e9-f0ec-48aa-aac0-66a6f4019125",
   "metadata": {},
   "outputs": [],
   "source": [
    "def new_cube2(x):\n",
    "    return x ** 3"
   ]
  },
  {
   "cell_type": "code",
   "execution_count": 41,
   "id": "7cb11591-8466-456f-8a19-7720fdfcc809",
   "metadata": {},
   "outputs": [
    {
     "data": {
      "text/plain": [
       "27"
      ]
     },
     "execution_count": 41,
     "metadata": {},
     "output_type": "execute_result"
    }
   ],
   "source": [
    "new_cube2(3) "
   ]
  },
  {
   "cell_type": "code",
   "execution_count": 42,
   "id": "80faa428-9531-4e80-b98d-950635efd1ac",
   "metadata": {},
   "outputs": [
    {
     "data": {
      "text/plain": [
       "int"
      ]
     },
     "execution_count": 42,
     "metadata": {},
     "output_type": "execute_result"
    }
   ],
   "source": [
    "type(new_cube2(3))"
   ]
  },
  {
   "cell_type": "code",
   "execution_count": 44,
   "id": "56d55634-76fc-4dc3-a28c-ae44b5bafcde",
   "metadata": {},
   "outputs": [
    {
     "data": {
      "text/plain": [
       "54"
      ]
     },
     "execution_count": 44,
     "metadata": {},
     "output_type": "execute_result"
    }
   ],
   "source": [
    "new_cube2(3) * 2"
   ]
  },
  {
   "cell_type": "markdown",
   "id": "a383db96-b210-45b6-a39e-f905c1518793",
   "metadata": {},
   "source": [
    "### FONKSİYONLAR - BİRDEN FAZLA ARGÜMANLI FONKSİYON YAZMA\n"
   ]
  },
  {
   "cell_type": "code",
   "execution_count": 7,
   "id": "9b49bb81-a5b6-4b80-a903-5daa65e9f53e",
   "metadata": {},
   "outputs": [],
   "source": [
    "def hypotenuse(a, b):\n",
    "    print((a ** 2 + b ** 2) ** 0.5)"
   ]
  },
  {
   "cell_type": "code",
   "execution_count": 8,
   "id": "522ba45e-ff9c-4e4c-830a-00794d915a01",
   "metadata": {},
   "outputs": [
    {
     "name": "stdout",
     "output_type": "stream",
     "text": [
      "5.0\n"
     ]
    }
   ],
   "source": [
    "hypotenuse(3, 4)"
   ]
  },
  {
   "cell_type": "code",
   "execution_count": 9,
   "id": "6b5030c5-fa0b-4231-be55-812128cc4051",
   "metadata": {},
   "outputs": [
    {
     "name": "stdout",
     "output_type": "stream",
     "text": [
      "10.0\n"
     ]
    }
   ],
   "source": [
    "hypotenuse(6, 8)"
   ]
  },
  {
   "cell_type": "markdown",
   "id": "b4fa27b3-6f52-485b-8271-dec5e87e963c",
   "metadata": {},
   "source": [
    "### FONKSİYONLAR - FONKSİYONLARDA DOCSTRING YAZMA"
   ]
  },
  {
   "cell_type": "code",
   "execution_count": 4,
   "id": "a7e9cba7-20c3-4cd6-ac5b-441c8515937d",
   "metadata": {},
   "outputs": [],
   "source": [
    "def hypotenuse(a, b):\n",
    "    print((a ** 2 + b ** 2) ** 0.5)"
   ]
  },
  {
   "cell_type": "code",
   "execution_count": null,
   "id": "6212e357-0588-4cd3-aa17-eb996b4d1b34",
   "metadata": {},
   "outputs": [],
   "source": [
    "hypotenuse()"
   ]
  },
  {
   "cell_type": "code",
   "execution_count": 6,
   "id": "3220c66c-fbc3-4bf6-ac9d-7858e132f050",
   "metadata": {},
   "outputs": [],
   "source": [
    "def new_hypotenuse(a, b):\n",
    "    \"\"\"\n",
    "    Hypotenuse function; It is used to get the hypotenuse in a right triangle\n",
    "    -------------------------\n",
    "    Arguments:\n",
    "    \n",
    "    a = First side of right triangle\n",
    "    b = Second side of right triangle\n",
    "    \"\"\"\n",
    "    print((a ** 2 + b ** 2) ** 0.5)\n",
    "   "
   ]
  },
  {
   "cell_type": "code",
   "execution_count": null,
   "id": "a85f6e10-01b9-4049-a1b3-6faf389f311b",
   "metadata": {},
   "outputs": [],
   "source": [
    "new_hypotenuse()"
   ]
  },
  {
   "cell_type": "code",
   "execution_count": 10,
   "id": "6f3ed4eb-501c-423f-9084-ef262ed04219",
   "metadata": {},
   "outputs": [
    {
     "data": {
      "text/plain": [
       "\u001b[1;31mSignature:\u001b[0m \u001b[0mnew_hypotenuse\u001b[0m\u001b[1;33m(\u001b[0m\u001b[0ma\u001b[0m\u001b[1;33m,\u001b[0m \u001b[0mb\u001b[0m\u001b[1;33m)\u001b[0m\u001b[1;33m\u001b[0m\u001b[1;33m\u001b[0m\u001b[0m\n",
       "\u001b[1;31mDocstring:\u001b[0m\n",
       "Hypotenuse function; It is used to get the hypotenuse in a right triangle\n",
       "-------------------------\n",
       "Arguments:\n",
       "\n",
       "a = First side of right triangle\n",
       "b = Second side of right triangle\n",
       "\u001b[1;31mFile:\u001b[0m      c:\\users\\alica\\desktop\\python_work_file\\<ipython-input-6-b4717b2851df>\n",
       "\u001b[1;31mType:\u001b[0m      function\n"
      ]
     },
     "metadata": {},
     "output_type": "display_data"
    }
   ],
   "source": [
    "?new_hypotenuse"
   ]
  },
  {
   "cell_type": "markdown",
   "id": "2c7bab9d-037d-4311-90e3-1e5a4070d133",
   "metadata": {},
   "source": [
    "### FONKSİYONLAR - FONKSİYONLAR VE KOŞULLU İFADELERİN BİRLİKTE KULLANIMI\n"
   ]
  },
  {
   "cell_type": "code",
   "execution_count": 28,
   "id": "8c2dbe2f-fcb3-4ffc-aa8e-c12b48dbf825",
   "metadata": {},
   "outputs": [],
   "source": [
    "def calculate_salary(x):\n",
    "    \"\"\"\n",
    "    This function outputs the increased state of the salaries.\n",
    "    ------------------------------\n",
    "    Argument:\n",
    "    x : salary \n",
    "    \"\"\"\n",
    "    if x < 2500:\n",
    "        increased_salary1 = x + (x * 20 / 100)\n",
    "        return increased_salary1\n",
    "    elif 2500 <= x < 3500:\n",
    "        increased_salary2 = x + (x * 15 / 100)\n",
    "        return increased_salary2\n",
    "    else:\n",
    "        increased_salary3 = x + (x * 10 / 100)\n",
    "        return increased_salary3"
   ]
  },
  {
   "cell_type": "code",
   "execution_count": 30,
   "id": "97071550-89d0-4c36-aafa-51d15d7f4a75",
   "metadata": {},
   "outputs": [
    {
     "data": {
      "text/plain": [
       "2400.0"
      ]
     },
     "execution_count": 30,
     "metadata": {},
     "output_type": "execute_result"
    }
   ],
   "source": [
    "calculate_salary(2000)"
   ]
  },
  {
   "cell_type": "code",
   "execution_count": 31,
   "id": "a77e3927-a149-4e5d-a3a3-24adb4dfb812",
   "metadata": {},
   "outputs": [
    {
     "data": {
      "text/plain": [
       "3450.0"
      ]
     },
     "execution_count": 31,
     "metadata": {},
     "output_type": "execute_result"
    }
   ],
   "source": [
    "calculate_salary(3000)"
   ]
  },
  {
   "cell_type": "code",
   "execution_count": 32,
   "id": "723bd106-d572-40b9-b922-69538c4c6053",
   "metadata": {},
   "outputs": [
    {
     "data": {
      "text/plain": [
       "4400.0"
      ]
     },
     "execution_count": 32,
     "metadata": {},
     "output_type": "execute_result"
    }
   ],
   "source": [
    "calculate_salary(4000)"
   ]
  },
  {
   "cell_type": "code",
   "execution_count": 33,
   "id": "609018d5-61cd-409d-9ed9-9901bc5d4dc9",
   "metadata": {},
   "outputs": [
    {
     "data": {
      "text/plain": [
       "4500.0"
      ]
     },
     "execution_count": 33,
     "metadata": {},
     "output_type": "execute_result"
    }
   ],
   "source": [
    "calculate_salary(4000) + 100"
   ]
  },
  {
   "cell_type": "markdown",
   "id": "637aa320-a18e-40bb-ba2f-0ebf65c6c883",
   "metadata": {},
   "source": [
    "### FONKSİYONLAR - ARGÜMANLAR VE PARAMETRELER\n"
   ]
  },
  {
   "cell_type": "code",
   "execution_count": 40,
   "id": "c9a87a53-17ad-4fec-bc0d-736665c3c84b",
   "metadata": {},
   "outputs": [],
   "source": [
    "def student_id(name, lastname, age):\n",
    "    print(\"Student name:\", name)\n",
    "    print(\"Student lastname:\", lastname)\n",
    "    print(\"Student age:\", age)"
   ]
  },
  {
   "cell_type": "code",
   "execution_count": 41,
   "id": "93fd65dd-920e-4403-9f2d-6d3c07a0db88",
   "metadata": {},
   "outputs": [
    {
     "name": "stdout",
     "output_type": "stream",
     "text": [
      "Student name: Joseph\n",
      "Student lastname: Rye\n",
      "Student age: 29\n"
     ]
    }
   ],
   "source": [
    "student_id(\"Joseph\", \"Rye\", 29)"
   ]
  },
  {
   "cell_type": "code",
   "execution_count": 42,
   "id": "4a2d2263-dcde-4854-8f71-c4bba9f5946d",
   "metadata": {},
   "outputs": [
    {
     "ename": "TypeError",
     "evalue": "student_id() missing 2 required positional arguments: 'lastname' and 'age'",
     "output_type": "error",
     "traceback": [
      "\u001b[1;31m---------------------------------------------------------------------------\u001b[0m",
      "\u001b[1;31mTypeError\u001b[0m                                 Traceback (most recent call last)",
      "\u001b[1;32m<ipython-input-42-7640ec3ddb33>\u001b[0m in \u001b[0;36m<module>\u001b[1;34m\u001b[0m\n\u001b[1;32m----> 1\u001b[1;33m \u001b[0mstudent_id\u001b[0m\u001b[1;33m(\u001b[0m\u001b[1;34m\"Abraham\"\u001b[0m\u001b[1;33m)\u001b[0m\u001b[1;33m\u001b[0m\u001b[1;33m\u001b[0m\u001b[0m\n\u001b[0m",
      "\u001b[1;31mTypeError\u001b[0m: student_id() missing 2 required positional arguments: 'lastname' and 'age'"
     ]
    }
   ],
   "source": [
    "student_id(\"Abraham\")"
   ]
  },
  {
   "cell_type": "code",
   "execution_count": 43,
   "id": "b6fd6410-5b8c-4550-885b-c0537580f57e",
   "metadata": {},
   "outputs": [],
   "source": [
    "def student_id(name, lastname, age):\n",
    "    print(\"Student name:\", name)\n",
    "    print(\"Student lastname:\", lastname)\n",
    "    print(\"Student age:\", age)"
   ]
  },
  {
   "cell_type": "code",
   "execution_count": 44,
   "id": "10440fa7-56e4-4bd0-bb74-6c6ccd1d55a9",
   "metadata": {},
   "outputs": [
    {
     "name": "stdout",
     "output_type": "stream",
     "text": [
      "Student name: Joseph\n",
      "Student lastname: Rye\n",
      "Student age: 29\n"
     ]
    }
   ],
   "source": [
    "student_id(age = 29, name = \"Joseph\", lastname = \"Rye\")"
   ]
  },
  {
   "cell_type": "code",
   "execution_count": 45,
   "id": "cf7e9e38-5ead-481f-b1ce-c9484a3524ea",
   "metadata": {},
   "outputs": [],
   "source": [
    "def student_id(name, lastname, age = 29):\n",
    "    print(\"Student name:\", name)\n",
    "    print(\"Student lastname:\", lastname)\n",
    "    print(\"Student age:\", age)"
   ]
  },
  {
   "cell_type": "code",
   "execution_count": 46,
   "id": "d6fdde73-9f50-4b8a-a884-87b2f811010a",
   "metadata": {},
   "outputs": [
    {
     "name": "stdout",
     "output_type": "stream",
     "text": [
      "Student name: joseph\n",
      "Student lastname: Rye\n",
      "Student age: 29\n"
     ]
    }
   ],
   "source": [
    "student_id(\"joseph\", \"Rye\")"
   ]
  },
  {
   "cell_type": "code",
   "execution_count": 47,
   "id": "ebbd8bba-a5ff-4c00-aa26-71db9ead948e",
   "metadata": {},
   "outputs": [
    {
     "name": "stdout",
     "output_type": "stream",
     "text": [
      "Student name: Joseph\n",
      "Student lastname: Rye\n",
      "Student age: 32\n"
     ]
    }
   ],
   "source": [
    "student_id(\"Joseph\", \"Rye\", age = 32)"
   ]
  },
  {
   "cell_type": "markdown",
   "id": "0c64b5ac-4c3b-45af-8e60-cbe907dc24d6",
   "metadata": {},
   "source": [
    "### FONKSİYONLAR - ARGÜMANLAR İLE YÜKSEK SEVİYE İŞLEMLER\n"
   ]
  },
  {
   "cell_type": "code",
   "execution_count": 66,
   "id": "38044788-a579-441a-9d44-546b67d420dc",
   "metadata": {},
   "outputs": [],
   "source": [
    "def odd_even(*number):\n",
    "    even = []\n",
    "    odd = []\n",
    "    for i in number:\n",
    "        if i % 2 == 0:\n",
    "            even.append(i)\n",
    "        else:\n",
    "            odd.append(i)\n",
    "    print(even)\n",
    "    print(odd)"
   ]
  },
  {
   "cell_type": "code",
   "execution_count": 67,
   "id": "e9977d0b-2d13-467e-8748-c34dcd462cf2",
   "metadata": {},
   "outputs": [
    {
     "name": "stdout",
     "output_type": "stream",
     "text": [
      "[8, 18, 22, 116, 1256, 14]\n",
      "[1, 5, 9, 15]\n"
     ]
    }
   ],
   "source": [
    "odd_even(1, 5, 8, 9, 15, 18, 22, 116, 1256, 14)"
   ]
  },
  {
   "cell_type": "code",
   "execution_count": 68,
   "id": "cea21e70-b520-4556-aa32-13b6c0fbcf19",
   "metadata": {},
   "outputs": [],
   "source": [
    "def football(**team):\n",
    "    for key, value in team.items():\n",
    "        print(key, \"is in\", value)"
   ]
  },
  {
   "cell_type": "code",
   "execution_count": 72,
   "id": "33782f32-3e67-4db3-b70e-e6c36fc7c08e",
   "metadata": {},
   "outputs": [],
   "source": [
    "dict_example = {\"Arsenal\" : \"England\",\n",
    "                \"Barcelona\" : \"Spain\",\n",
    "                \"Galatasaray\" : \"Turkey\",\n",
    "                \"Inter\" : \"Italy\"}"
   ]
  },
  {
   "cell_type": "code",
   "execution_count": 75,
   "id": "8e467e9e-b592-47f1-b605-a7c8042056a6",
   "metadata": {},
   "outputs": [
    {
     "name": "stdout",
     "output_type": "stream",
     "text": [
      "Arsenal is in England\n",
      "Barcelona is in Spain\n",
      "Galatasaray is in Turkey\n",
      "Inter is in Italy\n"
     ]
    }
   ],
   "source": [
    "football(**dict_example)"
   ]
  },
  {
   "cell_type": "markdown",
   "id": "677fd250-136f-439d-bf77-6b58e36990b6",
   "metadata": {},
   "source": [
    "### FONKSİYONLAR - BUILT IN FONKSİYONLAR – ALL(), ANY()"
   ]
  },
  {
   "cell_type": "code",
   "execution_count": null,
   "id": "50021405-acb1-4130-a6a4-23fd7a62c36a",
   "metadata": {},
   "outputs": [],
   "source": [
    "# all() function"
   ]
  },
  {
   "cell_type": "code",
   "execution_count": 23,
   "id": "52c67e56-ad92-45d2-9f6d-d8d19a18183f",
   "metadata": {},
   "outputs": [],
   "source": [
    "countries = [\"USA\", \"FRANCE\", \"JAPAN\", \"ITALY\"]\n",
    "names = [\"JULIA\", \"AHMET\", \"ABRAHAM\", \"SUSAN\", 0]\n",
    "empty = {}"
   ]
  },
  {
   "cell_type": "code",
   "execution_count": 24,
   "id": "18f29a8e-d5e5-46bc-b550-74279b2b1650",
   "metadata": {},
   "outputs": [
    {
     "name": "stdout",
     "output_type": "stream",
     "text": [
      "True\n",
      "False\n",
      "True\n"
     ]
    }
   ],
   "source": [
    "print(all(countries))\n",
    "print(all(names))\n",
    "print(all(empty))"
   ]
  },
  {
   "cell_type": "code",
   "execution_count": 25,
   "id": "f22f0ea3-9318-4b03-8915-e57abea823cb",
   "metadata": {},
   "outputs": [],
   "source": [
    "# any() function"
   ]
  },
  {
   "cell_type": "code",
   "execution_count": 26,
   "id": "8d3dc12a-886c-4421-9c14-bbac290558b1",
   "metadata": {},
   "outputs": [],
   "source": [
    "countries = [\"USA\", \"FRANCE\", \"JAPAN\", \"ITALY\"]\n",
    "names = [\"JULIA\", \"AHMET\", \"ABRAHAM\", \"SUSAN\", 0]\n",
    "empty = {}"
   ]
  },
  {
   "cell_type": "code",
   "execution_count": 27,
   "id": "b41b087a-9423-4bed-8bdb-111cd9347db9",
   "metadata": {},
   "outputs": [
    {
     "name": "stdout",
     "output_type": "stream",
     "text": [
      "True\n",
      "True\n",
      "False\n"
     ]
    }
   ],
   "source": [
    "print(any(countries))\n",
    "print(any(names))\n",
    "print(any(empty))"
   ]
  },
  {
   "cell_type": "markdown",
   "id": "ef306de8-4901-4778-8ec7-a10aed6e9236",
   "metadata": {},
   "source": [
    "### FONKSİYONLAR - BUILT IN FONKSİYONLAR – MAP()"
   ]
  },
  {
   "cell_type": "code",
   "execution_count": 9,
   "id": "d224497a-c827-4c24-860e-cd9a4c05e12f",
   "metadata": {},
   "outputs": [],
   "source": [
    "phone_brand = [\"ıphone\", \"samsung\", \"huawei\", \"nokia\", \"xiaomi\"]"
   ]
  },
  {
   "cell_type": "code",
   "execution_count": 49,
   "id": "8a8e5fad-386d-47be-945b-ca92e91198d0",
   "metadata": {},
   "outputs": [],
   "source": [
    "def lenght(x):\n",
    "    return len(x)"
   ]
  },
  {
   "cell_type": "code",
   "execution_count": 52,
   "id": "e00c6c48-b608-4305-89bf-02bf6b62234b",
   "metadata": {},
   "outputs": [
    {
     "data": {
      "text/plain": [
       "<map at 0x28ef884af70>"
      ]
     },
     "execution_count": 52,
     "metadata": {},
     "output_type": "execute_result"
    }
   ],
   "source": [
    "map(lenght, phone_brand)"
   ]
  },
  {
   "cell_type": "code",
   "execution_count": 53,
   "id": "29547d6a-557c-4f6b-a242-7ddaf4be2118",
   "metadata": {},
   "outputs": [
    {
     "data": {
      "text/plain": [
       "[6, 7, 6, 5, 6]"
      ]
     },
     "execution_count": 53,
     "metadata": {},
     "output_type": "execute_result"
    }
   ],
   "source": [
    "list(map(lenght, phone_brand))"
   ]
  },
  {
   "cell_type": "code",
   "execution_count": 54,
   "id": "82833b68-31b0-46e7-849a-a3d519d079bc",
   "metadata": {},
   "outputs": [],
   "source": [
    "variable = list(map(lenght, phone_brand))"
   ]
  },
  {
   "cell_type": "code",
   "execution_count": 55,
   "id": "93d29a04-c7f5-4158-9ed2-62050e8bce7b",
   "metadata": {},
   "outputs": [
    {
     "name": "stdout",
     "output_type": "stream",
     "text": [
      "[6, 7, 6, 5, 6]\n"
     ]
    }
   ],
   "source": [
    "print(variable)"
   ]
  },
  {
   "cell_type": "markdown",
   "id": "af2e8c82-021b-4c2b-b34b-0e4862f8d7a7",
   "metadata": {},
   "source": [
    "### FONKSİYONLAR - BUILT IN FONKSİYONLAR – FILTER()"
   ]
  },
  {
   "cell_type": "code",
   "execution_count": 65,
   "id": "ee454391-dfeb-4eb8-8467-7bc4bcdb0906",
   "metadata": {},
   "outputs": [],
   "source": [
    "list1 = [1, 15, 25, 18, 25, 32, 50, 45, 9, 12, 13, 17, 18, 25, 35, 41, 11, 7, 6, 18, 22]"
   ]
  },
  {
   "cell_type": "code",
   "execution_count": 57,
   "id": "d6a6a0ba-9e6e-4eaa-83e3-f6b1fa43bc67",
   "metadata": {},
   "outputs": [],
   "source": [
    "def compare(x):\n",
    "    return x < 20"
   ]
  },
  {
   "cell_type": "code",
   "execution_count": 63,
   "id": "8221a52d-6889-4e0e-86ea-103da8b02497",
   "metadata": {},
   "outputs": [
    {
     "data": {
      "text/plain": [
       "<filter at 0x28ef9e56940>"
      ]
     },
     "execution_count": 63,
     "metadata": {},
     "output_type": "execute_result"
    }
   ],
   "source": [
    "filter(compare, list1)"
   ]
  },
  {
   "cell_type": "code",
   "execution_count": 61,
   "id": "f835b08e-de92-462a-a0a1-66c901056ef0",
   "metadata": {},
   "outputs": [
    {
     "data": {
      "text/plain": [
       "[1, 15, 18, 9, 12, 13, 17, 18, 11, 7, 6, 18]"
      ]
     },
     "execution_count": 61,
     "metadata": {},
     "output_type": "execute_result"
    }
   ],
   "source": [
    "list(filter(compare, list1))"
   ]
  },
  {
   "cell_type": "code",
   "execution_count": 62,
   "id": "be02e715-4b97-46fe-8018-6902483713b8",
   "metadata": {},
   "outputs": [],
   "source": [
    "variable = list(filter(compare, list1))"
   ]
  },
  {
   "cell_type": "code",
   "execution_count": 64,
   "id": "3db051b6-b3a3-469a-80e6-518049ff2e83",
   "metadata": {},
   "outputs": [
    {
     "name": "stdout",
     "output_type": "stream",
     "text": [
      "[1, 15, 18, 9, 12, 13, 17, 18, 11, 7, 6, 18]\n"
     ]
    }
   ],
   "source": [
    "print(variable)"
   ]
  },
  {
   "cell_type": "markdown",
   "id": "0e8f5c5f-85c8-40fe-8ca0-14e49d9902ab",
   "metadata": {},
   "source": [
    "### FONKSİYONLAR - BUILT IN FONKSİYONLAR – ZIP()"
   ]
  },
  {
   "cell_type": "code",
   "execution_count": 73,
   "id": "2c0f4e75-06da-4b7e-b2ba-f06e85747cd5",
   "metadata": {},
   "outputs": [],
   "source": [
    "list1 = [\"a\", \"b\", \"c\", \"d\", \"e\"]\n",
    "list2 = [1, 2, 3, 4]"
   ]
  },
  {
   "cell_type": "code",
   "execution_count": 74,
   "id": "ab4a53dd-0e9f-4c8b-82d5-1240c65707ef",
   "metadata": {},
   "outputs": [
    {
     "data": {
      "text/plain": [
       "<zip at 0x28ef9863e00>"
      ]
     },
     "execution_count": 74,
     "metadata": {},
     "output_type": "execute_result"
    }
   ],
   "source": [
    "zip(list1 , list2)"
   ]
  },
  {
   "cell_type": "code",
   "execution_count": 75,
   "id": "a9a0d897-6b49-4be1-bd09-caf54894fdee",
   "metadata": {},
   "outputs": [
    {
     "name": "stdout",
     "output_type": "stream",
     "text": [
      "[('a', 1), ('b', 2), ('c', 3), ('d', 4)]\n"
     ]
    }
   ],
   "source": [
    "print(list(zip(list1 , list2)))"
   ]
  },
  {
   "cell_type": "markdown",
   "id": "281e9a25-1ab2-4f0c-ad07-68a66f38b891",
   "metadata": {},
   "source": [
    "### FONKSİYONLAR - BUILT IN FONKSİYONLAR – enumerate()"
   ]
  },
  {
   "cell_type": "code",
   "execution_count": 76,
   "id": "01757c99-958e-46bd-b037-a9099d6aac1a",
   "metadata": {},
   "outputs": [],
   "source": [
    "list_example = [\"egypt\", \"denmark\", \"sweden\", \"norway\", \"turkey\"]"
   ]
  },
  {
   "cell_type": "code",
   "execution_count": 86,
   "id": "41db6f7f-e82d-4333-a20f-2eca12e41b99",
   "metadata": {},
   "outputs": [
    {
     "data": {
      "text/plain": [
       "<enumerate at 0x28ef9921b80>"
      ]
     },
     "execution_count": 86,
     "metadata": {},
     "output_type": "execute_result"
    }
   ],
   "source": [
    "enumerate(list_example)"
   ]
  },
  {
   "cell_type": "code",
   "execution_count": 89,
   "id": "722c4b4d-f671-4a75-9584-5e10fd8c4b89",
   "metadata": {},
   "outputs": [
    {
     "name": "stdout",
     "output_type": "stream",
     "text": [
      "[(0, 'egypt'), (1, 'denmark'), (2, 'sweden'), (3, 'norway'), (4, 'turkey')]\n"
     ]
    }
   ],
   "source": [
    "print(list(enumerate(list_example)))"
   ]
  },
  {
   "cell_type": "code",
   "execution_count": 90,
   "id": "60e6cf39-e84a-4f70-b763-681314028f5d",
   "metadata": {},
   "outputs": [
    {
     "name": "stdout",
     "output_type": "stream",
     "text": [
      "{2: 'egypt', 3: 'denmark', 4: 'sweden', 5: 'norway', 6: 'turkey'}\n"
     ]
    }
   ],
   "source": [
    "print(dict(enumerate(list_example, start = 2)))"
   ]
  },
  {
   "cell_type": "markdown",
   "id": "5d6fa24b-0b34-477e-b1d5-45e19a089174",
   "metadata": {},
   "source": [
    "### BUILT-IN FONKSİYONLAR – max(), min()"
   ]
  },
  {
   "cell_type": "code",
   "execution_count": 91,
   "id": "6f4874f5-be49-4466-a73c-339ad3b54126",
   "metadata": {},
   "outputs": [],
   "source": [
    "number_list = [-50, 60, 40, 128, 196, -2, -55, 67, 156, 100, 6, -38]"
   ]
  },
  {
   "cell_type": "code",
   "execution_count": 92,
   "id": "d3444953-11ff-4749-a5c0-561b22e58c10",
   "metadata": {},
   "outputs": [],
   "source": [
    "largest_number = max(number_list)"
   ]
  },
  {
   "cell_type": "code",
   "execution_count": 93,
   "id": "19051f16-8ffe-4c46-966f-d1162ff51f34",
   "metadata": {},
   "outputs": [
    {
     "name": "stdout",
     "output_type": "stream",
     "text": [
      "196\n"
     ]
    }
   ],
   "source": [
    "print(largest_number)"
   ]
  },
  {
   "cell_type": "code",
   "execution_count": 94,
   "id": "5136bd4c-3b7e-4111-b0e9-5a5817131674",
   "metadata": {},
   "outputs": [
    {
     "data": {
      "text/plain": [
       "-55"
      ]
     },
     "execution_count": 94,
     "metadata": {},
     "output_type": "execute_result"
    }
   ],
   "source": [
    "min(number_list)"
   ]
  },
  {
   "cell_type": "markdown",
   "id": "8ced786f-f471-447d-899a-3cc0db98169d",
   "metadata": {},
   "source": [
    "### BUILT-IN FONKSİYONLAR – sum()"
   ]
  },
  {
   "cell_type": "code",
   "execution_count": 95,
   "id": "72e62d8d-667e-4ca7-a6f0-ac94f7b1b0cc",
   "metadata": {},
   "outputs": [],
   "source": [
    "list1 = [10, 5, -20, 15.8]"
   ]
  },
  {
   "cell_type": "code",
   "execution_count": 99,
   "id": "da96d236-70c4-4e9b-ad58-ad7bb64d048c",
   "metadata": {},
   "outputs": [
    {
     "data": {
      "text/plain": [
       "10.8"
      ]
     },
     "execution_count": 99,
     "metadata": {},
     "output_type": "execute_result"
    }
   ],
   "source": [
    "sum(list1)"
   ]
  },
  {
   "cell_type": "markdown",
   "id": "48604556-45ae-4894-9634-09647d1d2ca4",
   "metadata": {},
   "source": [
    "### BUILT-IN FONKSİYONLAR – round()"
   ]
  },
  {
   "cell_type": "code",
   "execution_count": 128,
   "id": "ee7da96f-805d-416b-a192-5ef60c73a771",
   "metadata": {},
   "outputs": [
    {
     "name": "stdout",
     "output_type": "stream",
     "text": [
      "15\n"
     ]
    }
   ],
   "source": [
    "print(round(15))"
   ]
  },
  {
   "cell_type": "code",
   "execution_count": 129,
   "id": "f5492ad2-7c33-4250-b78d-35c15ea671bb",
   "metadata": {},
   "outputs": [
    {
     "name": "stdout",
     "output_type": "stream",
     "text": [
      "12\n"
     ]
    }
   ],
   "source": [
    "print(round(12.5))"
   ]
  },
  {
   "cell_type": "code",
   "execution_count": 130,
   "id": "687f5ca6-142c-4987-a16d-f36f069fcfbc",
   "metadata": {},
   "outputs": [
    {
     "name": "stdout",
     "output_type": "stream",
     "text": [
      "13\n"
     ]
    }
   ],
   "source": [
    "print(round(12.6))"
   ]
  },
  {
   "cell_type": "code",
   "execution_count": 134,
   "id": "142b09b0-8b6c-4bb6-89ec-390eb5cc7d20",
   "metadata": {},
   "outputs": [
    {
     "name": "stdout",
     "output_type": "stream",
     "text": [
      "5.67\n"
     ]
    }
   ],
   "source": [
    "print(round(5.665, ndigits = 2))"
   ]
  },
  {
   "cell_type": "markdown",
   "id": "12a73daf-2b85-41f2-8fa2-ba43addf492b",
   "metadata": {},
   "source": [
    "### FONKSİYONLAR - Lambda() FONKSİYONU\n"
   ]
  },
  {
   "cell_type": "code",
   "execution_count": 140,
   "id": "7ebc0ca4-c415-4f85-b5e9-1fdd46029e1c",
   "metadata": {},
   "outputs": [],
   "source": [
    "def cube(x):\n",
    "    return x ** 3"
   ]
  },
  {
   "cell_type": "code",
   "execution_count": 141,
   "id": "4c4fa32c-2bff-47c5-a25c-6d9644fb21a4",
   "metadata": {},
   "outputs": [
    {
     "data": {
      "text/plain": [
       "27"
      ]
     },
     "execution_count": 141,
     "metadata": {},
     "output_type": "execute_result"
    }
   ],
   "source": [
    "cube(3)"
   ]
  },
  {
   "cell_type": "code",
   "execution_count": 146,
   "id": "c35e16b0-42a2-49aa-909e-1d2365ba13b3",
   "metadata": {},
   "outputs": [
    {
     "data": {
      "text/plain": [
       "27"
      ]
     },
     "execution_count": 146,
     "metadata": {},
     "output_type": "execute_result"
    }
   ],
   "source": [
    "(lambda x: x ** 3)(3)"
   ]
  },
  {
   "cell_type": "code",
   "execution_count": 147,
   "id": "a4c82711-c160-42e6-b077-08f19868f503",
   "metadata": {},
   "outputs": [],
   "source": [
    "example = (lambda x: x ** 3)"
   ]
  },
  {
   "cell_type": "code",
   "execution_count": 152,
   "id": "d1deaa24-b013-4f7e-9cc4-d22d2246c25d",
   "metadata": {},
   "outputs": [
    {
     "data": {
      "text/plain": [
       "27"
      ]
     },
     "execution_count": 152,
     "metadata": {},
     "output_type": "execute_result"
    }
   ],
   "source": [
    "example(3)"
   ]
  },
  {
   "cell_type": "code",
   "execution_count": 169,
   "id": "f076540a-16a8-4223-b488-66390e0707f6",
   "metadata": {},
   "outputs": [],
   "source": [
    "average = lambda x, y: (x + y) / 2"
   ]
  },
  {
   "cell_type": "code",
   "execution_count": 170,
   "id": "d96289ef-523c-4ff6-be9b-448f3df9eb03",
   "metadata": {},
   "outputs": [
    {
     "data": {
      "text/plain": [
       "4.0"
      ]
     },
     "execution_count": 170,
     "metadata": {},
     "output_type": "execute_result"
    }
   ],
   "source": [
    "average(2,6)"
   ]
  },
  {
   "cell_type": "code",
   "execution_count": 155,
   "id": "d04790e7-4bd3-402d-8940-64ab10fa3d8a",
   "metadata": {},
   "outputs": [],
   "source": [
    "odd_even = lambda x: \"even\" if x % 2 == 0 else \"odd\""
   ]
  },
  {
   "cell_type": "code",
   "execution_count": 160,
   "id": "c26de166-d151-473a-bf56-61a2b5826a9d",
   "metadata": {},
   "outputs": [
    {
     "data": {
      "text/plain": [
       "'odd'"
      ]
     },
     "execution_count": 160,
     "metadata": {},
     "output_type": "execute_result"
    }
   ],
   "source": [
    "odd_even(1)"
   ]
  },
  {
   "cell_type": "code",
   "execution_count": 158,
   "id": "05721239-4015-4897-9b06-06271128cc2a",
   "metadata": {},
   "outputs": [
    {
     "data": {
      "text/plain": [
       "'even'"
      ]
     },
     "execution_count": 158,
     "metadata": {},
     "output_type": "execute_result"
    }
   ],
   "source": [
    "odd_even(10)"
   ]
  },
  {
   "cell_type": "code",
   "execution_count": 161,
   "id": "e45fc320-c881-43b5-b254-fc347de4ade0",
   "metadata": {},
   "outputs": [],
   "source": [
    "list1 = [1, 2, 10, 15, 28]"
   ]
  },
  {
   "cell_type": "code",
   "execution_count": 164,
   "id": "44e00bda-b597-4475-81d0-98a912436490",
   "metadata": {},
   "outputs": [
    {
     "name": "stdout",
     "output_type": "stream",
     "text": [
      "1 : odd\n",
      "2 : even\n",
      "10 : even\n",
      "15 : odd\n",
      "28 : even\n"
     ]
    }
   ],
   "source": [
    "for i in list1:\n",
    "    print(i, \":\", (lambda x: \"even\" if x % 2 == 0 else \"odd\")(i))"
   ]
  },
  {
   "cell_type": "code",
   "execution_count": 165,
   "id": "20a1100e-50bb-46eb-891f-4adb8656601c",
   "metadata": {},
   "outputs": [
    {
     "data": {
      "text/plain": [
       "<map at 0x28efa31aca0>"
      ]
     },
     "execution_count": 165,
     "metadata": {},
     "output_type": "execute_result"
    }
   ],
   "source": [
    "map(lambda x: \"even\" if x % 2 == 0 else \"odd\", list1)"
   ]
  },
  {
   "cell_type": "code",
   "execution_count": 166,
   "id": "838e595c-9f09-41b0-bb50-d13a458a7730",
   "metadata": {
    "scrolled": true
   },
   "outputs": [
    {
     "data": {
      "text/plain": [
       "['odd', 'even', 'even', 'odd', 'even']"
      ]
     },
     "execution_count": 166,
     "metadata": {},
     "output_type": "execute_result"
    }
   ],
   "source": [
    "list(map(lambda x: \"even\" if x % 2 == 0 else \"odd\", list1))"
   ]
  },
  {
   "cell_type": "markdown",
   "id": "0014c332",
   "metadata": {},
   "source": [
    "### FONKSİYONLAR - LOCAL VE GLOBAL DEĞİŞKENLER\n"
   ]
  },
  {
   "cell_type": "code",
   "execution_count": 2,
   "id": "c8025aec",
   "metadata": {},
   "outputs": [],
   "source": [
    "a = 15\n",
    "b = 5"
   ]
  },
  {
   "cell_type": "code",
   "execution_count": 3,
   "id": "e91c3cdf",
   "metadata": {},
   "outputs": [],
   "source": [
    "def division(a, b):\n",
    "    return(a / b)"
   ]
  },
  {
   "cell_type": "code",
   "execution_count": 4,
   "id": "e1715ad2",
   "metadata": {},
   "outputs": [
    {
     "data": {
      "text/plain": [
       "2.0"
      ]
     },
     "execution_count": 4,
     "metadata": {},
     "output_type": "execute_result"
    }
   ],
   "source": [
    "division(8, 4)"
   ]
  },
  {
   "cell_type": "code",
   "execution_count": 5,
   "id": "974839bb",
   "metadata": {},
   "outputs": [
    {
     "name": "stdout",
     "output_type": "stream",
     "text": [
      "15\n",
      "5\n"
     ]
    }
   ],
   "source": [
    "print(a)\n",
    "print(b)"
   ]
  },
  {
   "cell_type": "markdown",
   "id": "898ed6f7-e405-4243-9f43-bd8ecd00500e",
   "metadata": {},
   "source": [
    "### SINIFLAR(CLASS) - SINIFLARIN ÖZELLİKLERİ"
   ]
  },
  {
   "cell_type": "code",
   "execution_count": 25,
   "id": "8a685b99-8fdc-4133-b858-818c5a2d46d4",
   "metadata": {},
   "outputs": [],
   "source": [
    "class data_scientist():\n",
    "    extra = \"yes\"\n",
    "    prog_lang = []\n",
    "    experience = 0"
   ]
  },
  {
   "cell_type": "code",
   "execution_count": 26,
   "id": "85119da6-1fd4-4fe7-bc38-88352ae7d502",
   "metadata": {},
   "outputs": [
    {
     "data": {
      "text/plain": [
       "0"
      ]
     },
     "execution_count": 26,
     "metadata": {},
     "output_type": "execute_result"
    }
   ],
   "source": [
    "data_scientist.experience"
   ]
  },
  {
   "cell_type": "code",
   "execution_count": 27,
   "id": "69dcca53-9fb4-437b-a594-f223472b4c20",
   "metadata": {},
   "outputs": [
    {
     "data": {
      "text/plain": [
       "[]"
      ]
     },
     "execution_count": 27,
     "metadata": {},
     "output_type": "execute_result"
    }
   ],
   "source": [
    "data_scientist.prog_lang"
   ]
  },
  {
   "cell_type": "code",
   "execution_count": 28,
   "id": "8d1246fd-cbd3-461e-afd3-e8669cd8aa38",
   "metadata": {},
   "outputs": [],
   "source": [
    "data_scientist.experience = 1"
   ]
  },
  {
   "cell_type": "code",
   "execution_count": 29,
   "id": "7e446871-1351-41ca-8263-c24dcc9c7843",
   "metadata": {},
   "outputs": [
    {
     "data": {
      "text/plain": [
       "1"
      ]
     },
     "execution_count": 29,
     "metadata": {},
     "output_type": "execute_result"
    }
   ],
   "source": [
    "data_scientist.experience"
   ]
  },
  {
   "cell_type": "markdown",
   "id": "aa145499-c713-4b3e-8ab9-206b660c3102",
   "metadata": {},
   "source": [
    "### SINIFLAR(CLASS) - SINIFLARIN ÖRNEKLEMESİ(INSTANTIATION)"
   ]
  },
  {
   "cell_type": "code",
   "execution_count": 54,
   "id": "c01e842a-6b10-4599-91e2-94bb7353bda1",
   "metadata": {},
   "outputs": [],
   "source": [
    "class data_scientist():\n",
    "    extra = \"yes\"\n",
    "    prog_lang = []\n",
    "    experience = 0"
   ]
  },
  {
   "cell_type": "code",
   "execution_count": 55,
   "id": "ed18f61b-0531-41aa-a402-f31c516a2ce2",
   "metadata": {},
   "outputs": [],
   "source": [
    "joseph = data_scientist()"
   ]
  },
  {
   "cell_type": "code",
   "execution_count": 56,
   "id": "9b66b071-2c92-4ac2-a90a-e10d4d2fc672",
   "metadata": {},
   "outputs": [
    {
     "data": {
      "text/plain": [
       "__main__.data_scientist"
      ]
     },
     "execution_count": 56,
     "metadata": {},
     "output_type": "execute_result"
    }
   ],
   "source": [
    "type(data_scientist())"
   ]
  },
  {
   "cell_type": "code",
   "execution_count": 57,
   "id": "e4992dab-9528-4000-b409-563504115add",
   "metadata": {},
   "outputs": [
    {
     "data": {
      "text/plain": [
       "__main__.data_scientist"
      ]
     },
     "execution_count": 57,
     "metadata": {},
     "output_type": "execute_result"
    }
   ],
   "source": [
    "type(joseph)"
   ]
  },
  {
   "cell_type": "code",
   "execution_count": 58,
   "id": "9f2a21d3-139f-489d-bfb5-efd32112ea84",
   "metadata": {},
   "outputs": [
    {
     "data": {
      "text/plain": [
       "'yes'"
      ]
     },
     "execution_count": 58,
     "metadata": {},
     "output_type": "execute_result"
    }
   ],
   "source": [
    "joseph.extra"
   ]
  },
  {
   "cell_type": "code",
   "execution_count": 59,
   "id": "327d4c61-4618-4cbe-bcd2-4ef5470c2ce8",
   "metadata": {},
   "outputs": [
    {
     "data": {
      "text/plain": [
       "0"
      ]
     },
     "execution_count": 59,
     "metadata": {},
     "output_type": "execute_result"
    }
   ],
   "source": [
    "joseph.experience"
   ]
  },
  {
   "cell_type": "code",
   "execution_count": 60,
   "id": "63716788-37dc-4db8-b497-6e63aa546e97",
   "metadata": {},
   "outputs": [],
   "source": [
    "joseph.prog_lang.append(\"Python\")\n",
    "joseph.prog_lang.append(\"Sql\")\n",
    "joseph.prog_lang.append(\"R\")"
   ]
  },
  {
   "cell_type": "code",
   "execution_count": 61,
   "id": "21115c12-09db-4ea3-95a5-6b55dd9b362f",
   "metadata": {},
   "outputs": [
    {
     "data": {
      "text/plain": [
       "['Python', 'Sql', 'R']"
      ]
     },
     "execution_count": 61,
     "metadata": {},
     "output_type": "execute_result"
    }
   ],
   "source": [
    "joseph.prog_lang"
   ]
  },
  {
   "cell_type": "code",
   "execution_count": 62,
   "id": "f0b46c72-1ef8-4a14-8824-b15432a49c4b",
   "metadata": {},
   "outputs": [],
   "source": [
    "alex = data_scientist()"
   ]
  },
  {
   "cell_type": "code",
   "execution_count": 63,
   "id": "6ea1c86a-4b70-4c8c-a3c0-937d046af364",
   "metadata": {},
   "outputs": [
    {
     "data": {
      "text/plain": [
       "'yes'"
      ]
     },
     "execution_count": 63,
     "metadata": {},
     "output_type": "execute_result"
    }
   ],
   "source": [
    "alex.extra"
   ]
  },
  {
   "cell_type": "code",
   "execution_count": 64,
   "id": "ecba4cdc-84ff-4e9c-b2e4-24208122acd3",
   "metadata": {},
   "outputs": [
    {
     "data": {
      "text/plain": [
       "['Python', 'Sql', 'R']"
      ]
     },
     "execution_count": 64,
     "metadata": {},
     "output_type": "execute_result"
    }
   ],
   "source": [
    "alex.prog_lang"
   ]
  },
  {
   "cell_type": "markdown",
   "id": "66e74169-14b0-444a-963c-faced0931529",
   "metadata": {},
   "source": [
    "### SINIFLAR(CLASS) - ÖRNEKLEMLERİN ÖZELLİKLERİ\n"
   ]
  },
  {
   "cell_type": "code",
   "execution_count": 67,
   "id": "6623ee8a-ffa6-4d76-bdf3-bd464ca8383a",
   "metadata": {},
   "outputs": [],
   "source": [
    "class data_scientist():\n",
    "    def __init__(self):\n",
    "        self.extra = \"yes\"\n",
    "        self.prog_lang = []\n",
    "        self.experience = 0"
   ]
  },
  {
   "cell_type": "code",
   "execution_count": 68,
   "id": "7653250b-0c57-469e-90ce-d86cfc90145f",
   "metadata": {},
   "outputs": [],
   "source": [
    "joseph = data_scientist()"
   ]
  },
  {
   "cell_type": "code",
   "execution_count": 69,
   "id": "61a9dbb5-6a01-4c21-be55-7d2f86b24154",
   "metadata": {},
   "outputs": [
    {
     "data": {
      "text/plain": [
       "[]"
      ]
     },
     "execution_count": 69,
     "metadata": {},
     "output_type": "execute_result"
    }
   ],
   "source": [
    "joseph.prog_lang"
   ]
  },
  {
   "cell_type": "code",
   "execution_count": 70,
   "id": "ecf72775-dfb8-45f2-94fc-377fd8f1160c",
   "metadata": {},
   "outputs": [],
   "source": [
    "alex = data_scientist()"
   ]
  },
  {
   "cell_type": "code",
   "execution_count": 71,
   "id": "65137c5c-c939-4e8e-b399-9fa7ffca5c4c",
   "metadata": {},
   "outputs": [
    {
     "data": {
      "text/plain": [
       "[]"
      ]
     },
     "execution_count": 71,
     "metadata": {},
     "output_type": "execute_result"
    }
   ],
   "source": [
    "alex.prog_lang"
   ]
  },
  {
   "cell_type": "code",
   "execution_count": 72,
   "id": "1ba4d5d6-6a0b-4730-bf5e-7e57090e1940",
   "metadata": {},
   "outputs": [],
   "source": [
    "joseph.prog_lang.append(\"Sql\")"
   ]
  },
  {
   "cell_type": "code",
   "execution_count": 73,
   "id": "50fc4ff9-e0e7-40ef-8a36-a35052dd8f26",
   "metadata": {},
   "outputs": [
    {
     "data": {
      "text/plain": [
       "['Sql']"
      ]
     },
     "execution_count": 73,
     "metadata": {},
     "output_type": "execute_result"
    }
   ],
   "source": [
    "joseph.prog_lang"
   ]
  },
  {
   "cell_type": "code",
   "execution_count": 74,
   "id": "b2a9b34f-a013-4557-90a4-004274e74ebf",
   "metadata": {},
   "outputs": [
    {
     "data": {
      "text/plain": [
       "[]"
      ]
     },
     "execution_count": 74,
     "metadata": {},
     "output_type": "execute_result"
    }
   ],
   "source": [
    "alex.prog_lang"
   ]
  },
  {
   "cell_type": "code",
   "execution_count": 75,
   "id": "88b42f2c-380f-4e02-a13d-d846b7552b4e",
   "metadata": {},
   "outputs": [],
   "source": [
    "alex.prog_lang.append(\"Python\")"
   ]
  },
  {
   "cell_type": "code",
   "execution_count": 80,
   "id": "76244e9d-07ab-44a3-a55f-893487df073a",
   "metadata": {},
   "outputs": [
    {
     "data": {
      "text/plain": [
       "['Python']"
      ]
     },
     "execution_count": 80,
     "metadata": {},
     "output_type": "execute_result"
    }
   ],
   "source": [
    "alex.prog_lang"
   ]
  },
  {
   "cell_type": "code",
   "execution_count": 78,
   "id": "2388365a-827d-496b-aa3b-072292f44ba4",
   "metadata": {},
   "outputs": [
    {
     "ename": "AttributeError",
     "evalue": "type object 'data_scientist' has no attribute 'prog_lang'",
     "output_type": "error",
     "traceback": [
      "\u001b[1;31m---------------------------------------------------------------------------\u001b[0m",
      "\u001b[1;31mAttributeError\u001b[0m                            Traceback (most recent call last)",
      "\u001b[1;32m<ipython-input-78-167e9058bb97>\u001b[0m in \u001b[0;36m<module>\u001b[1;34m\u001b[0m\n\u001b[1;32m----> 1\u001b[1;33m \u001b[0mdata_scientist\u001b[0m\u001b[1;33m.\u001b[0m\u001b[0mprog_lang\u001b[0m\u001b[1;33m\u001b[0m\u001b[1;33m\u001b[0m\u001b[0m\n\u001b[0m",
      "\u001b[1;31mAttributeError\u001b[0m: type object 'data_scientist' has no attribute 'prog_lang'"
     ]
    }
   ],
   "source": [
    "data_scientist.prog_lang"
   ]
  },
  {
   "cell_type": "code",
   "execution_count": 82,
   "id": "468495a8-ab43-41e1-a746-cfbee47468cb",
   "metadata": {},
   "outputs": [],
   "source": [
    "class data_scientist():\n",
    "    extra = \"yes\"\n",
    "    prog_lang = [\"Python\", \"Sql\", \"R\", \"C++\"]\n",
    "    experience = 0\n",
    "    def __init__(self):\n",
    "        self.extra = \"yes\"\n",
    "        self.prog_lang = []\n",
    "        self.experience = 0"
   ]
  },
  {
   "cell_type": "code",
   "execution_count": 83,
   "id": "6ebe923c-e7af-4a23-98fc-a782c600342b",
   "metadata": {},
   "outputs": [
    {
     "data": {
      "text/plain": [
       "['Python', 'Sql', 'R', 'C++']"
      ]
     },
     "execution_count": 83,
     "metadata": {},
     "output_type": "execute_result"
    }
   ],
   "source": [
    "data_scientist.prog_lang"
   ]
  },
  {
   "cell_type": "code",
   "execution_count": 84,
   "id": "2e81f783-9b3e-4c58-a297-048cde2d31d2",
   "metadata": {},
   "outputs": [
    {
     "data": {
      "text/plain": [
       "['Sql']"
      ]
     },
     "execution_count": 84,
     "metadata": {},
     "output_type": "execute_result"
    }
   ],
   "source": [
    "joseph.prog_lang"
   ]
  },
  {
   "cell_type": "code",
   "execution_count": 85,
   "id": "aef98ced-5ec9-47ec-b765-99cb2dc3f71a",
   "metadata": {},
   "outputs": [
    {
     "data": {
      "text/plain": [
       "['Python']"
      ]
     },
     "execution_count": 85,
     "metadata": {},
     "output_type": "execute_result"
    }
   ],
   "source": [
    "alex.prog_lang"
   ]
  },
  {
   "cell_type": "markdown",
   "id": "6e13d545-1dcb-44a3-b65b-49773fc3dd57",
   "metadata": {},
   "source": [
    "### SINIFLAR(CLASS) - SINIF İÇİNDE FONKSİYON YAZMA\n"
   ]
  },
  {
   "cell_type": "code",
   "execution_count": 9,
   "id": "e2e2f944-60e7-4518-8328-b53b49dd5770",
   "metadata": {},
   "outputs": [],
   "source": [
    "class data_scientist():\n",
    "    extra = \"yes\"\n",
    "    prog_lang = [\"Python\", \"Sql\", \"R\", \"C++\"]\n",
    "    experience = 0\n",
    "    def __init__(self):\n",
    "        self.extra = \"yes\"\n",
    "        self.prog_lang = []\n",
    "        self.experience = 0\n",
    "    def add_language(self, language):\n",
    "        self.prog_lang.append(language)"
   ]
  },
  {
   "cell_type": "code",
   "execution_count": 10,
   "id": "866cb8d1-0540-4e5c-8e7b-02cdf64b5093",
   "metadata": {},
   "outputs": [
    {
     "data": {
      "text/plain": [
       "['__class__',\n",
       " '__delattr__',\n",
       " '__dict__',\n",
       " '__dir__',\n",
       " '__doc__',\n",
       " '__eq__',\n",
       " '__format__',\n",
       " '__ge__',\n",
       " '__getattribute__',\n",
       " '__gt__',\n",
       " '__hash__',\n",
       " '__init__',\n",
       " '__init_subclass__',\n",
       " '__le__',\n",
       " '__lt__',\n",
       " '__module__',\n",
       " '__ne__',\n",
       " '__new__',\n",
       " '__reduce__',\n",
       " '__reduce_ex__',\n",
       " '__repr__',\n",
       " '__setattr__',\n",
       " '__sizeof__',\n",
       " '__str__',\n",
       " '__subclasshook__',\n",
       " '__weakref__',\n",
       " 'add_language',\n",
       " 'experience',\n",
       " 'extra',\n",
       " 'prog_lang']"
      ]
     },
     "execution_count": 10,
     "metadata": {},
     "output_type": "execute_result"
    }
   ],
   "source": [
    "dir(data_scientist)"
   ]
  },
  {
   "cell_type": "code",
   "execution_count": 11,
   "id": "6b75ea49-948d-48f1-9941-d03aa522a143",
   "metadata": {},
   "outputs": [],
   "source": [
    "abraham = data_scientist()"
   ]
  },
  {
   "cell_type": "code",
   "execution_count": 12,
   "id": "aba111ff-bf7e-469a-849e-df84f5971a67",
   "metadata": {},
   "outputs": [
    {
     "data": {
      "text/plain": [
       "[]"
      ]
     },
     "execution_count": 12,
     "metadata": {},
     "output_type": "execute_result"
    }
   ],
   "source": [
    "abraham.prog_lang"
   ]
  },
  {
   "cell_type": "code",
   "execution_count": 13,
   "id": "5f524342-1106-4b8a-a21c-2786ef51eb9c",
   "metadata": {},
   "outputs": [],
   "source": [
    "data_scientist.add_language(abraham, \"Python\")"
   ]
  },
  {
   "cell_type": "code",
   "execution_count": 14,
   "id": "031726b1-c0dc-446d-8a02-0dd2b4adec0e",
   "metadata": {},
   "outputs": [
    {
     "data": {
      "text/plain": [
       "['Python']"
      ]
     },
     "execution_count": 14,
     "metadata": {},
     "output_type": "execute_result"
    }
   ],
   "source": [
    "abraham.prog_lang"
   ]
  },
  {
   "cell_type": "code",
   "execution_count": 15,
   "id": "450525a6-1e2b-4ef8-9ed2-24552f166827",
   "metadata": {},
   "outputs": [
    {
     "data": {
      "text/plain": [
       "['Python', 'Sql', 'R', 'C++']"
      ]
     },
     "execution_count": 15,
     "metadata": {},
     "output_type": "execute_result"
    }
   ],
   "source": [
    "data_scientist.prog_lang"
   ]
  },
  {
   "cell_type": "markdown",
   "id": "659b0335-cabe-4f90-83c3-0a720ff57d5d",
   "metadata": {},
   "source": [
    "### SINIFLAR(CLASS) -  MİRAS(INHERITANCE) YAPILARI\n"
   ]
  },
  {
   "cell_type": "code",
   "execution_count": 71,
   "id": "888a9961-6ad7-48f1-83b7-2aec907d7423",
   "metadata": {},
   "outputs": [],
   "source": [
    "class vehicles():\n",
    "    brand = \"\"\n",
    "    model_year = \"\"\n",
    "    color = \"\""
   ]
  },
  {
   "cell_type": "code",
   "execution_count": 72,
   "id": "0ca63cf0-b6a2-472b-80cd-8da099081265",
   "metadata": {},
   "outputs": [],
   "source": [
    "class cars():\n",
    "    def __init__(self):\n",
    "        self.model = \"\""
   ]
  },
  {
   "cell_type": "code",
   "execution_count": 73,
   "id": "28e6654d-0d50-4b28-9aa0-c313bd8ec72e",
   "metadata": {},
   "outputs": [],
   "source": [
    "class motorcycles():\n",
    "    def __init__(self):\n",
    "        self.kind = \"\""
   ]
  },
  {
   "cell_type": "code",
   "execution_count": 74,
   "id": "49ee6f7e-d62e-436b-966d-2b3aa0f1de6c",
   "metadata": {},
   "outputs": [],
   "source": [
    "car1 = cars()"
   ]
  },
  {
   "cell_type": "code",
   "execution_count": 59,
   "id": "acd1e806-c258-4d2e-ba68-a19d82e5d2c1",
   "metadata": {},
   "outputs": [
    {
     "data": {
      "text/plain": [
       "''"
      ]
     },
     "execution_count": 59,
     "metadata": {},
     "output_type": "execute_result"
    }
   ],
   "source": [
    "car1.model"
   ]
  },
  {
   "cell_type": "code",
   "execution_count": 75,
   "id": "90b25df3-9302-4a4d-8691-15476bbf8377",
   "metadata": {},
   "outputs": [],
   "source": [
    "class cars(vehicles):\n",
    "    def __init__(self):\n",
    "        self.model = []"
   ]
  },
  {
   "cell_type": "code",
   "execution_count": 76,
   "id": "844abf81-dcfe-4518-b40d-d33ddadf1559",
   "metadata": {},
   "outputs": [],
   "source": [
    "car1 = cars()"
   ]
  },
  {
   "cell_type": "code",
   "execution_count": 47,
   "id": "1f220b19-854d-4e43-bb30-e536048c1b08",
   "metadata": {},
   "outputs": [
    {
     "data": {
      "text/plain": [
       "'ali'"
      ]
     },
     "execution_count": 47,
     "metadata": {},
     "output_type": "execute_result"
    }
   ],
   "source": [
    "car1."
   ]
  },
  {
   "cell_type": "code",
   "execution_count": 62,
   "id": "13fdd257-5208-40cf-8aa5-49be19ec49a8",
   "metadata": {},
   "outputs": [
    {
     "data": {
      "text/plain": [
       "''"
      ]
     },
     "execution_count": 62,
     "metadata": {},
     "output_type": "execute_result"
    }
   ],
   "source": [
    "car1.brand"
   ]
  },
  {
   "cell_type": "code",
   "execution_count": 63,
   "id": "74123a74-f11d-42c9-acc5-5e35be06f74e",
   "metadata": {},
   "outputs": [],
   "source": [
    "car1.brand = \"ferrari\""
   ]
  },
  {
   "cell_type": "code",
   "execution_count": 64,
   "id": "20d7e332-bf9c-4ab3-9e59-85557932d641",
   "metadata": {},
   "outputs": [
    {
     "data": {
      "text/plain": [
       "'ferrari'"
      ]
     },
     "execution_count": 64,
     "metadata": {},
     "output_type": "execute_result"
    }
   ],
   "source": [
    "car1.brand"
   ]
  },
  {
   "cell_type": "code",
   "execution_count": 77,
   "id": "7114e6ea-001e-4525-a0ae-f46b69d5773b",
   "metadata": {},
   "outputs": [
    {
     "data": {
      "text/plain": [
       "''"
      ]
     },
     "execution_count": 77,
     "metadata": {},
     "output_type": "execute_result"
    }
   ],
   "source": [
    "vehicles.brand"
   ]
  },
  {
   "cell_type": "code",
   "execution_count": 83,
   "id": "da9963d0-3dfb-47d6-8861-cf240a8e7bca",
   "metadata": {},
   "outputs": [],
   "source": [
    "class motorcycles(vehicles):\n",
    "    def __init__(self):\n",
    "        self.kind = \"\""
   ]
  },
  {
   "cell_type": "code",
   "execution_count": 84,
   "id": "b9127614-a260-4cb4-9d23-f0241363afd1",
   "metadata": {},
   "outputs": [],
   "source": [
    "motorcycle1 = motorcycles()"
   ]
  },
  {
   "cell_type": "code",
   "execution_count": 85,
   "id": "91a04cec-d5ed-405d-8544-9ab635c6bc81",
   "metadata": {},
   "outputs": [
    {
     "ename": "SyntaxError",
     "evalue": "invalid syntax (<ipython-input-85-75950a08beff>, line 1)",
     "output_type": "error",
     "traceback": [
      "\u001b[1;36m  File \u001b[1;32m\"<ipython-input-85-75950a08beff>\"\u001b[1;36m, line \u001b[1;32m1\u001b[0m\n\u001b[1;33m    motorcycle1.\u001b[0m\n\u001b[1;37m                ^\u001b[0m\n\u001b[1;31mSyntaxError\u001b[0m\u001b[1;31m:\u001b[0m invalid syntax\n"
     ]
    }
   ],
   "source": [
    "motorcycle1."
   ]
  },
  {
   "cell_type": "code",
   "execution_count": 86,
   "id": "df572010-dcf8-4d7a-9a4f-a3bbf11964c8",
   "metadata": {},
   "outputs": [
    {
     "data": {
      "text/plain": [
       "''"
      ]
     },
     "execution_count": 86,
     "metadata": {},
     "output_type": "execute_result"
    }
   ],
   "source": [
    "motorcycle1.brand"
   ]
  }
 ],
 "metadata": {
  "kernelspec": {
   "display_name": "Python 3",
   "language": "python",
   "name": "python3"
  },
  "language_info": {
   "codemirror_mode": {
    "name": "ipython",
    "version": 3
   },
   "file_extension": ".py",
   "mimetype": "text/x-python",
   "name": "python",
   "nbconvert_exporter": "python",
   "pygments_lexer": "ipython3",
   "version": "3.8.8"
  }
 },
 "nbformat": 4,
 "nbformat_minor": 5
}
