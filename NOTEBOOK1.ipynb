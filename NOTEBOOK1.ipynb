{
 "cells": [
  {
   "cell_type": "markdown",
   "id": "4c6fd3ef-f244-4b78-a713-7ff2bdef9b01",
   "metadata": {
    "tags": []
   },
   "source": [
    "### KODLAMAYA İLK ADIMLAR"
   ]
  },
  {
   "cell_type": "code",
   "execution_count": 1,
   "id": "dd473bfc-1445-4a0d-a302-00f766edf1b0",
   "metadata": {
    "scrolled": true
   },
   "outputs": [
    {
     "data": {
      "text/plain": [
       "'HELLO DATA SCIENCE'"
      ]
     },
     "execution_count": 1,
     "metadata": {},
     "output_type": "execute_result"
    }
   ],
   "source": [
    "\"HELLO DATA SCIENCE\""
   ]
  },
  {
   "cell_type": "code",
   "execution_count": 2,
   "id": "21e09b35-1cab-483f-a1a7-23eadeef0e15",
   "metadata": {},
   "outputs": [
    {
     "name": "stdout",
     "output_type": "stream",
     "text": [
      "HELLO DATA SCIENCE\n"
     ]
    }
   ],
   "source": [
    "print(\"HELLO DATA SCIENCE\")"
   ]
  },
  {
   "cell_type": "code",
   "execution_count": 3,
   "id": "2f3351d8-958b-4152-9714-41298d9ca079",
   "metadata": {},
   "outputs": [
    {
     "name": "stdout",
     "output_type": "stream",
     "text": [
      "HELLO DATA SCIENCE\n",
      "HELLO FRIENDS\n"
     ]
    }
   ],
   "source": [
    "print(\"HELLO DATA SCIENCE\")\n",
    "\n",
    "\"HELLO WORLD\"\n",
    "\n",
    "\"HELLO MACHINE LEARNING\"\n",
    "\n",
    "print(\"HELLO FRIENDS\")"
   ]
  },
  {
   "cell_type": "code",
   "execution_count": 4,
   "id": "6248c207-c173-4ff5-875b-ed759c8ec463",
   "metadata": {},
   "outputs": [
    {
     "name": "stdout",
     "output_type": "stream",
     "text": [
      "HELLO DATA SCIENCE\n",
      "HELLO FRIENDS\n"
     ]
    },
    {
     "data": {
      "text/plain": [
       "'hello'"
      ]
     },
     "execution_count": 4,
     "metadata": {},
     "output_type": "execute_result"
    }
   ],
   "source": [
    "print(\"HELLO DATA SCIENCE\")\n",
    "\n",
    "\"HELLO WORLD\"\n",
    "\n",
    "\"HELLO MACHINE LEARNING\"\n",
    "\n",
    "print(\"HELLO FRIENDS\")\n",
    "\n",
    "\"hello\""
   ]
  },
  {
   "cell_type": "markdown",
   "id": "7fb01ab4-92c5-4d70-935f-3e22ae7a2ccd",
   "metadata": {},
   "source": [
    "### DERS: TIRNAK MESELESİ"
   ]
  },
  {
   "cell_type": "code",
   "execution_count": 13,
   "id": "5bdfab14-4be0-45c4-adb2-4b26b059fdd4",
   "metadata": {},
   "outputs": [
    {
     "name": "stdout",
     "output_type": "stream",
     "text": [
      "HELLO DATA SCIENCE\n"
     ]
    }
   ],
   "source": [
    "print('HELLO DATA SCIENCE')"
   ]
  },
  {
   "cell_type": "code",
   "execution_count": 14,
   "id": "949b8353-346e-4d80-b802-9059f13fa061",
   "metadata": {},
   "outputs": [
    {
     "name": "stdout",
     "output_type": "stream",
     "text": [
      "HELLO DATA SCIENC\n"
     ]
    }
   ],
   "source": [
    "print(\"HELLO DATA SCIENCE\")"
   ]
  },
  {
   "cell_type": "code",
   "execution_count": 17,
   "id": "62e39025-4a6e-4472-8c2f-420e095ce1b7",
   "metadata": {},
   "outputs": [
    {
     "name": "stdout",
     "output_type": "stream",
     "text": [
      "HELLO DATA SCIENCE\n"
     ]
    }
   ],
   "source": [
    "print(\"\"\"HELLO DATA SCIENCE\"\"\")"
   ]
  },
  {
   "cell_type": "code",
   "execution_count": 1,
   "id": "a33e3f17-8254-467f-b464-a225a5de08ea",
   "metadata": {},
   "outputs": [
    {
     "ename": "SyntaxError",
     "evalue": "invalid syntax (<ipython-input-1-283ea6894656>, line 1)",
     "output_type": "error",
     "traceback": [
      "\u001b[1;36m  File \u001b[1;32m\"<ipython-input-1-283ea6894656>\"\u001b[1;36m, line \u001b[1;32m1\u001b[0m\n\u001b[1;33m    print(\"the name of the python programming language does not come from \"python snake\"\")\u001b[0m\n\u001b[1;37m                                                                           ^\u001b[0m\n\u001b[1;31mSyntaxError\u001b[0m\u001b[1;31m:\u001b[0m invalid syntax\n"
     ]
    }
   ],
   "source": [
    "print(\"the name of the python programming language does not come from \"python snake\"\")"
   ]
  },
  {
   "cell_type": "code",
   "execution_count": 14,
   "id": "a440b073-8248-4a36-8894-da82cec34ef9",
   "metadata": {},
   "outputs": [
    {
     "name": "stdout",
     "output_type": "stream",
     "text": [
      "the name of the python programming language does not come from \"python snake\"\n"
     ]
    }
   ],
   "source": [
    "print('the name of the python programming language does not come from \"python snake\"')"
   ]
  },
  {
   "cell_type": "code",
   "execution_count": 15,
   "id": "131ea769-bd6b-4808-8d33-d1859ffab7d0",
   "metadata": {},
   "outputs": [
    {
     "name": "stdout",
     "output_type": "stream",
     "text": [
      "It's my pleasure\n"
     ]
    }
   ],
   "source": [
    "print(\"It's my pleasure\")"
   ]
  },
  {
   "cell_type": "code",
   "execution_count": 11,
   "id": "471c6c30-bc94-48f4-bff5-bceee4cd3817",
   "metadata": {},
   "outputs": [
    {
     "name": "stdout",
     "output_type": "stream",
     "text": [
      "\n",
      "[H]=========ALICVDR=======[-][o][x]\n",
      "|                                 |\n",
      "|       Welcome to program!       |\n",
      "|           version 5             |                          \n",
      "|     Tap anywhere to continue    |\n",
      "|                                 |\n",
      "|=================================| \n"
     ]
    }
   ],
   "source": [
    "print(\"\"\"\n",
    "[H]=========ALICVDR=======[-][o][x]\n",
    "|                                 |\n",
    "|       Welcome to program!       |\n",
    "|           version 5             |                          \n",
    "|     Tap anywhere to continue    |\n",
    "|                                 |\n",
    "|=================================| \"\"\")"
   ]
  },
  {
   "cell_type": "code",
   "execution_count": 13,
   "id": "2ea04537-e578-4099-9670-8fa81bca2e2e",
   "metadata": {},
   "outputs": [
    {
     "ename": "SyntaxError",
     "evalue": "EOL while scanning string literal (<ipython-input-13-8f7ec8ebc168>, line 1)",
     "output_type": "error",
     "traceback": [
      "\u001b[1;36m  File \u001b[1;32m\"<ipython-input-13-8f7ec8ebc168>\"\u001b[1;36m, line \u001b[1;32m1\u001b[0m\n\u001b[1;33m    print(\"\u001b[0m\n\u001b[1;37m           ^\u001b[0m\n\u001b[1;31mSyntaxError\u001b[0m\u001b[1;31m:\u001b[0m EOL while scanning string literal\n"
     ]
    }
   ],
   "source": [
    "print(\"\n",
    "[H]=========ALICVDR=======[-][o][x]\n",
    "|                                 |\n",
    "|       Welcome to program!       |\n",
    "|           version 5             |                          \n",
    "|     Tap anywhere to continue    |\n",
    "|                                 |\n",
    "|=================================| \")"
   ]
  },
  {
   "cell_type": "markdown",
   "id": "894a5ac8-65a8-4914-abcf-9503eeac953c",
   "metadata": {},
   "source": [
    "### PYTHONDA TEMEL VERİ YAPILARI İLE TANIŞMA"
   ]
  },
  {
   "cell_type": "code",
   "execution_count": 1,
   "id": "80f0dd5d-2936-4404-9d80-cd2fcb0e45d9",
   "metadata": {},
   "outputs": [
    {
     "data": {
      "text/plain": [
       "7"
      ]
     },
     "execution_count": 1,
     "metadata": {},
     "output_type": "execute_result"
    }
   ],
   "source": [
    "7"
   ]
  },
  {
   "cell_type": "code",
   "execution_count": 2,
   "id": "2535379a-4737-4e57-9de7-24c91d8277ac",
   "metadata": {},
   "outputs": [
    {
     "data": {
      "text/plain": [
       "5.9"
      ]
     },
     "execution_count": 2,
     "metadata": {},
     "output_type": "execute_result"
    }
   ],
   "source": [
    "5.9"
   ]
  },
  {
   "cell_type": "code",
   "execution_count": 13,
   "id": "b9da8a6a-f881-489c-a6e3-1fa801e24e4c",
   "metadata": {
    "scrolled": true
   },
   "outputs": [
    {
     "data": {
      "text/plain": [
       "49"
      ]
     },
     "execution_count": 13,
     "metadata": {},
     "output_type": "execute_result"
    }
   ],
   "source": [
    "7 * 7"
   ]
  },
  {
   "cell_type": "code",
   "execution_count": 15,
   "id": "c5eb7e4d-4b47-427f-8707-12e0ecd776dd",
   "metadata": {
    "scrolled": true
   },
   "outputs": [
    {
     "data": {
      "text/plain": [
       "12.0"
      ]
     },
     "execution_count": 15,
     "metadata": {},
     "output_type": "execute_result"
    }
   ],
   "source": [
    "5.2 + 6.8"
   ]
  },
  {
   "cell_type": "code",
   "execution_count": 1,
   "id": "94487fcc",
   "metadata": {},
   "outputs": [
    {
     "data": {
      "text/plain": [
       "'hello data science'"
      ]
     },
     "execution_count": 1,
     "metadata": {},
     "output_type": "execute_result"
    }
   ],
   "source": [
    "\"hello data science\""
   ]
  },
  {
   "cell_type": "code",
   "execution_count": 26,
   "id": "3239188d-5e83-4158-9cc6-834bfad0191e",
   "metadata": {},
   "outputs": [
    {
     "data": {
      "text/plain": [
       "7"
      ]
     },
     "execution_count": 26,
     "metadata": {},
     "output_type": "execute_result"
    }
   ],
   "source": [
    "True * 7"
   ]
  },
  {
   "cell_type": "code",
   "execution_count": 27,
   "id": "419aefc5-c18a-4a7a-81bc-1e908eed2508",
   "metadata": {},
   "outputs": [
    {
     "data": {
      "text/plain": [
       "0"
      ]
     },
     "execution_count": 27,
     "metadata": {},
     "output_type": "execute_result"
    }
   ],
   "source": [
    "False * 7 "
   ]
  },
  {
   "cell_type": "code",
   "execution_count": 16,
   "id": "cb7bf786-c083-4122-92db-92db7b22b777",
   "metadata": {},
   "outputs": [
    {
     "data": {
      "text/plain": [
       "float"
      ]
     },
     "execution_count": 16,
     "metadata": {},
     "output_type": "execute_result"
    }
   ],
   "source": [
    "type(5.9)"
   ]
  },
  {
   "cell_type": "code",
   "execution_count": 17,
   "id": "dd8b7c21-a769-4956-b7ac-a3f7d5d9c343",
   "metadata": {},
   "outputs": [
    {
     "data": {
      "text/plain": [
       "int"
      ]
     },
     "execution_count": 17,
     "metadata": {},
     "output_type": "execute_result"
    }
   ],
   "source": [
    "type(7)"
   ]
  },
  {
   "cell_type": "code",
   "execution_count": 18,
   "id": "2ee6f9fc-196c-40b9-a0e2-cc5860008e87",
   "metadata": {},
   "outputs": [
    {
     "data": {
      "text/plain": [
       "str"
      ]
     },
     "execution_count": 18,
     "metadata": {},
     "output_type": "execute_result"
    }
   ],
   "source": [
    "type(\"hello data science\")"
   ]
  },
  {
   "cell_type": "code",
   "execution_count": 28,
   "id": "eb6308e4-2258-46b2-8e83-3bcf681da2e9",
   "metadata": {},
   "outputs": [
    {
     "data": {
      "text/plain": [
       "bool"
      ]
     },
     "execution_count": 28,
     "metadata": {},
     "output_type": "execute_result"
    }
   ],
   "source": [
    "type(True)"
   ]
  },
  {
   "cell_type": "code",
   "execution_count": 19,
   "id": "17b4b0cd-f204-4932-b5b2-80629116435c",
   "metadata": {
    "tags": []
   },
   "outputs": [
    {
     "data": {
      "text/plain": [
       "float"
      ]
     },
     "execution_count": 19,
     "metadata": {},
     "output_type": "execute_result"
    }
   ],
   "source": [
    "type(5.2 + 6.8)"
   ]
  },
  {
   "cell_type": "markdown",
   "id": "9c2e9b19-e76b-4c8d-9a95-ed2c7b31c377",
   "metadata": {
    "tags": []
   },
   "source": [
    "### ATAMA İŞLEMİ VE DEĞİŞKENLER(VARIABLES)"
   ]
  },
  {
   "cell_type": "code",
   "execution_count": null,
   "id": "7226799e",
   "metadata": {},
   "outputs": [],
   "source": [
    "\"november\""
   ]
  },
  {
   "cell_type": "code",
   "execution_count": null,
   "id": "40aa6066",
   "metadata": {},
   "outputs": [],
   "source": [
    "9\n",
    "5.8\n",
    "True"
   ]
  },
  {
   "cell_type": "code",
   "execution_count": 47,
   "id": "85ec14a8-82bc-430d-a125-44bfba224a02",
   "metadata": {},
   "outputs": [],
   "source": [
    "a = \"november\""
   ]
  },
  {
   "cell_type": "code",
   "execution_count": 48,
   "id": "250f008e-dab6-4566-8930-beb7ccc8f737",
   "metadata": {},
   "outputs": [
    {
     "name": "stdout",
     "output_type": "stream",
     "text": [
      "november\n"
     ]
    }
   ],
   "source": [
    "print(a)"
   ]
  },
  {
   "cell_type": "code",
   "execution_count": 57,
   "id": "d19b7bfa-e375-4fee-9f45-6d06e06c6cfe",
   "metadata": {},
   "outputs": [],
   "source": [
    "b = 9\n",
    "c = 5.8\n",
    "d = True"
   ]
  },
  {
   "cell_type": "code",
   "execution_count": 58,
   "id": "8df12ba7-1a14-454f-9c53-876c2b4fa181",
   "metadata": {},
   "outputs": [
    {
     "data": {
      "text/plain": [
       "9"
      ]
     },
     "execution_count": 58,
     "metadata": {},
     "output_type": "execute_result"
    }
   ],
   "source": [
    "b"
   ]
  },
  {
   "cell_type": "code",
   "execution_count": 59,
   "id": "43199998-d57a-4b9d-9a92-878e04ed47ba",
   "metadata": {},
   "outputs": [
    {
     "data": {
      "text/plain": [
       "5.8"
      ]
     },
     "execution_count": 59,
     "metadata": {},
     "output_type": "execute_result"
    }
   ],
   "source": [
    "c"
   ]
  },
  {
   "cell_type": "code",
   "execution_count": 60,
   "id": "dbffef86-747d-4359-a6c3-f2a157252db6",
   "metadata": {},
   "outputs": [
    {
     "data": {
      "text/plain": [
       "True"
      ]
     },
     "execution_count": 60,
     "metadata": {},
     "output_type": "execute_result"
    }
   ],
   "source": [
    "d"
   ]
  },
  {
   "cell_type": "code",
   "execution_count": 62,
   "id": "acf2f339-75c2-4041-a043-258bc5f91dcf",
   "metadata": {},
   "outputs": [],
   "source": [
    "a = \"october\""
   ]
  },
  {
   "cell_type": "code",
   "execution_count": 63,
   "id": "a33a09a4-db65-4392-b314-a1f633908146",
   "metadata": {},
   "outputs": [
    {
     "data": {
      "text/plain": [
       "'october'"
      ]
     },
     "execution_count": 63,
     "metadata": {},
     "output_type": "execute_result"
    }
   ],
   "source": [
    "a"
   ]
  },
  {
   "cell_type": "code",
   "execution_count": 64,
   "id": "3791d38c-a67b-4e9d-a3ba-c7aa94319510",
   "metadata": {},
   "outputs": [],
   "source": [
    "# del a"
   ]
  },
  {
   "cell_type": "code",
   "execution_count": 65,
   "id": "246e45d1-f0cc-4529-a197-f25ba995dd72",
   "metadata": {},
   "outputs": [
    {
     "ename": "NameError",
     "evalue": "name 'a' is not defined",
     "output_type": "error",
     "traceback": [
      "\u001b[1;31m---------------------------------------------------------------------------\u001b[0m",
      "\u001b[1;31mNameError\u001b[0m                                 Traceback (most recent call last)",
      "\u001b[1;32m<ipython-input-65-3f786850e387>\u001b[0m in \u001b[0;36m<module>\u001b[1;34m\u001b[0m\n\u001b[1;32m----> 1\u001b[1;33m \u001b[0ma\u001b[0m\u001b[1;33m\u001b[0m\u001b[1;33m\u001b[0m\u001b[0m\n\u001b[0m",
      "\u001b[1;31mNameError\u001b[0m: name 'a' is not defined"
     ]
    }
   ],
   "source": [
    "a"
   ]
  },
  {
   "cell_type": "code",
   "execution_count": 66,
   "id": "2715f3fa-e956-4c44-8437-df7c3799e2f8",
   "metadata": {},
   "outputs": [],
   "source": [
    "a = \"september\""
   ]
  },
  {
   "cell_type": "code",
   "execution_count": 67,
   "id": "21acf1e0-82eb-4f35-9a20-57e08af42dbc",
   "metadata": {},
   "outputs": [
    {
     "data": {
      "text/plain": [
       "'september'"
      ]
     },
     "execution_count": 67,
     "metadata": {},
     "output_type": "execute_result"
    }
   ],
   "source": [
    "a"
   ]
  },
  {
   "cell_type": "code",
   "execution_count": 68,
   "id": "e5cd261a-9c78-4ee3-b1ff-02220bb70ac7",
   "metadata": {},
   "outputs": [
    {
     "data": {
      "text/plain": [
       "str"
      ]
     },
     "execution_count": 68,
     "metadata": {},
     "output_type": "execute_result"
    }
   ],
   "source": [
    "type(a)"
   ]
  },
  {
   "cell_type": "code",
   "execution_count": 70,
   "id": "49b7480d-0551-43b2-ab4e-f5f1a688b427",
   "metadata": {},
   "outputs": [
    {
     "name": "stdout",
     "output_type": "stream",
     "text": [
      "<class 'int'>\n",
      "<class 'float'>\n",
      "<class 'bool'>\n"
     ]
    }
   ],
   "source": [
    "print(type(b))\n",
    "print(type(c))\n",
    "print(type(d))"
   ]
  },
  {
   "cell_type": "markdown",
   "id": "134db40a-a0ae-4044-ba4b-8c97d01197d8",
   "metadata": {},
   "source": [
    "### KOMPLEX ATAMA İŞLEMİ"
   ]
  },
  {
   "cell_type": "code",
   "execution_count": 32,
   "id": "6da970a6-06c5-4d8a-9d5a-6120da2f84dd",
   "metadata": {},
   "outputs": [],
   "source": [
    "april = 30\n",
    "june = 30\n",
    "september = 30\n",
    "november = 30"
   ]
  },
  {
   "cell_type": "code",
   "execution_count": 33,
   "id": "9d7cb86a-4542-479f-9cad-cf3d132e5c40",
   "metadata": {},
   "outputs": [
    {
     "name": "stdout",
     "output_type": "stream",
     "text": [
      "30\n",
      "30\n",
      "30\n",
      "30\n"
     ]
    }
   ],
   "source": [
    "print(april)\n",
    "print(june)\n",
    "print(september)\n",
    "print(november)"
   ]
  },
  {
   "cell_type": "code",
   "execution_count": 34,
   "id": "c4199c7d-86b3-4d86-8a27-a7b2e18244d6",
   "metadata": {},
   "outputs": [],
   "source": [
    "january = march = may = july = august = october = december = 31"
   ]
  },
  {
   "cell_type": "code",
   "execution_count": 36,
   "id": "fc0a70c7-37d0-46a6-a2f2-e69b1e61d798",
   "metadata": {},
   "outputs": [
    {
     "name": "stdout",
     "output_type": "stream",
     "text": [
      "31\n"
     ]
    }
   ],
   "source": [
    "print(august)"
   ]
  },
  {
   "cell_type": "code",
   "execution_count": 37,
   "id": "b7fcb1a9-2c57-4e43-ab96-26f02db33c1e",
   "metadata": {},
   "outputs": [
    {
     "name": "stdout",
     "output_type": "stream",
     "text": [
      "31\n"
     ]
    }
   ],
   "source": [
    "print(december)"
   ]
  },
  {
   "cell_type": "code",
   "execution_count": 38,
   "id": "efe91fce-97c2-4548-b6a0-7381dc116546",
   "metadata": {},
   "outputs": [],
   "source": [
    "python, java = \"data\", \"science\""
   ]
  },
  {
   "cell_type": "code",
   "execution_count": 39,
   "id": "4c7c75b2-7e27-4516-9236-6a7af5756104",
   "metadata": {},
   "outputs": [
    {
     "name": "stdout",
     "output_type": "stream",
     "text": [
      "data\n"
     ]
    }
   ],
   "source": [
    "print(python)"
   ]
  },
  {
   "cell_type": "code",
   "execution_count": 40,
   "id": "1628428d-8a62-420c-99f8-bbb0692ed07d",
   "metadata": {},
   "outputs": [
    {
     "name": "stdout",
     "output_type": "stream",
     "text": [
      "science\n"
     ]
    }
   ],
   "source": [
    "print(java)"
   ]
  },
  {
   "cell_type": "markdown",
   "id": "8db7b18a-5a66-42ef-ad2e-349f0facc585",
   "metadata": {},
   "source": [
    "### TİP DÖNÜŞÜMLERİ"
   ]
  },
  {
   "cell_type": "code",
   "execution_count": 71,
   "id": "97b3e79f-3797-487d-9e63-7887bc93a5a2",
   "metadata": {},
   "outputs": [],
   "source": [
    "a = \"september\"\n",
    "b = 9\n",
    "c = 5.8\n",
    "d = True"
   ]
  },
  {
   "cell_type": "code",
   "execution_count": 72,
   "id": "347ee76d-89d6-4554-88d9-7e3e7074621c",
   "metadata": {},
   "outputs": [
    {
     "name": "stdout",
     "output_type": "stream",
     "text": [
      "<class 'str'>\n",
      "<class 'int'>\n",
      "<class 'float'>\n",
      "<class 'bool'>\n"
     ]
    }
   ],
   "source": [
    "print(type(a))\n",
    "print(type(b))\n",
    "print(type(c))\n",
    "print(type(d))"
   ]
  },
  {
   "cell_type": "code",
   "execution_count": 82,
   "id": "53f01348-f659-4d6d-ae55-c0e1affe574d",
   "metadata": {},
   "outputs": [],
   "source": [
    "converted_b = str(b)"
   ]
  },
  {
   "cell_type": "code",
   "execution_count": 83,
   "id": "96af06f3-bac5-4ce2-8647-54738d599eb5",
   "metadata": {},
   "outputs": [
    {
     "data": {
      "text/plain": [
       "'9'"
      ]
     },
     "execution_count": 83,
     "metadata": {},
     "output_type": "execute_result"
    }
   ],
   "source": [
    "converted_b"
   ]
  },
  {
   "cell_type": "code",
   "execution_count": 79,
   "id": "41864ee2-bc2b-4489-a533-f0d49464db64",
   "metadata": {},
   "outputs": [
    {
     "name": "stdout",
     "output_type": "stream",
     "text": [
      "<class 'str'>\n"
     ]
    }
   ],
   "source": [
    "print(type(converted_b))"
   ]
  },
  {
   "cell_type": "code",
   "execution_count": 87,
   "id": "100717c7-5aa5-415b-9159-b677b9322048",
   "metadata": {},
   "outputs": [],
   "source": [
    "converted_c = int(c)\n",
    "converted_d = float(d)"
   ]
  },
  {
   "cell_type": "code",
   "execution_count": 88,
   "id": "69a47e97-1942-47cf-90de-c09d4ccecb00",
   "metadata": {},
   "outputs": [
    {
     "data": {
      "text/plain": [
       "5"
      ]
     },
     "execution_count": 88,
     "metadata": {},
     "output_type": "execute_result"
    }
   ],
   "source": [
    "converted_c"
   ]
  },
  {
   "cell_type": "code",
   "execution_count": 89,
   "id": "c768b72e-b485-401f-b586-6071f84dd029",
   "metadata": {},
   "outputs": [
    {
     "data": {
      "text/plain": [
       "1.0"
      ]
     },
     "execution_count": 89,
     "metadata": {},
     "output_type": "execute_result"
    }
   ],
   "source": [
    "converted_d"
   ]
  },
  {
   "cell_type": "code",
   "execution_count": 91,
   "id": "4fdc1e0a-dd6c-4ceb-9964-f6550246c68a",
   "metadata": {},
   "outputs": [
    {
     "name": "stdout",
     "output_type": "stream",
     "text": [
      "<class 'int'>\n",
      "<class 'float'>\n"
     ]
    }
   ],
   "source": [
    "print(type(converted_c))\n",
    "print(type(converted_d))"
   ]
  },
  {
   "cell_type": "code",
   "execution_count": 92,
   "id": "880c8666-39b2-470b-8142-72e0a138d3d2",
   "metadata": {},
   "outputs": [
    {
     "data": {
      "text/plain": [
       "'september'"
      ]
     },
     "execution_count": 92,
     "metadata": {},
     "output_type": "execute_result"
    }
   ],
   "source": [
    "a"
   ]
  },
  {
   "cell_type": "code",
   "execution_count": 93,
   "id": "8bbf3f0c-d447-47ee-9336-ad255dee327a",
   "metadata": {},
   "outputs": [
    {
     "ename": "ValueError",
     "evalue": "invalid literal for int() with base 10: 'september'",
     "output_type": "error",
     "traceback": [
      "\u001b[1;31m---------------------------------------------------------------------------\u001b[0m",
      "\u001b[1;31mValueError\u001b[0m                                Traceback (most recent call last)",
      "\u001b[1;32m<ipython-input-93-10a35ec17c61>\u001b[0m in \u001b[0;36m<module>\u001b[1;34m\u001b[0m\n\u001b[1;32m----> 1\u001b[1;33m \u001b[0mconverted_a\u001b[0m \u001b[1;33m=\u001b[0m \u001b[0mint\u001b[0m\u001b[1;33m(\u001b[0m\u001b[0ma\u001b[0m\u001b[1;33m)\u001b[0m\u001b[1;33m\u001b[0m\u001b[1;33m\u001b[0m\u001b[0m\n\u001b[0m",
      "\u001b[1;31mValueError\u001b[0m: invalid literal for int() with base 10: 'september'"
     ]
    }
   ],
   "source": [
    "converted_a = int(a)"
   ]
  },
  {
   "cell_type": "code",
   "execution_count": 94,
   "id": "a637e903-4950-4b42-a9fd-90f5bec5d143",
   "metadata": {
    "tags": []
   },
   "outputs": [],
   "source": [
    "e = \"8\""
   ]
  },
  {
   "cell_type": "code",
   "execution_count": 95,
   "id": "c8d95e42-bb15-4482-822f-a773992c89c2",
   "metadata": {},
   "outputs": [],
   "source": [
    "converted_e = int(e)"
   ]
  },
  {
   "cell_type": "code",
   "execution_count": 97,
   "id": "124270c4-2832-4083-b190-d7268187c284",
   "metadata": {},
   "outputs": [
    {
     "name": "stdout",
     "output_type": "stream",
     "text": [
      "<class 'int'>\n"
     ]
    }
   ],
   "source": [
    "print(type(converted_e))"
   ]
  },
  {
   "cell_type": "markdown",
   "id": "28a9dad6-a9d5-4c39-99fc-149468d02503",
   "metadata": {},
   "source": [
    "### PYTHONDA ARİTMATİK İŞLEMLER"
   ]
  },
  {
   "cell_type": "code",
   "execution_count": 41,
   "id": "ddc1e6a5-2110-4ec5-b977-2233b5dbd371",
   "metadata": {},
   "outputs": [
    {
     "name": "stdout",
     "output_type": "stream",
     "text": [
      "1\n"
     ]
    }
   ],
   "source": [
    "print(29 % 7)"
   ]
  },
  {
   "cell_type": "code",
   "execution_count": 42,
   "id": "2a6907d5-a4aa-4640-bf5f-5e3303570ac8",
   "metadata": {},
   "outputs": [
    {
     "name": "stdout",
     "output_type": "stream",
     "text": [
      "4\n"
     ]
    }
   ],
   "source": [
    "print(9 // 2)"
   ]
  },
  {
   "cell_type": "code",
   "execution_count": 43,
   "id": "c83a305e-3b5d-4029-8cf9-0d5c3640ebe2",
   "metadata": {},
   "outputs": [
    {
     "name": "stdout",
     "output_type": "stream",
     "text": [
      "8\n"
     ]
    }
   ],
   "source": [
    "print(2 ** 3)"
   ]
  },
  {
   "cell_type": "code",
   "execution_count": 44,
   "id": "0ecec65e-a94d-46cc-b653-4ee502590173",
   "metadata": {},
   "outputs": [
    {
     "data": {
      "text/plain": [
       "0"
      ]
     },
     "execution_count": 44,
     "metadata": {},
     "output_type": "execute_result"
    }
   ],
   "source": [
    "10 % 2 "
   ]
  },
  {
   "cell_type": "code",
   "execution_count": 49,
   "id": "bb627629-2b7d-42af-ae2b-c8ec39b84260",
   "metadata": {},
   "outputs": [
    {
     "name": "stdout",
     "output_type": "stream",
     "text": [
      "10\n"
     ]
    }
   ],
   "source": [
    "x = 5\n",
    "x = x + 5\n",
    "print(x)"
   ]
  },
  {
   "cell_type": "code",
   "execution_count": 50,
   "id": "a158f5dc-90eb-4577-adfc-cab3a26391a8",
   "metadata": {},
   "outputs": [],
   "source": [
    "x = 15"
   ]
  },
  {
   "cell_type": "code",
   "execution_count": 51,
   "id": "41338c1b-4b7c-4b1b-a851-197c0a3973a6",
   "metadata": {},
   "outputs": [],
   "source": [
    "x += 10"
   ]
  },
  {
   "cell_type": "code",
   "execution_count": 52,
   "id": "f886473a-524a-4a91-9482-d47efe8368fe",
   "metadata": {},
   "outputs": [
    {
     "name": "stdout",
     "output_type": "stream",
     "text": [
      "25\n"
     ]
    }
   ],
   "source": [
    "print(x)"
   ]
  },
  {
   "cell_type": "code",
   "execution_count": 54,
   "id": "33374000-4dd1-4601-9e48-5f01d309c87a",
   "metadata": {},
   "outputs": [
    {
     "name": "stdout",
     "output_type": "stream",
     "text": [
      "7.0\n"
     ]
    }
   ],
   "source": [
    "a = (2+5) ** (2 ** (1 * 4 / 4 ) / 2)\n",
    "print(a)"
   ]
  },
  {
   "cell_type": "markdown",
   "id": "e56b26a9-2a48-4fea-9a49-ef1fb2a55dbb",
   "metadata": {},
   "source": [
    "### PRINT FONKSİYONU DERİNLEMESİNE İNCELEME"
   ]
  },
  {
   "cell_type": "code",
   "execution_count": null,
   "id": "87555a61-2d94-4a7f-95eb-3149540eeba1",
   "metadata": {},
   "outputs": [],
   "source": [
    "print()"
   ]
  },
  {
   "cell_type": "code",
   "execution_count": 51,
   "id": "4440fbec-a3ab-4ad0-b09a-b21ac58ff3a1",
   "metadata": {},
   "outputs": [],
   "source": [
    "age = 29\n",
    "sentence = \"My years old is\""
   ]
  },
  {
   "cell_type": "code",
   "execution_count": 52,
   "id": "a2f51d87-9a3a-48cf-8d6b-19b129e4dc75",
   "metadata": {},
   "outputs": [
    {
     "ename": "SyntaxError",
     "evalue": "invalid syntax (<ipython-input-52-e28092760f3c>, line 1)",
     "output_type": "error",
     "traceback": [
      "\u001b[1;36m  File \u001b[1;32m\"<ipython-input-52-e28092760f3c>\"\u001b[1;36m, line \u001b[1;32m1\u001b[0m\n\u001b[1;33m    print(sentence age)\u001b[0m\n\u001b[1;37m                   ^\u001b[0m\n\u001b[1;31mSyntaxError\u001b[0m\u001b[1;31m:\u001b[0m invalid syntax\n"
     ]
    }
   ],
   "source": [
    "print(sentence age)"
   ]
  },
  {
   "cell_type": "code",
   "execution_count": 53,
   "id": "1183b22e-5ac0-4d94-9a32-b9506cab530f",
   "metadata": {},
   "outputs": [
    {
     "name": "stdout",
     "output_type": "stream",
     "text": [
      "My years old is 29\n"
     ]
    }
   ],
   "source": [
    "print(sentence, age)"
   ]
  },
  {
   "cell_type": "code",
   "execution_count": 55,
   "id": "1b187146-ca5e-4812-8d42-843a52108a2b",
   "metadata": {},
   "outputs": [
    {
     "name": "stdout",
     "output_type": "stream",
     "text": [
      "My years old is-29\n",
      "My years old is-29\n"
     ]
    }
   ],
   "source": [
    "print(sentence, age, sep = \"-\")\n",
    "print(sentence, age, sep = \"-\")"
   ]
  },
  {
   "cell_type": "code",
   "execution_count": 56,
   "id": "073a4eb7-7a36-4cb7-a04f-5efbe186843b",
   "metadata": {},
   "outputs": [
    {
     "name": "stdout",
     "output_type": "stream",
     "text": [
      "My years old is-29My years old is-29\n"
     ]
    }
   ],
   "source": [
    "print(sentence, age, sep = \"-\", end = \"\")\n",
    "print(sentence, age, sep = \"-\")"
   ]
  },
  {
   "cell_type": "markdown",
   "id": "a7f4546a-6e3c-4d3f-bf6c-ed739cb8fc47",
   "metadata": {},
   "source": [
    "### ESCAPE SEQUENCE İŞLEMLERİ\n"
   ]
  },
  {
   "cell_type": "code",
   "execution_count": 63,
   "id": "4280fdff-52f4-4837-9b50-7e52c4b64117",
   "metadata": {},
   "outputs": [
    {
     "name": "stdout",
     "output_type": "stream",
     "text": [
      "My name is joseph\n",
      "I'm 29\n"
     ]
    }
   ],
   "source": [
    "print(\"My name is joseph\\nI'm 29 years old\")"
   ]
  },
  {
   "cell_type": "code",
   "execution_count": 64,
   "id": "16e52101-9eb8-4d39-90d2-32ada4ddda0d",
   "metadata": {},
   "outputs": [
    {
     "name": "stdout",
     "output_type": "stream",
     "text": [
      "My name is joseph\tI'm 29 years old\n"
     ]
    }
   ],
   "source": [
    "print(\"My name is joseph\\tI'm 29 years old\")"
   ]
  },
  {
   "cell_type": "code",
   "execution_count": 65,
   "id": "4ad1c6a5-f7d6-4868-a26c-89f62e5e97b9",
   "metadata": {},
   "outputs": [
    {
     "name": "stdout",
     "output_type": "stream",
     "text": [
      "My name is joseph\t\tI'm 29 years old\n"
     ]
    }
   ],
   "source": [
    "print(\"My name is joseph\\t\\tI'm 29 years old\")"
   ]
  },
  {
   "cell_type": "code",
   "execution_count": 70,
   "id": "274ce3e8-9b66-4ce8-8fa0-97afa4f34ae2",
   "metadata": {},
   "outputs": [
    {
     "name": "stdout",
     "output_type": "stream",
     "text": [
      "My name is josepI'm 29 years old\n"
     ]
    }
   ],
   "source": [
    "print(\"My name is joseph\\bI'm 29 years old\")"
   ]
  },
  {
   "cell_type": "code",
   "execution_count": 71,
   "id": "ff6acc4a-4f57-4b07-8d21-d8cc08838c0b",
   "metadata": {},
   "outputs": [
    {
     "ename": "SyntaxError",
     "evalue": "invalid syntax (<ipython-input-71-34475aa46dfa>, line 1)",
     "output_type": "error",
     "traceback": [
      "\u001b[1;36m  File \u001b[1;32m\"<ipython-input-71-34475aa46dfa>\"\u001b[1;36m, line \u001b[1;32m1\u001b[0m\n\u001b[1;33m    print('I'm 29 years old')\u001b[0m\n\u001b[1;37m             ^\u001b[0m\n\u001b[1;31mSyntaxError\u001b[0m\u001b[1;31m:\u001b[0m invalid syntax\n"
     ]
    }
   ],
   "source": [
    "print('I'm 29 years old')"
   ]
  },
  {
   "cell_type": "code",
   "execution_count": 5,
   "id": "d8d6f70a-ed1c-4a4f-b335-d78a0519bca0",
   "metadata": {},
   "outputs": [
    {
     "name": "stdout",
     "output_type": "stream",
     "text": [
      "I'm 29 years old\n"
     ]
    }
   ],
   "source": [
    "print('I\\'m 29 years old')"
   ]
  },
  {
   "cell_type": "markdown",
   "id": "44c695ae-5fcd-4e51-b149-1b896a48f410",
   "metadata": {},
   "source": [
    "### BOOLEN MANTIK İFADELERİ"
   ]
  },
  {
   "cell_type": "code",
   "execution_count": 6,
   "id": "d5915ebd-dab1-4cac-8f33-bf7b94498fc0",
   "metadata": {},
   "outputs": [],
   "source": [
    "bool_example = True and not True"
   ]
  },
  {
   "cell_type": "code",
   "execution_count": 7,
   "id": "ffabe8a6-738d-4c0a-bf8e-6ffd0785e68a",
   "metadata": {},
   "outputs": [
    {
     "name": "stdout",
     "output_type": "stream",
     "text": [
      "False\n"
     ]
    }
   ],
   "source": [
    "print(bool_example)"
   ]
  },
  {
   "cell_type": "code",
   "execution_count": 8,
   "id": "f47f0b6c-a58a-4ca4-bc18-1ad840e73318",
   "metadata": {},
   "outputs": [],
   "source": [
    "bool_example2 = True and False or not False or False"
   ]
  },
  {
   "cell_type": "code",
   "execution_count": 9,
   "id": "27ed5b68-eb92-4943-bb85-d460ac063509",
   "metadata": {},
   "outputs": [
    {
     "name": "stdout",
     "output_type": "stream",
     "text": [
      "True\n"
     ]
    }
   ],
   "source": [
    "print(bool_example2)"
   ]
  },
  {
   "cell_type": "code",
   "execution_count": 10,
   "id": "f56359d7-d708-4758-8806-7f80944bc7fb",
   "metadata": {},
   "outputs": [
    {
     "name": "stdout",
     "output_type": "stream",
     "text": [
      "0\n"
     ]
    }
   ],
   "source": [
    "print(1 and 0)"
   ]
  },
  {
   "cell_type": "code",
   "execution_count": 11,
   "id": "67507d13-4839-46fe-8cb0-b9211ec25a15",
   "metadata": {},
   "outputs": [
    {
     "name": "stdout",
     "output_type": "stream",
     "text": [
      "False\n"
     ]
    }
   ],
   "source": [
    "print(not 1)"
   ]
  },
  {
   "cell_type": "code",
   "execution_count": 12,
   "id": "ccf3abdd-bcd7-4a64-bf4d-578637d11896",
   "metadata": {},
   "outputs": [
    {
     "data": {
      "text/plain": [
       "'italy'"
      ]
     },
     "execution_count": 12,
     "metadata": {},
     "output_type": "execute_result"
    }
   ],
   "source": [
    "1 and \"france\" and \"italy\""
   ]
  },
  {
   "cell_type": "code",
   "execution_count": 13,
   "id": "d5a4fdb4-1308-47d9-a980-de433209dd36",
   "metadata": {},
   "outputs": [
    {
     "data": {
      "text/plain": [
       "''"
      ]
     },
     "execution_count": 13,
     "metadata": {},
     "output_type": "execute_result"
    }
   ],
   "source": [
    "\"\" and \"france\" and \"italy\" and []"
   ]
  },
  {
   "cell_type": "markdown",
   "id": "13880136-c8fa-40fe-86c3-d1748005367b",
   "metadata": {},
   "source": [
    "### KARAKTER DİZİLERİNİ İNCELEME"
   ]
  },
  {
   "cell_type": "code",
   "execution_count": 31,
   "id": "382c065b-d628-47cb-8f7d-d068b1150390",
   "metadata": {},
   "outputs": [
    {
     "ename": "SyntaxError",
     "evalue": "invalid syntax (<ipython-input-31-9198726a718e>, line 1)",
     "output_type": "error",
     "traceback": [
      "\u001b[1;36m  File \u001b[1;32m\"<ipython-input-31-9198726a718e>\"\u001b[1;36m, line \u001b[1;32m1\u001b[0m\n\u001b[1;33m    hello data science\u001b[0m\n\u001b[1;37m          ^\u001b[0m\n\u001b[1;31mSyntaxError\u001b[0m\u001b[1;31m:\u001b[0m invalid syntax\n"
     ]
    }
   ],
   "source": [
    "hello data science"
   ]
  },
  {
   "cell_type": "code",
   "execution_count": 32,
   "id": "68529c18-6a21-4cc7-a87b-30034104ef3b",
   "metadata": {},
   "outputs": [],
   "source": [
    "# hello data science"
   ]
  },
  {
   "cell_type": "code",
   "execution_count": 33,
   "id": "74800995-2fc6-411f-a7de-807be38f850a",
   "metadata": {},
   "outputs": [
    {
     "data": {
      "text/plain": [
       "int"
      ]
     },
     "execution_count": 33,
     "metadata": {},
     "output_type": "execute_result"
    }
   ],
   "source": [
    "type(987)"
   ]
  },
  {
   "cell_type": "code",
   "execution_count": 34,
   "id": "f35da485-9dd4-40ed-b3c2-5c21c6184979",
   "metadata": {},
   "outputs": [
    {
     "data": {
      "text/plain": [
       "str"
      ]
     },
     "execution_count": 34,
     "metadata": {},
     "output_type": "execute_result"
    }
   ],
   "source": [
    "type(\"987\")"
   ]
  },
  {
   "cell_type": "code",
   "execution_count": 35,
   "id": "91f76cff-3a80-4b42-9c7a-34a62923a067",
   "metadata": {},
   "outputs": [
    {
     "data": {
      "text/plain": [
       "'hellodata'"
      ]
     },
     "execution_count": 35,
     "metadata": {},
     "output_type": "execute_result"
    }
   ],
   "source": [
    "\"hello\" + \"data\""
   ]
  },
  {
   "cell_type": "code",
   "execution_count": 36,
   "id": "528cdc3d-7aae-4594-af10-4c5525df772c",
   "metadata": {},
   "outputs": [
    {
     "data": {
      "text/plain": [
       "'hello data'"
      ]
     },
     "execution_count": 36,
     "metadata": {},
     "output_type": "execute_result"
    }
   ],
   "source": [
    "\"hello\" + \" data\""
   ]
  },
  {
   "cell_type": "code",
   "execution_count": 37,
   "id": "8efe2bba-facd-4944-9a8e-7defe765b2ae",
   "metadata": {},
   "outputs": [
    {
     "data": {
      "text/plain": [
       "'hello data'"
      ]
     },
     "execution_count": 37,
     "metadata": {},
     "output_type": "execute_result"
    }
   ],
   "source": [
    "\"hello\" + \" \" + \"data\""
   ]
  },
  {
   "cell_type": "code",
   "execution_count": 38,
   "id": "4a7c63bb-0600-478d-ba8a-514f8336bdc9",
   "metadata": {},
   "outputs": [
    {
     "ename": "TypeError",
     "evalue": "unsupported operand type(s) for -: 'str' and 'str'",
     "output_type": "error",
     "traceback": [
      "\u001b[1;31m---------------------------------------------------------------------------\u001b[0m",
      "\u001b[1;31mTypeError\u001b[0m                                 Traceback (most recent call last)",
      "\u001b[1;32m<ipython-input-38-39f747ae0cc1>\u001b[0m in \u001b[0;36m<module>\u001b[1;34m\u001b[0m\n\u001b[1;32m----> 1\u001b[1;33m \u001b[1;34m\"hello\"\u001b[0m \u001b[1;33m-\u001b[0m \u001b[1;34m\" data\"\u001b[0m\u001b[1;33m\u001b[0m\u001b[1;33m\u001b[0m\u001b[0m\n\u001b[0m",
      "\u001b[1;31mTypeError\u001b[0m: unsupported operand type(s) for -: 'str' and 'str'"
     ]
    }
   ],
   "source": [
    "\"hello\" - \" data\""
   ]
  },
  {
   "cell_type": "code",
   "execution_count": 40,
   "id": "83cbca70-26cd-482f-aade-4d1867a730bd",
   "metadata": {},
   "outputs": [
    {
     "data": {
      "text/plain": [
       "'hellohellohello'"
      ]
     },
     "execution_count": 40,
     "metadata": {},
     "output_type": "execute_result"
    }
   ],
   "source": [
    "\"hello\" * 3"
   ]
  },
  {
   "cell_type": "code",
   "execution_count": 41,
   "id": "0d401da0-914b-4c7f-968a-133099e7300d",
   "metadata": {},
   "outputs": [
    {
     "ename": "TypeError",
     "evalue": "can't multiply sequence by non-int of type 'str'",
     "output_type": "error",
     "traceback": [
      "\u001b[1;31m---------------------------------------------------------------------------\u001b[0m",
      "\u001b[1;31mTypeError\u001b[0m                                 Traceback (most recent call last)",
      "\u001b[1;32m<ipython-input-41-310ddd446689>\u001b[0m in \u001b[0;36m<module>\u001b[1;34m\u001b[0m\n\u001b[1;32m----> 1\u001b[1;33m \u001b[1;34m\"hello\"\u001b[0m \u001b[1;33m*\u001b[0m \u001b[1;34m\"hello\"\u001b[0m\u001b[1;33m\u001b[0m\u001b[1;33m\u001b[0m\u001b[0m\n\u001b[0m",
      "\u001b[1;31mTypeError\u001b[0m: can't multiply sequence by non-int of type 'str'"
     ]
    }
   ],
   "source": [
    "\"hello\" * \"hello\""
   ]
  },
  {
   "cell_type": "code",
   "execution_count": 42,
   "id": "37c8bd2e-e6ff-40a2-9093-31b78d92e646",
   "metadata": {},
   "outputs": [
    {
     "ename": "TypeError",
     "evalue": "unsupported operand type(s) for /: 'str' and 'int'",
     "output_type": "error",
     "traceback": [
      "\u001b[1;31m---------------------------------------------------------------------------\u001b[0m",
      "\u001b[1;31mTypeError\u001b[0m                                 Traceback (most recent call last)",
      "\u001b[1;32m<ipython-input-42-97438562d2ed>\u001b[0m in \u001b[0;36m<module>\u001b[1;34m\u001b[0m\n\u001b[1;32m----> 1\u001b[1;33m \u001b[1;34m\"hello\"\u001b[0m \u001b[1;33m/\u001b[0m \u001b[1;36m3\u001b[0m\u001b[1;33m\u001b[0m\u001b[1;33m\u001b[0m\u001b[0m\n\u001b[0m",
      "\u001b[1;31mTypeError\u001b[0m: unsupported operand type(s) for /: 'str' and 'int'"
     ]
    }
   ],
   "source": [
    "\"hello\" / 3"
   ]
  },
  {
   "cell_type": "markdown",
   "id": "344ab4d9-b5de-4978-af1d-522690967190",
   "metadata": {},
   "source": [
    "### UZUNLUK BİLGİSİNE ERİŞME METODU : LEN()"
   ]
  },
  {
   "cell_type": "code",
   "execution_count": 2,
   "id": "e415af70-fc0a-4ccf-81f3-2830dc3ee793",
   "metadata": {},
   "outputs": [],
   "source": [
    "job = \"data scientist\""
   ]
  },
  {
   "cell_type": "code",
   "execution_count": 4,
   "id": "84456a66-0a0e-425d-8255-53e7bcdccd13",
   "metadata": {},
   "outputs": [
    {
     "data": {
      "text/plain": [
       "14"
      ]
     },
     "execution_count": 4,
     "metadata": {},
     "output_type": "execute_result"
    }
   ],
   "source": [
    "len(job)"
   ]
  },
  {
   "cell_type": "markdown",
   "id": "2fb7d9aa-6642-45c5-a4a6-4b1268485813",
   "metadata": {},
   "source": [
    "### STRİNGLERDE ARAMA METODLARI : STARTSWITH(), ENDSWITH()"
   ]
  },
  {
   "cell_type": "code",
   "execution_count": 2,
   "id": "75ce0973-3d73-4d55-970e-a996eb18c2f1",
   "metadata": {},
   "outputs": [],
   "source": [
    "web_adress = \"www.datascience.com\""
   ]
  },
  {
   "cell_type": "code",
   "execution_count": 3,
   "id": "f9707739-9582-44ab-b8ed-6204a09272b7",
   "metadata": {},
   "outputs": [
    {
     "data": {
      "text/plain": [
       "True"
      ]
     },
     "execution_count": 3,
     "metadata": {},
     "output_type": "execute_result"
    }
   ],
   "source": [
    "web_adress.startswith(\"www\")"
   ]
  },
  {
   "cell_type": "code",
   "execution_count": 18,
   "id": "a2903893-8bf0-4dfe-993b-b9914073657d",
   "metadata": {},
   "outputs": [
    {
     "data": {
      "text/plain": [
       "False"
      ]
     },
     "execution_count": 18,
     "metadata": {},
     "output_type": "execute_result"
    }
   ],
   "source": [
    "web_adress.startswith(\"www\")"
   ]
  },
  {
   "cell_type": "code",
   "execution_count": 12,
   "id": "a6d5ac27-ca65-4980-892b-9bd472d19504",
   "metadata": {},
   "outputs": [
    {
     "data": {
      "text/plain": [
       "False"
      ]
     },
     "execution_count": 12,
     "metadata": {},
     "output_type": "execute_result"
    }
   ],
   "source": [
    "web_adress.startswith(\"com\")"
   ]
  },
  {
   "cell_type": "code",
   "execution_count": 13,
   "id": "814a5e3b-a1f0-4688-a532-6b6aa5ef248d",
   "metadata": {},
   "outputs": [
    {
     "data": {
      "text/plain": [
       "True"
      ]
     },
     "execution_count": 13,
     "metadata": {},
     "output_type": "execute_result"
    }
   ],
   "source": [
    "web_adress.endswith(\".com\")"
   ]
  },
  {
   "cell_type": "code",
   "execution_count": 23,
   "id": "e5c0e1cf-d4bc-41ce-8227-467506d83f40",
   "metadata": {},
   "outputs": [
    {
     "data": {
      "text/plain": [
       "True"
      ]
     },
     "execution_count": 23,
     "metadata": {},
     "output_type": "execute_result"
    }
   ],
   "source": [
    "web_adress.startswith(\"data\", 4, 8)"
   ]
  },
  {
   "cell_type": "code",
   "execution_count": null,
   "id": "bcdfdc6b-3204-4054-a603-e8cedc3b8da1",
   "metadata": {},
   "outputs": [],
   "source": [
    "web_adress.startswith()"
   ]
  },
  {
   "cell_type": "markdown",
   "id": "a14a15e0-8d7c-456f-aa30-bf270f383e76",
   "metadata": {
    "tags": []
   },
   "source": [
    "### STRİNGLERDE KARAKTER DEĞİŞTİRME METODU : REPLACE()"
   ]
  },
  {
   "cell_type": "code",
   "execution_count": 8,
   "id": "a73c2c45-52d7-4826-abc1-265522d6ba68",
   "metadata": {},
   "outputs": [],
   "source": [
    "name = \"j-o-s-e-p-h\""
   ]
  },
  {
   "cell_type": "code",
   "execution_count": 9,
   "id": "26ea492f-787d-4401-be30-ac5c902f484d",
   "metadata": {},
   "outputs": [
    {
     "data": {
      "text/plain": [
       "'joseph'"
      ]
     },
     "execution_count": 9,
     "metadata": {},
     "output_type": "execute_result"
    }
   ],
   "source": [
    "name.replace(\"-\", \"\")"
   ]
  },
  {
   "cell_type": "code",
   "execution_count": 10,
   "id": "65129015-508b-41e5-8777-bb26f35e6c57",
   "metadata": {},
   "outputs": [],
   "source": [
    "name = name.replace(\"-\", \"\")"
   ]
  },
  {
   "cell_type": "code",
   "execution_count": 11,
   "id": "8819092b-6d43-4455-8fbf-3c7ac91e34e9",
   "metadata": {},
   "outputs": [
    {
     "data": {
      "text/plain": [
       "'joseph'"
      ]
     },
     "execution_count": 11,
     "metadata": {},
     "output_type": "execute_result"
    }
   ],
   "source": [
    "name"
   ]
  },
  {
   "cell_type": "code",
   "execution_count": 12,
   "id": "cbdb29e5-3366-4cef-b668-bb0e2aee83b6",
   "metadata": {},
   "outputs": [],
   "source": [
    "university = \"h-ar-w-a-r-d\""
   ]
  },
  {
   "cell_type": "code",
   "execution_count": 13,
   "id": "eaef1687-542e-4b4d-8edf-bb4ee574c209",
   "metadata": {},
   "outputs": [
    {
     "data": {
      "text/plain": [
       "'harw-a-r-d'"
      ]
     },
     "execution_count": 13,
     "metadata": {},
     "output_type": "execute_result"
    }
   ],
   "source": [
    "university.replace(\"-\", \"\", 2)"
   ]
  },
  {
   "cell_type": "markdown",
   "id": "9966dcdf-eb1a-4639-8937-61023c6a0ca3",
   "metadata": {},
   "source": [
    "###  STRİNGLERDE İMLA’SAL DEĞİŞTİRME METODLARI  \n"
   ]
  },
  {
   "cell_type": "code",
   "execution_count": 15,
   "id": "df8e5739-b29e-4ed3-a088-872490c253a2",
   "metadata": {},
   "outputs": [],
   "source": [
    "sentence = \"I Live ın United states\""
   ]
  },
  {
   "cell_type": "code",
   "execution_count": 16,
   "id": "d9ed5f38-5d1e-42e6-8617-97252715fb72",
   "metadata": {},
   "outputs": [
    {
     "data": {
      "text/plain": [
       "'i lIVE IN uNITED STATES'"
      ]
     },
     "execution_count": 16,
     "metadata": {},
     "output_type": "execute_result"
    }
   ],
   "source": [
    "sentence.swapcase()"
   ]
  },
  {
   "cell_type": "code",
   "execution_count": 17,
   "id": "4de156e5-78c7-48d1-9bd8-25f673cae883",
   "metadata": {},
   "outputs": [
    {
     "data": {
      "text/plain": [
       "'I live ın united states'"
      ]
     },
     "execution_count": 17,
     "metadata": {},
     "output_type": "execute_result"
    }
   ],
   "source": [
    "sentence.capitalize()"
   ]
  },
  {
   "cell_type": "code",
   "execution_count": 18,
   "id": "cd847f3a-9a53-462a-951b-8c3630428db9",
   "metadata": {},
   "outputs": [
    {
     "data": {
      "text/plain": [
       "'I LIVE IN UNITED STATES'"
      ]
     },
     "execution_count": 18,
     "metadata": {},
     "output_type": "execute_result"
    }
   ],
   "source": [
    "sentence.upper()"
   ]
  },
  {
   "cell_type": "code",
   "execution_count": 19,
   "id": "23934b99-ee18-4f91-9fe7-2569d0a3c33e",
   "metadata": {},
   "outputs": [
    {
     "data": {
      "text/plain": [
       "'i live ın united states'"
      ]
     },
     "execution_count": 19,
     "metadata": {},
     "output_type": "execute_result"
    }
   ],
   "source": [
    "sentence.lower()"
   ]
  },
  {
   "cell_type": "code",
   "execution_count": 20,
   "id": "5e3294b1-39fe-4eed-a34f-3859ba1d5d1b",
   "metadata": {},
   "outputs": [
    {
     "data": {
      "text/plain": [
       "'I Live In United States'"
      ]
     },
     "execution_count": 20,
     "metadata": {},
     "output_type": "execute_result"
    }
   ],
   "source": [
    "sentence.title()"
   ]
  },
  {
   "cell_type": "code",
   "execution_count": 24,
   "id": "d1248297-1dd4-4dea-83e3-55bb09049653",
   "metadata": {},
   "outputs": [
    {
     "data": {
      "text/plain": [
       "'i lIVE iN uNITED sTATES'"
      ]
     },
     "execution_count": 24,
     "metadata": {},
     "output_type": "execute_result"
    }
   ],
   "source": [
    "sentence.title().swapcase()"
   ]
  },
  {
   "cell_type": "markdown",
   "id": "b3b5c2aa-7870-483e-95bc-a189ed14bee6",
   "metadata": {},
   "source": [
    "### STRINGLERDE KIRPMA METODLARI : STRIP() METODU"
   ]
  },
  {
   "cell_type": "code",
   "execution_count": 14,
   "id": "4ebcdc59-a31b-4f71-83fd-2963a01c392a",
   "metadata": {},
   "outputs": [],
   "source": [
    "space = \"   example   \""
   ]
  },
  {
   "cell_type": "code",
   "execution_count": 15,
   "id": "84ea25b9-9785-4da2-a06d-7bed662648eb",
   "metadata": {},
   "outputs": [
    {
     "data": {
      "text/plain": [
       "'example'"
      ]
     },
     "execution_count": 15,
     "metadata": {},
     "output_type": "execute_result"
    }
   ],
   "source": [
    "space.strip()"
   ]
  },
  {
   "cell_type": "code",
   "execution_count": 16,
   "id": "72726482-0407-4dd0-803b-a173839c6902",
   "metadata": {},
   "outputs": [
    {
     "data": {
      "text/plain": [
       "'   example'"
      ]
     },
     "execution_count": 16,
     "metadata": {},
     "output_type": "execute_result"
    }
   ],
   "source": [
    "space.rstrip()"
   ]
  },
  {
   "cell_type": "code",
   "execution_count": 17,
   "id": "ce23c402-b28d-40a4-8bcb-88a09a9c48cd",
   "metadata": {},
   "outputs": [
    {
     "data": {
      "text/plain": [
       "'example   '"
      ]
     },
     "execution_count": 17,
     "metadata": {},
     "output_type": "execute_result"
    }
   ],
   "source": [
    "space.lstrip()"
   ]
  },
  {
   "cell_type": "code",
   "execution_count": 18,
   "id": "9cc26ce0-b7d9-4d02-be7e-6713af09fa12",
   "metadata": {},
   "outputs": [
    {
     "data": {
      "text/plain": [
       "'xampl'"
      ]
     },
     "execution_count": 18,
     "metadata": {},
     "output_type": "execute_result"
    }
   ],
   "source": [
    "space.strip().strip(\"e\")"
   ]
  },
  {
   "cell_type": "code",
   "execution_count": 19,
   "id": "c830e54d-caaa-41a1-812d-d9de10127f0f",
   "metadata": {
    "jupyter": {
     "outputs_hidden": true
    },
    "tags": []
   },
   "outputs": [
    {
     "data": {
      "text/plain": [
       "['__add__',\n",
       " '__class__',\n",
       " '__contains__',\n",
       " '__delattr__',\n",
       " '__dir__',\n",
       " '__doc__',\n",
       " '__eq__',\n",
       " '__format__',\n",
       " '__ge__',\n",
       " '__getattribute__',\n",
       " '__getitem__',\n",
       " '__getnewargs__',\n",
       " '__gt__',\n",
       " '__hash__',\n",
       " '__init__',\n",
       " '__init_subclass__',\n",
       " '__iter__',\n",
       " '__le__',\n",
       " '__len__',\n",
       " '__lt__',\n",
       " '__mod__',\n",
       " '__mul__',\n",
       " '__ne__',\n",
       " '__new__',\n",
       " '__reduce__',\n",
       " '__reduce_ex__',\n",
       " '__repr__',\n",
       " '__rmod__',\n",
       " '__rmul__',\n",
       " '__setattr__',\n",
       " '__sizeof__',\n",
       " '__str__',\n",
       " '__subclasshook__',\n",
       " 'capitalize',\n",
       " 'casefold',\n",
       " 'center',\n",
       " 'count',\n",
       " 'encode',\n",
       " 'endswith',\n",
       " 'expandtabs',\n",
       " 'find',\n",
       " 'format',\n",
       " 'format_map',\n",
       " 'index',\n",
       " 'isalnum',\n",
       " 'isalpha',\n",
       " 'isascii',\n",
       " 'isdecimal',\n",
       " 'isdigit',\n",
       " 'isidentifier',\n",
       " 'islower',\n",
       " 'isnumeric',\n",
       " 'isprintable',\n",
       " 'isspace',\n",
       " 'istitle',\n",
       " 'isupper',\n",
       " 'join',\n",
       " 'ljust',\n",
       " 'lower',\n",
       " 'lstrip',\n",
       " 'maketrans',\n",
       " 'partition',\n",
       " 'replace',\n",
       " 'rfind',\n",
       " 'rindex',\n",
       " 'rjust',\n",
       " 'rpartition',\n",
       " 'rsplit',\n",
       " 'rstrip',\n",
       " 'split',\n",
       " 'splitlines',\n",
       " 'startswith',\n",
       " 'strip',\n",
       " 'swapcase',\n",
       " 'title',\n",
       " 'translate',\n",
       " 'upper',\n",
       " 'zfill']"
      ]
     },
     "execution_count": 19,
     "metadata": {},
     "output_type": "execute_result"
    }
   ],
   "source": [
    "dir(space)"
   ]
  },
  {
   "cell_type": "code",
   "execution_count": 20,
   "id": "8d04a34c-448b-4f08-8ea5-339e7889bac4",
   "metadata": {},
   "outputs": [
    {
     "ename": "SyntaxError",
     "evalue": "invalid syntax (<ipython-input-20-d1a083c02b0b>, line 1)",
     "output_type": "error",
     "traceback": [
      "\u001b[1;36m  File \u001b[1;32m\"<ipython-input-20-d1a083c02b0b>\"\u001b[1;36m, line \u001b[1;32m1\u001b[0m\n\u001b[1;33m    space.\u001b[0m\n\u001b[1;37m          ^\u001b[0m\n\u001b[1;31mSyntaxError\u001b[0m\u001b[1;31m:\u001b[0m invalid syntax\n"
     ]
    }
   ],
   "source": [
    "space."
   ]
  },
  {
   "cell_type": "markdown",
   "id": "a1245a86-bb31-4801-a746-57dd677423e5",
   "metadata": {},
   "source": [
    "###  KARAKTER DİZİLERİNİN GÜCÜ - KARAKTER DİZELERİNİ İNDEXLEME VE DİLİMLEME\n"
   ]
  },
  {
   "cell_type": "code",
   "execution_count": 21,
   "id": "69e7095c-d61d-47b2-b0cc-b8cebcb72067",
   "metadata": {},
   "outputs": [],
   "source": [
    "car = \"ferrari\""
   ]
  },
  {
   "cell_type": "code",
   "execution_count": 45,
   "id": "ddc8734e-4fb1-4b5d-aafe-b8a6c6327b47",
   "metadata": {},
   "outputs": [
    {
     "name": "stdout",
     "output_type": "stream",
     "text": [
      "First letter:  f\n"
     ]
    }
   ],
   "source": [
    "car[0]\n",
    "print(\"First letter: \", car[0])"
   ]
  },
  {
   "cell_type": "code",
   "execution_count": 47,
   "id": "ef666328-cb14-4c83-8a83-3259db76f6b2",
   "metadata": {},
   "outputs": [
    {
     "name": "stdout",
     "output_type": "stream",
     "text": [
      "Third letter:  r\n"
     ]
    }
   ],
   "source": [
    "print(\"Third letter: \", car[2])"
   ]
  },
  {
   "cell_type": "code",
   "execution_count": 50,
   "id": "42eb62dc-a997-4627-be4e-c94141fc7de5",
   "metadata": {},
   "outputs": [
    {
     "data": {
      "text/plain": [
       "'erra'"
      ]
     },
     "execution_count": 50,
     "metadata": {},
     "output_type": "execute_result"
    }
   ],
   "source": [
    "car[1:5]"
   ]
  },
  {
   "cell_type": "code",
   "execution_count": 51,
   "id": "b23c5308-4df4-4f90-9d9f-f303ee81b349",
   "metadata": {},
   "outputs": [
    {
     "name": "stdout",
     "output_type": "stream",
     "text": [
      "1st to 5th letter:  erra\n"
     ]
    }
   ],
   "source": [
    "print(\"1st to 5th letter: \", car[1:5])"
   ]
  },
  {
   "cell_type": "code",
   "execution_count": 52,
   "id": "7f8f78be-1993-4fc4-bf2f-59305e47b915",
   "metadata": {},
   "outputs": [
    {
     "data": {
      "text/plain": [
       "'errari'"
      ]
     },
     "execution_count": 52,
     "metadata": {},
     "output_type": "execute_result"
    }
   ],
   "source": [
    "car[1:]"
   ]
  },
  {
   "cell_type": "code",
   "execution_count": 53,
   "id": "55da8296-0685-45a0-b43c-039615c37122",
   "metadata": {},
   "outputs": [
    {
     "data": {
      "text/plain": [
       "'ferra'"
      ]
     },
     "execution_count": 53,
     "metadata": {},
     "output_type": "execute_result"
    }
   ],
   "source": [
    "car[:5]"
   ]
  },
  {
   "cell_type": "markdown",
   "id": "1dc32a4b-41d1-4566-a686-dd6fc3e0e46e",
   "metadata": {},
   "source": [
    "### KARAKTER DİZİLERİNİN GÜCÜ-COMPLEX İNDEXLEME VE DİLİMLEME İŞLEMLERİ\n"
   ]
  },
  {
   "cell_type": "code",
   "execution_count": 31,
   "id": "f0a17c04-6064-413e-975d-835de3291385",
   "metadata": {},
   "outputs": [],
   "source": [
    "car = \"ferrari\""
   ]
  },
  {
   "cell_type": "code",
   "execution_count": 32,
   "id": "3d55975d-acc5-4933-b45d-11986e36578e",
   "metadata": {},
   "outputs": [
    {
     "data": {
      "text/plain": [
       "'r'"
      ]
     },
     "execution_count": 32,
     "metadata": {},
     "output_type": "execute_result"
    }
   ],
   "source": [
    "car[-2]"
   ]
  },
  {
   "cell_type": "code",
   "execution_count": 39,
   "id": "fb005fea-6059-4f10-bc30-5fde37e3c704",
   "metadata": {},
   "outputs": [
    {
     "data": {
      "text/plain": [
       "'rra'"
      ]
     },
     "execution_count": 39,
     "metadata": {},
     "output_type": "execute_result"
    }
   ],
   "source": [
    "car[-5:-2]"
   ]
  },
  {
   "cell_type": "code",
   "execution_count": 40,
   "id": "c41e0955-e00f-4449-a8ce-0e84473819ae",
   "metadata": {},
   "outputs": [
    {
     "data": {
      "text/plain": [
       "'frai'"
      ]
     },
     "execution_count": 40,
     "metadata": {},
     "output_type": "execute_result"
    }
   ],
   "source": [
    "car[0:7:2]"
   ]
  },
  {
   "cell_type": "code",
   "execution_count": 41,
   "id": "4f0d72aa-cf3d-4dc6-89c6-ca88642cfb46",
   "metadata": {},
   "outputs": [
    {
     "data": {
      "text/plain": [
       "'fri'"
      ]
     },
     "execution_count": 41,
     "metadata": {},
     "output_type": "execute_result"
    }
   ],
   "source": [
    "car[0:7:3]"
   ]
  },
  {
   "cell_type": "code",
   "execution_count": 49,
   "id": "9bc19c1f-843c-4332-a6f8-3503bf552e36",
   "metadata": {},
   "outputs": [
    {
     "data": {
      "text/plain": [
       "'ferrari'"
      ]
     },
     "execution_count": 49,
     "metadata": {},
     "output_type": "execute_result"
    }
   ],
   "source": [
    "car[::]"
   ]
  },
  {
   "cell_type": "code",
   "execution_count": 50,
   "id": "79f8190c-f53f-4f8b-8d1b-76b61990d351",
   "metadata": {},
   "outputs": [
    {
     "data": {
      "text/plain": [
       "'frai'"
      ]
     },
     "execution_count": 50,
     "metadata": {},
     "output_type": "execute_result"
    }
   ],
   "source": [
    "car[::2]"
   ]
  },
  {
   "cell_type": "code",
   "execution_count": 52,
   "id": "d2802fd0-862b-49db-8fc7-7a6cc383243c",
   "metadata": {},
   "outputs": [
    {
     "data": {
      "text/plain": [
       "'ri'"
      ]
     },
     "execution_count": 52,
     "metadata": {},
     "output_type": "execute_result"
    }
   ],
   "source": [
    "car[2::4]"
   ]
  },
  {
   "cell_type": "markdown",
   "id": "5f50e7e5-3ccc-405d-a2f1-2052aa5326a3",
   "metadata": {},
   "source": [
    "### KARAKTER DİZİLERİNİN GÜCÜ - ARİTMETİK İŞLEMLER İLE KARAKTER DİZİSİ BİÇİMLEME"
   ]
  },
  {
   "cell_type": "code",
   "execution_count": 1,
   "id": "c2b1b1bd-94e7-436b-9f21-c8a25983e575",
   "metadata": {},
   "outputs": [],
   "source": [
    "nba = \"lakers\""
   ]
  },
  {
   "cell_type": "code",
   "execution_count": 3,
   "id": "a07e00fd-fd4e-4073-beab-ac51a995f5e9",
   "metadata": {},
   "outputs": [],
   "source": [
    "nba = nba + \" celtics\""
   ]
  },
  {
   "cell_type": "code",
   "execution_count": 4,
   "id": "8cf6102b-3bf8-4893-9736-4a670ae1db87",
   "metadata": {},
   "outputs": [],
   "source": [
    "nba += \" dallas\""
   ]
  },
  {
   "cell_type": "code",
   "execution_count": 5,
   "id": "4f69caec-2d3a-4398-9b33-bc68e7544299",
   "metadata": {},
   "outputs": [
    {
     "data": {
      "text/plain": [
       "'lakers celtics dallas'"
      ]
     },
     "execution_count": 5,
     "metadata": {},
     "output_type": "execute_result"
    }
   ],
   "source": [
    "nba"
   ]
  },
  {
   "cell_type": "code",
   "execution_count": 6,
   "id": "93b50518-d90b-4b1e-9a26-baf74ddc68ce",
   "metadata": {},
   "outputs": [],
   "source": [
    "nba *= 3"
   ]
  },
  {
   "cell_type": "code",
   "execution_count": 7,
   "id": "4005b81a-ddd4-4887-8e6e-9ae7d0b596eb",
   "metadata": {},
   "outputs": [
    {
     "data": {
      "text/plain": [
       "'lakers celtics dallaslakers celtics dallaslakers celtics dallas'"
      ]
     },
     "execution_count": 7,
     "metadata": {},
     "output_type": "execute_result"
    }
   ],
   "source": [
    "nba"
   ]
  },
  {
   "cell_type": "code",
   "execution_count": 8,
   "id": "6fe1cd39-167e-42d0-a610-b9dc3429d0d2",
   "metadata": {},
   "outputs": [],
   "source": [
    "futbol = \"barcelona\""
   ]
  },
  {
   "cell_type": "code",
   "execution_count": 12,
   "id": "2566b66e-1601-41ec-85fe-49fb074babff",
   "metadata": {},
   "outputs": [
    {
     "data": {
      "text/plain": [
       "'barcelona'"
      ]
     },
     "execution_count": 12,
     "metadata": {},
     "output_type": "execute_result"
    }
   ],
   "source": [
    "futbol"
   ]
  },
  {
   "cell_type": "code",
   "execution_count": 11,
   "id": "6859544e-69aa-4391-88a9-b49bc052bb83",
   "metadata": {},
   "outputs": [
    {
     "name": "stdout",
     "output_type": "stream",
     "text": [
      "b a r c e l o n a\n"
     ]
    }
   ],
   "source": [
    "print(*futbol)"
   ]
  },
  {
   "cell_type": "markdown",
   "id": "3a59d0f1-302d-4e8c-9fbc-dfe3ad20885c",
   "metadata": {},
   "source": [
    "### KARAKTER DİZİLERİNİN GÜCÜ - STRİNG FORMATTİNG METODLARI - % OPERATÖR İLE STRİNG FORMATTİNG\n"
   ]
  },
  {
   "cell_type": "code",
   "execution_count": null,
   "id": "f244fc97-9fe4-457c-a555-1cb80ee0105a",
   "metadata": {},
   "outputs": [],
   "source": [
    "school = \"There are 2 ... in the school\""
   ]
  },
  {
   "cell_type": "code",
   "execution_count": 13,
   "id": "68c31bd0-b885-4e5c-b1f4-a9e0df7b3940",
   "metadata": {},
   "outputs": [],
   "source": [
    "school = \"There are 2 %s in the school\""
   ]
  },
  {
   "cell_type": "code",
   "execution_count": 14,
   "id": "9d1d1e9d-2a30-405f-9ef9-453c30e40b94",
   "metadata": {},
   "outputs": [
    {
     "name": "stdout",
     "output_type": "stream",
     "text": [
      "There are 2 children in the school\n"
     ]
    }
   ],
   "source": [
    "print(school %\"children\")"
   ]
  },
  {
   "cell_type": "code",
   "execution_count": 15,
   "id": "50b22219-6dc7-4875-a77c-5234b10f1e47",
   "metadata": {},
   "outputs": [
    {
     "name": "stdout",
     "output_type": "stream",
     "text": [
      "There are 2 teacher in the school\n"
     ]
    }
   ],
   "source": [
    "print(school %\"teacher\")"
   ]
  },
  {
   "cell_type": "code",
   "execution_count": 18,
   "id": "d26156a0-08d0-4f0d-b836-dc06e953dbcd",
   "metadata": {},
   "outputs": [],
   "source": [
    "sentence = \"I'm ... years old, my height is ... cm\""
   ]
  },
  {
   "cell_type": "code",
   "execution_count": 22,
   "id": "4b34875b-240c-4a3e-bbb1-ce6efb43d607",
   "metadata": {},
   "outputs": [],
   "source": [
    "sentence = \"I'm %d years old, my height is %.2f cm\""
   ]
  },
  {
   "cell_type": "code",
   "execution_count": 23,
   "id": "73ca729c-5241-4492-986e-d31928a77360",
   "metadata": {},
   "outputs": [],
   "source": [
    "age = 29 \n",
    "height = 1.89"
   ]
  },
  {
   "cell_type": "code",
   "execution_count": 24,
   "id": "9d0aef0e-c7f7-40ab-9c67-b9da60008eab",
   "metadata": {},
   "outputs": [
    {
     "name": "stdout",
     "output_type": "stream",
     "text": [
      "I'm 29 years old, my height is 1.89 cm\n"
     ]
    }
   ],
   "source": [
    "print(sentence%(age,height))"
   ]
  },
  {
   "cell_type": "code",
   "execution_count": 25,
   "id": "0abf5f3a-4ac6-4c78-b71f-a67956ab7911",
   "metadata": {},
   "outputs": [],
   "source": [
    "age = 35\n",
    "height = 1.72"
   ]
  },
  {
   "cell_type": "code",
   "execution_count": 26,
   "id": "738a1e88-7c18-4175-829d-25eed9cead43",
   "metadata": {},
   "outputs": [
    {
     "name": "stdout",
     "output_type": "stream",
     "text": [
      "I'm 35 years old, my height is 1.72 cm\n"
     ]
    }
   ],
   "source": [
    "print(sentence%(age,height))"
   ]
  },
  {
   "cell_type": "markdown",
   "id": "b8f3085b-4c23-4889-8d78-e34fbd888e80",
   "metadata": {},
   "source": [
    "### KARAKTER DİZİLERİNİN GÜCÜ - STRİNG FORMATTİNG METODLARI – STRING.FORMAT() METODU\n"
   ]
  },
  {
   "cell_type": "code",
   "execution_count": null,
   "id": "6e51c732-d022-40bc-9a3a-df4c4136522c",
   "metadata": {},
   "outputs": [],
   "source": [
    "bazaar = \"I bought ... kilos of ... from the bazaar\""
   ]
  },
  {
   "cell_type": "code",
   "execution_count": 28,
   "id": "88593ae2-5b50-41a9-b9b6-d6c15cb1eb3d",
   "metadata": {},
   "outputs": [],
   "source": [
    "bazaar = \"I bought {} kilos of {} from the bazaar\""
   ]
  },
  {
   "cell_type": "code",
   "execution_count": 31,
   "id": "99bde0c7-c3e9-4613-afd8-1bd896f3ec59",
   "metadata": {},
   "outputs": [],
   "source": [
    "kilos = 2\n",
    "vegetables = \"tomatoes\""
   ]
  },
  {
   "cell_type": "code",
   "execution_count": 33,
   "id": "91fb3f63-37ed-4ed0-9bbd-1b40862d29b2",
   "metadata": {},
   "outputs": [
    {
     "name": "stdout",
     "output_type": "stream",
     "text": [
      "I bought 2 kilos of tomatoes from the bazaar\n"
     ]
    }
   ],
   "source": [
    "print(bazaar.format(kilos, vegetables))"
   ]
  },
  {
   "cell_type": "code",
   "execution_count": 36,
   "id": "214a7b11-160a-40d8-b9ec-02a5f8db6638",
   "metadata": {
    "tags": []
   },
   "outputs": [
    {
     "name": "stdout",
     "output_type": "stream",
     "text": [
      "I bought 2.5 kilos of patato from the bazaar\n"
     ]
    }
   ],
   "source": [
    "print( \"I bought {} kilos of {} from the bazaar\".format(3.5, \"patato\"))"
   ]
  },
  {
   "cell_type": "code",
   "execution_count": null,
   "id": "c1a67115-16b3-4cde-b260-8cfc67547633",
   "metadata": {},
   "outputs": [],
   "source": [
    "\"... vs ... match ended ... - ...\""
   ]
  },
  {
   "cell_type": "code",
   "execution_count": null,
   "id": "724f28e8-f696-43dc-a587-0eac550df946",
   "metadata": {},
   "outputs": [],
   "source": [
    "\"{} vs {} match ended {} - {}\".format(3 , 4 , \"real madrid\", \"barcelona\")"
   ]
  },
  {
   "cell_type": "code",
   "execution_count": 37,
   "id": "231db1f6-e43a-4ead-bc81-7019e254e9f1",
   "metadata": {},
   "outputs": [
    {
     "data": {
      "text/plain": [
       "'barcelona vs real madrid match ended 4 - 3'"
      ]
     },
     "execution_count": 37,
     "metadata": {},
     "output_type": "execute_result"
    }
   ],
   "source": [
    "\"{3} vs {2} match ended {1} - {0}\".format(3 , 4 , \"real madrid\", \"barcelona\")"
   ]
  },
  {
   "cell_type": "markdown",
   "id": "7befcdf4-91b4-47d0-bbe0-f62c9e520981",
   "metadata": {},
   "source": [
    "### KARAKTER DİZİLERİNİN GÜCÜ - STRİNG FORMATTİNG METODLARI – F-STRİNG METODU\n"
   ]
  },
  {
   "cell_type": "code",
   "execution_count": 39,
   "id": "5f6c1956-e224-4c93-9b42-b87d36dc50ac",
   "metadata": {},
   "outputs": [],
   "source": [
    "kilos = 2\n",
    "vegetables = \"tomatoes\""
   ]
  },
  {
   "cell_type": "code",
   "execution_count": null,
   "id": "31cd74ea-ea92-4b83-b156-8d962f580839",
   "metadata": {},
   "outputs": [],
   "source": [
    "\"I bought {} kilos of {} from the bazaar\""
   ]
  },
  {
   "cell_type": "code",
   "execution_count": 43,
   "id": "2e315510-f5d6-44c3-8680-851308607672",
   "metadata": {},
   "outputs": [
    {
     "data": {
      "text/plain": [
       "'I bought 2 kilos of tomatoes from the bazaar'"
      ]
     },
     "execution_count": 43,
     "metadata": {},
     "output_type": "execute_result"
    }
   ],
   "source": [
    "f\"I bought {kilos} kilos of {vegetables} from the bazaar\""
   ]
  },
  {
   "cell_type": "code",
   "execution_count": 44,
   "id": "ffafe2b0-5ce3-430b-95b6-ba0c9711adee",
   "metadata": {},
   "outputs": [],
   "source": [
    "sample = f\"I'm {2**5} years old\""
   ]
  },
  {
   "cell_type": "code",
   "execution_count": 45,
   "id": "f5a68813-d938-466d-b043-a50239cbe91d",
   "metadata": {},
   "outputs": [
    {
     "name": "stdout",
     "output_type": "stream",
     "text": [
      "I'm 32 years old\n"
     ]
    }
   ],
   "source": [
    "print(sample)"
   ]
  },
  {
   "cell_type": "code",
   "execution_count": 46,
   "id": "dc641450-9f5a-484b-ad8b-84cd6884256c",
   "metadata": {},
   "outputs": [],
   "source": [
    "name = \"joseph\""
   ]
  },
  {
   "cell_type": "code",
   "execution_count": 47,
   "id": "7f0dd495-44bf-4708-b0b1-e4a9acefa6ac",
   "metadata": {},
   "outputs": [
    {
     "data": {
      "text/plain": [
       "'My name is JOSEPH'"
      ]
     },
     "execution_count": 47,
     "metadata": {},
     "output_type": "execute_result"
    }
   ],
   "source": [
    "f\"My name is {name.upper()}\""
   ]
  },
  {
   "cell_type": "markdown",
   "id": "b95de6eb",
   "metadata": {},
   "source": [
    "### VERİ YAPILARI - LİSTELER - LİSTE OLUŞTURMA"
   ]
  },
  {
   "cell_type": "code",
   "execution_count": 3,
   "id": "04ceade6",
   "metadata": {},
   "outputs": [],
   "source": [
    "premier_league = [\"manchester\", \"chelsea\", \"arsenal\", \"liverpool\", \"everton\"]"
   ]
  },
  {
   "cell_type": "code",
   "execution_count": 4,
   "id": "a352bb99",
   "metadata": {
    "scrolled": true
   },
   "outputs": [
    {
     "name": "stdout",
     "output_type": "stream",
     "text": [
      "['manchester', 'chelsea', 'arsenal', 'liverpool', 'everton']\n"
     ]
    }
   ],
   "source": [
    "print(premier_league)"
   ]
  },
  {
   "cell_type": "code",
   "execution_count": 5,
   "id": "48aebd5f",
   "metadata": {},
   "outputs": [
    {
     "data": {
      "text/plain": [
       "list"
      ]
     },
     "execution_count": 5,
     "metadata": {},
     "output_type": "execute_result"
    }
   ],
   "source": [
    "type(premier_league)"
   ]
  },
  {
   "cell_type": "code",
   "execution_count": 8,
   "id": "56552587",
   "metadata": {},
   "outputs": [],
   "source": [
    "list_example = [20, 7.8, True, \"football\", premier_league]"
   ]
  },
  {
   "cell_type": "code",
   "execution_count": 9,
   "id": "8b6782fe",
   "metadata": {},
   "outputs": [
    {
     "name": "stdout",
     "output_type": "stream",
     "text": [
      "[20, 7.8, True, 'football', ['manchester', 'chelsea', 'arsenal', 'liverpool', 'everton']]\n"
     ]
    }
   ],
   "source": [
    "print(list_example)"
   ]
  },
  {
   "cell_type": "code",
   "execution_count": 10,
   "id": "bbf62170",
   "metadata": {},
   "outputs": [
    {
     "data": {
      "text/plain": [
       "5"
      ]
     },
     "execution_count": 10,
     "metadata": {},
     "output_type": "execute_result"
    }
   ],
   "source": [
    "len(list_example)"
   ]
  },
  {
   "cell_type": "code",
   "execution_count": 13,
   "id": "e1be7495",
   "metadata": {},
   "outputs": [],
   "source": [
    "variable = 20, 7.8, \"football\", premier_league"
   ]
  },
  {
   "cell_type": "code",
   "execution_count": 15,
   "id": "9ea5ca41",
   "metadata": {},
   "outputs": [
    {
     "data": {
      "text/plain": [
       "tuple"
      ]
     },
     "execution_count": 15,
     "metadata": {},
     "output_type": "execute_result"
    }
   ],
   "source": [
    "type(variable)"
   ]
  },
  {
   "cell_type": "code",
   "execution_count": 16,
   "id": "ec6474df",
   "metadata": {},
   "outputs": [],
   "source": [
    "new_list = list(variable)"
   ]
  },
  {
   "cell_type": "code",
   "execution_count": 17,
   "id": "65224fa8",
   "metadata": {},
   "outputs": [
    {
     "data": {
      "text/plain": [
       "[20,\n",
       " 7.8,\n",
       " 'football',\n",
       " ['manchester', 'chelsea', 'arsenal', 'liverpool', 'everton']]"
      ]
     },
     "execution_count": 17,
     "metadata": {},
     "output_type": "execute_result"
    }
   ],
   "source": [
    "new_list"
   ]
  },
  {
   "cell_type": "code",
   "execution_count": 18,
   "id": "1fbc59a9",
   "metadata": {},
   "outputs": [
    {
     "data": {
      "text/plain": [
       "list"
      ]
     },
     "execution_count": 18,
     "metadata": {},
     "output_type": "execute_result"
    }
   ],
   "source": [
    "type(new_list)"
   ]
  },
  {
   "cell_type": "markdown",
   "id": "a444a1e4",
   "metadata": {},
   "source": [
    "### VERİ YAPILARI - LİSTELER - LİSTE ELEMANLARINA ULAŞMA-İNDEXLEME VE DİLİMLEME\n"
   ]
  },
  {
   "cell_type": "code",
   "execution_count": 8,
   "id": "9f059ca6",
   "metadata": {},
   "outputs": [],
   "source": [
    "premier_league = [\"manchester\", \"chelsea\", \"arsenal\", \"liverpool\", \"everton\"]"
   ]
  },
  {
   "cell_type": "code",
   "execution_count": 9,
   "id": "f5d5e04d",
   "metadata": {},
   "outputs": [
    {
     "name": "stdout",
     "output_type": "stream",
     "text": [
      "['manchester', 'chelsea', 'arsenal', 'liverpool', 'everton']\n"
     ]
    }
   ],
   "source": [
    "print(premier_league)"
   ]
  },
  {
   "cell_type": "code",
   "execution_count": 10,
   "id": "00d720e1",
   "metadata": {},
   "outputs": [],
   "source": [
    "list_example = [20, 7.8, True, \"football\", premier_league]"
   ]
  },
  {
   "cell_type": "code",
   "execution_count": 11,
   "id": "a8ffefea",
   "metadata": {},
   "outputs": [
    {
     "name": "stdout",
     "output_type": "stream",
     "text": [
      "[20, 7.8, True, 'football', ['manchester', 'chelsea', 'arsenal', 'liverpool', 'everton']]\n"
     ]
    }
   ],
   "source": [
    "print(list_example)"
   ]
  },
  {
   "cell_type": "code",
   "execution_count": 12,
   "id": "aa5e94ae",
   "metadata": {},
   "outputs": [
    {
     "data": {
      "text/plain": [
       "True"
      ]
     },
     "execution_count": 12,
     "metadata": {},
     "output_type": "execute_result"
    }
   ],
   "source": [
    "list_example[2]"
   ]
  },
  {
   "cell_type": "code",
   "execution_count": 13,
   "id": "330889fc",
   "metadata": {},
   "outputs": [
    {
     "data": {
      "text/plain": [
       "20"
      ]
     },
     "execution_count": 13,
     "metadata": {},
     "output_type": "execute_result"
    }
   ],
   "source": [
    "list_example[0]"
   ]
  },
  {
   "cell_type": "code",
   "execution_count": 14,
   "id": "7f61c840",
   "metadata": {},
   "outputs": [
    {
     "data": {
      "text/plain": [
       "7.8"
      ]
     },
     "execution_count": 14,
     "metadata": {},
     "output_type": "execute_result"
    }
   ],
   "source": [
    "list_example[1]"
   ]
  },
  {
   "cell_type": "code",
   "execution_count": 15,
   "id": "057f495e",
   "metadata": {},
   "outputs": [
    {
     "data": {
      "text/plain": [
       "'football'"
      ]
     },
     "execution_count": 15,
     "metadata": {},
     "output_type": "execute_result"
    }
   ],
   "source": [
    "list_example[3]"
   ]
  },
  {
   "cell_type": "code",
   "execution_count": 16,
   "id": "dcbcf783",
   "metadata": {},
   "outputs": [
    {
     "data": {
      "text/plain": [
       "['manchester', 'chelsea', 'arsenal', 'liverpool', 'everton']"
      ]
     },
     "execution_count": 16,
     "metadata": {},
     "output_type": "execute_result"
    }
   ],
   "source": [
    "list_example[4]"
   ]
  },
  {
   "cell_type": "code",
   "execution_count": 17,
   "id": "c5c95e84",
   "metadata": {},
   "outputs": [
    {
     "data": {
      "text/plain": [
       "'manchester'"
      ]
     },
     "execution_count": 17,
     "metadata": {},
     "output_type": "execute_result"
    }
   ],
   "source": [
    "list_example[4][0]"
   ]
  },
  {
   "cell_type": "code",
   "execution_count": 19,
   "id": "c4e0723a",
   "metadata": {
    "scrolled": true
   },
   "outputs": [
    {
     "ename": "IndexError",
     "evalue": "list index out of range",
     "output_type": "error",
     "traceback": [
      "\u001b[1;31m---------------------------------------------------------------------------\u001b[0m",
      "\u001b[1;31mIndexError\u001b[0m                                Traceback (most recent call last)",
      "\u001b[1;32m<ipython-input-19-6534959c2fb6>\u001b[0m in \u001b[0;36m<module>\u001b[1;34m\u001b[0m\n\u001b[1;32m----> 1\u001b[1;33m \u001b[0mlist_example\u001b[0m\u001b[1;33m[\u001b[0m\u001b[1;36m8\u001b[0m\u001b[1;33m]\u001b[0m\u001b[1;33m\u001b[0m\u001b[1;33m\u001b[0m\u001b[0m\n\u001b[0m",
      "\u001b[1;31mIndexError\u001b[0m: list index out of range"
     ]
    }
   ],
   "source": [
    "list_example[8]"
   ]
  },
  {
   "cell_type": "code",
   "execution_count": 22,
   "id": "f106e3b1",
   "metadata": {},
   "outputs": [
    {
     "name": "stdout",
     "output_type": "stream",
     "text": [
      "[20, 7.8, True, 'football', ['manchester', 'chelsea', 'arsenal', 'liverpool', 'everton']]\n"
     ]
    }
   ],
   "source": [
    "print(list_example)"
   ]
  },
  {
   "cell_type": "code",
   "execution_count": 25,
   "id": "4fe90d2b",
   "metadata": {},
   "outputs": [
    {
     "name": "stdout",
     "output_type": "stream",
     "text": [
      "[20, 7.8, True]\n"
     ]
    }
   ],
   "source": [
    "print(list_example[0:3])"
   ]
  },
  {
   "cell_type": "code",
   "execution_count": 26,
   "id": "ed7a676c",
   "metadata": {},
   "outputs": [
    {
     "name": "stdout",
     "output_type": "stream",
     "text": [
      "['football', ['manchester', 'chelsea', 'arsenal', 'liverpool', 'everton']]\n"
     ]
    }
   ],
   "source": [
    "print(list_example[3:])"
   ]
  },
  {
   "cell_type": "markdown",
   "id": "3539f28e-5cee-4794-85f1-9fbb6b2e1d72",
   "metadata": {},
   "source": [
    "### VERİ YAPILARI - LİSTELER - LİSTELERE ELEMAN EKLEME & DEĞİŞTİRME & SİLME"
   ]
  },
  {
   "cell_type": "code",
   "execution_count": 42,
   "id": "692ede17-01c1-46d5-b4b1-d2f8f0113417",
   "metadata": {},
   "outputs": [],
   "source": [
    "new_list = [\"usa\", \"germany\", \"turkey\", \"egypt\"]"
   ]
  },
  {
   "cell_type": "code",
   "execution_count": 43,
   "id": "a53cad10-d36d-4e41-921d-fd0f3ae03736",
   "metadata": {},
   "outputs": [
    {
     "name": "stdout",
     "output_type": "stream",
     "text": [
      "['usa', 'germany', 'turkey', 'egypt']\n"
     ]
    }
   ],
   "source": [
    "print(new_list)"
   ]
  },
  {
   "cell_type": "code",
   "execution_count": 44,
   "id": "cff0aade-fe68-4941-b906-496598b3ec4f",
   "metadata": {},
   "outputs": [],
   "source": [
    "new_list = new_list + [\"greece\"]"
   ]
  },
  {
   "cell_type": "code",
   "execution_count": 45,
   "id": "97351284-0dd7-47a6-a925-f56e98c3cd7b",
   "metadata": {},
   "outputs": [
    {
     "data": {
      "text/plain": [
       "['usa', 'germany', 'turkey', 'egypt', 'greece']"
      ]
     },
     "execution_count": 45,
     "metadata": {},
     "output_type": "execute_result"
    }
   ],
   "source": [
    "new_list"
   ]
  },
  {
   "cell_type": "code",
   "execution_count": 46,
   "id": "061540d5-2cf1-492c-ad86-a1958b593199",
   "metadata": {},
   "outputs": [],
   "source": [
    "new_list[0] = \"france\""
   ]
  },
  {
   "cell_type": "code",
   "execution_count": 47,
   "id": "247f2e23-b3eb-4964-9774-4cbd89a9e963",
   "metadata": {},
   "outputs": [
    {
     "name": "stdout",
     "output_type": "stream",
     "text": [
      "['france', 'germany', 'turkey', 'egypt', 'greece']\n"
     ]
    }
   ],
   "source": [
    "print(new_list)"
   ]
  },
  {
   "cell_type": "code",
   "execution_count": 48,
   "id": "d74ec9bc-fe08-4fec-b5de-7293885bb253",
   "metadata": {},
   "outputs": [],
   "source": [
    "new_list[0:3] = \"japan\", \"syria\", \"italy\""
   ]
  },
  {
   "cell_type": "code",
   "execution_count": 49,
   "id": "d1c9403a-798b-4feb-9390-a37332623ff6",
   "metadata": {},
   "outputs": [
    {
     "name": "stdout",
     "output_type": "stream",
     "text": [
      "['japan', 'syria', 'italy', 'egypt', 'greece']\n"
     ]
    }
   ],
   "source": [
    "print(new_list)"
   ]
  },
  {
   "cell_type": "code",
   "execution_count": 50,
   "id": "4e8bb97d-114b-4d1f-a104-f42e5b1fcaec",
   "metadata": {},
   "outputs": [],
   "source": [
    "del new_list[4]"
   ]
  },
  {
   "cell_type": "code",
   "execution_count": 51,
   "id": "87232580-5f21-49cf-b766-22e2f398e30e",
   "metadata": {},
   "outputs": [
    {
     "name": "stdout",
     "output_type": "stream",
     "text": [
      "['japan', 'syria', 'italy', 'egypt']\n"
     ]
    }
   ],
   "source": [
    "print(new_list)"
   ]
  },
  {
   "cell_type": "markdown",
   "id": "54e12e4d-eee5-414e-bf27-1f091709d36d",
   "metadata": {},
   "source": [
    "### VERİ YAPILARI - LİSTELER - METODLAR İLE ELEMAN EKLEME & DEĞİŞTİRME & SİLME"
   ]
  },
  {
   "cell_type": "code",
   "execution_count": 1,
   "id": "bf6db684-1934-46cc-af4f-c202aebbd870",
   "metadata": {},
   "outputs": [
    {
     "data": {
      "text/plain": [
       "['__add__',\n",
       " '__class__',\n",
       " '__contains__',\n",
       " '__delattr__',\n",
       " '__delitem__',\n",
       " '__dir__',\n",
       " '__doc__',\n",
       " '__eq__',\n",
       " '__format__',\n",
       " '__ge__',\n",
       " '__getattribute__',\n",
       " '__getitem__',\n",
       " '__gt__',\n",
       " '__hash__',\n",
       " '__iadd__',\n",
       " '__imul__',\n",
       " '__init__',\n",
       " '__init_subclass__',\n",
       " '__iter__',\n",
       " '__le__',\n",
       " '__len__',\n",
       " '__lt__',\n",
       " '__mul__',\n",
       " '__ne__',\n",
       " '__new__',\n",
       " '__reduce__',\n",
       " '__reduce_ex__',\n",
       " '__repr__',\n",
       " '__reversed__',\n",
       " '__rmul__',\n",
       " '__setattr__',\n",
       " '__setitem__',\n",
       " '__sizeof__',\n",
       " '__str__',\n",
       " '__subclasshook__',\n",
       " 'append',\n",
       " 'clear',\n",
       " 'copy',\n",
       " 'count',\n",
       " 'extend',\n",
       " 'index',\n",
       " 'insert',\n",
       " 'pop',\n",
       " 'remove',\n",
       " 'reverse',\n",
       " 'sort']"
      ]
     },
     "execution_count": 1,
     "metadata": {},
     "output_type": "execute_result"
    }
   ],
   "source": [
    "dir(list)"
   ]
  },
  {
   "cell_type": "code",
   "execution_count": 10,
   "id": "1e71832f-5806-470e-8165-0348946ed7a6",
   "metadata": {},
   "outputs": [],
   "source": [
    "int_list = [10, 20, 30, 40, 50, 60]"
   ]
  },
  {
   "cell_type": "code",
   "execution_count": 11,
   "id": "65307c1f-689d-4c27-98b4-0fd3b8b077fb",
   "metadata": {},
   "outputs": [],
   "source": [
    "# append metodu\n",
    "int_list.append(70)"
   ]
  },
  {
   "cell_type": "code",
   "execution_count": 12,
   "id": "490de662-4645-4578-8790-98da2333ff4b",
   "metadata": {},
   "outputs": [
    {
     "name": "stdout",
     "output_type": "stream",
     "text": [
      "[10, 20, 30, 40, 50, 60, 70]\n"
     ]
    }
   ],
   "source": [
    "print(int_list)"
   ]
  },
  {
   "cell_type": "code",
   "execution_count": 13,
   "id": "7bb898ae-8298-43eb-9982-341ed78ae85c",
   "metadata": {},
   "outputs": [],
   "source": [
    "#remove metodu\n",
    "int_list.remove(70)"
   ]
  },
  {
   "cell_type": "code",
   "execution_count": 14,
   "id": "50ea3ea8-9254-4876-97ba-55a0741a30b7",
   "metadata": {},
   "outputs": [
    {
     "name": "stdout",
     "output_type": "stream",
     "text": [
      "[10, 20, 30, 40, 50, 60]\n"
     ]
    }
   ],
   "source": [
    "print(int_list)"
   ]
  },
  {
   "cell_type": "markdown",
   "id": "b6fafb0b-c9f7-4001-a880-c4969356745d",
   "metadata": {},
   "source": [
    "### VERİ YAPILARI - LİSTELER - İNDEXE GÖRE ELEMAN EKLEME VE SİLME\n"
   ]
  },
  {
   "cell_type": "code",
   "execution_count": 32,
   "id": "4bb961e3-8090-4307-9ddb-73565f71bcb1",
   "metadata": {},
   "outputs": [],
   "source": [
    "int_list = [10, 20, 30, 40, 50, 60]"
   ]
  },
  {
   "cell_type": "code",
   "execution_count": 33,
   "id": "b63787bc-108f-4e8d-a05c-6d70adb42f5b",
   "metadata": {
    "tags": []
   },
   "outputs": [],
   "source": [
    "# insert metodu\n",
    "int_list.insert(2, 195)"
   ]
  },
  {
   "cell_type": "code",
   "execution_count": 34,
   "id": "d2141767-cca0-49e9-b244-d26916203ff1",
   "metadata": {},
   "outputs": [
    {
     "name": "stdout",
     "output_type": "stream",
     "text": [
      "[10, 20, 195, 30, 40, 50, 60]\n"
     ]
    }
   ],
   "source": [
    "print(int_list)"
   ]
  },
  {
   "cell_type": "code",
   "execution_count": 35,
   "id": "b68d72fd-bafc-4e9c-844c-14889fafbc63",
   "metadata": {},
   "outputs": [
    {
     "data": {
      "text/plain": [
       "195"
      ]
     },
     "execution_count": 35,
     "metadata": {},
     "output_type": "execute_result"
    }
   ],
   "source": [
    "# pop metodu\n",
    "int_list.pop(2)"
   ]
  },
  {
   "cell_type": "code",
   "execution_count": 36,
   "id": "cf068e01-5103-449f-883c-aaf4d3a1262e",
   "metadata": {},
   "outputs": [
    {
     "name": "stdout",
     "output_type": "stream",
     "text": [
      "[10, 20, 30, 40, 50, 60]\n"
     ]
    }
   ],
   "source": [
    "print(int_list)"
   ]
  },
  {
   "cell_type": "markdown",
   "id": "07ac79e1-76a3-4444-9688-c376b16bc031",
   "metadata": {},
   "source": [
    "### VERİ YAPILARI - LİSTELER - DİĞER LİSTE METODLARI\n"
   ]
  },
  {
   "cell_type": "code",
   "execution_count": 50,
   "id": "9b3ad7c4-c160-46d4-b015-cdef3921703b",
   "metadata": {},
   "outputs": [],
   "source": [
    "# sort metodu\n",
    "example_list = [20, 10, 50, 40, 60, 25, 30, 45]"
   ]
  },
  {
   "cell_type": "code",
   "execution_count": 51,
   "id": "8a6309d2-8153-4847-bf4a-23f2a68686ab",
   "metadata": {},
   "outputs": [],
   "source": [
    "example_list.sort()"
   ]
  },
  {
   "cell_type": "code",
   "execution_count": 52,
   "id": "5a6030e9-9d56-4db1-b10d-e99b4839411a",
   "metadata": {},
   "outputs": [
    {
     "name": "stdout",
     "output_type": "stream",
     "text": [
      "[10, 20, 25, 30, 40, 45, 50, 60]\n"
     ]
    }
   ],
   "source": [
    "print(example_list)"
   ]
  },
  {
   "cell_type": "code",
   "execution_count": 53,
   "id": "1e17ff09-637c-4cce-92fc-c1780797b181",
   "metadata": {},
   "outputs": [],
   "source": [
    "# reverse metodu\n",
    "example_list.reverse()"
   ]
  },
  {
   "cell_type": "code",
   "execution_count": 54,
   "id": "03cdc848-95c6-4d26-8c55-1025cfaf4269",
   "metadata": {},
   "outputs": [
    {
     "name": "stdout",
     "output_type": "stream",
     "text": [
      "[60, 50, 45, 40, 30, 25, 20, 10]\n"
     ]
    }
   ],
   "source": [
    "print(example_list)"
   ]
  },
  {
   "cell_type": "code",
   "execution_count": 70,
   "id": "1ab51d85-6e8b-4062-ab6a-7003466bc79f",
   "metadata": {},
   "outputs": [],
   "source": [
    "example_list2 = [\"python\", \"java\", \"C\", \"r\", \"R\"]"
   ]
  },
  {
   "cell_type": "code",
   "execution_count": 71,
   "id": "be9e11d2-99eb-4733-a272-3b382fcb9260",
   "metadata": {},
   "outputs": [],
   "source": [
    "example_list2.sort()"
   ]
  },
  {
   "cell_type": "code",
   "execution_count": 73,
   "id": "9a5a4a56-a712-41e4-b55d-bc6327bf9d55",
   "metadata": {},
   "outputs": [
    {
     "name": "stdout",
     "output_type": "stream",
     "text": [
      "['C', 'R', 'java', 'python', 'r']\n"
     ]
    }
   ],
   "source": [
    "print(example_list2)"
   ]
  },
  {
   "cell_type": "markdown",
   "id": "2dff557c-266c-4d8b-a851-18467e31e0e9",
   "metadata": {},
   "source": [
    "### VERİ YAPILARI – TUPLE’LAR - TUPLE(DEMET) OLUŞTURMA\n"
   ]
  },
  {
   "cell_type": "code",
   "execution_count": 74,
   "id": "e4dade6d-f9c0-4184-8ce2-7129aabff1d2",
   "metadata": {},
   "outputs": [],
   "source": [
    "tuple_example = (\"h\", \"e\", \"l\", \"l\", \"o\")"
   ]
  },
  {
   "cell_type": "code",
   "execution_count": 75,
   "id": "6593eabf-feba-4465-a11c-863aff977967",
   "metadata": {},
   "outputs": [
    {
     "name": "stdout",
     "output_type": "stream",
     "text": [
      "('h', 'e', 'l', 'l', 'o')\n"
     ]
    }
   ],
   "source": [
    "print(tuple_example)"
   ]
  },
  {
   "cell_type": "code",
   "execution_count": 76,
   "id": "09b8e833-f80c-4544-80c1-a667820b1f39",
   "metadata": {},
   "outputs": [
    {
     "data": {
      "text/plain": [
       "tuple"
      ]
     },
     "execution_count": 76,
     "metadata": {},
     "output_type": "execute_result"
    }
   ],
   "source": [
    "type(tuple_example)"
   ]
  },
  {
   "cell_type": "code",
   "execution_count": 4,
   "id": "0279055d-7482-4d10-8358-1d132551d6e9",
   "metadata": {},
   "outputs": [],
   "source": [
    "tuple_word = \"hello\"\n",
    "tuple_example2 = tuple(tuple_word)"
   ]
  },
  {
   "cell_type": "code",
   "execution_count": 5,
   "id": "d37e1a7d-9027-4cf6-b534-e21f4e9e3ca6",
   "metadata": {},
   "outputs": [
    {
     "name": "stdout",
     "output_type": "stream",
     "text": [
      "('h', 'e', 'l', 'l', 'o')\n"
     ]
    }
   ],
   "source": [
    "print(tuple_example2)"
   ]
  },
  {
   "cell_type": "code",
   "execution_count": 84,
   "id": "49e55cd0-787e-4873-aad8-29d420d241b2",
   "metadata": {},
   "outputs": [],
   "source": [
    "new_list = [10, 20, \"hello\", \"world\"]"
   ]
  },
  {
   "cell_type": "code",
   "execution_count": 85,
   "id": "35b79774-3c6a-4f4b-82cf-eb54d6d99392",
   "metadata": {},
   "outputs": [],
   "source": [
    "new_tuple = tuple(new_list)"
   ]
  },
  {
   "cell_type": "code",
   "execution_count": 86,
   "id": "04ad3880-0657-480e-8a85-cc67db59b0b3",
   "metadata": {},
   "outputs": [
    {
     "name": "stdout",
     "output_type": "stream",
     "text": [
      "(10, 20, 'hello', 'world')\n"
     ]
    }
   ],
   "source": [
    "print(new_tuple)"
   ]
  },
  {
   "cell_type": "code",
   "execution_count": 87,
   "id": "3e74bc91-cce9-41b1-888c-7b06d7311dda",
   "metadata": {},
   "outputs": [
    {
     "data": {
      "text/plain": [
       "tuple"
      ]
     },
     "execution_count": 87,
     "metadata": {},
     "output_type": "execute_result"
    }
   ],
   "source": [
    "type(new_tuple)"
   ]
  },
  {
   "cell_type": "code",
   "execution_count": 79,
   "id": "eccb35d9-ef7a-4012-b895-27ca3c088098",
   "metadata": {},
   "outputs": [],
   "source": [
    "tuple_variable = \"hello\", 3, 4, 5, \"data\", \"science\""
   ]
  },
  {
   "cell_type": "code",
   "execution_count": 88,
   "id": "e97f1608-d131-4297-accc-37ed0056a0ea",
   "metadata": {},
   "outputs": [
    {
     "name": "stdout",
     "output_type": "stream",
     "text": [
      "('hello', 3, 4, 5, 'data', 'science')\n"
     ]
    }
   ],
   "source": [
    "print(tuple_variable)"
   ]
  },
  {
   "cell_type": "code",
   "execution_count": 82,
   "id": "09462861-5c4c-4887-bbe9-ded83160ce28",
   "metadata": {},
   "outputs": [
    {
     "data": {
      "text/plain": [
       "tuple"
      ]
     },
     "execution_count": 82,
     "metadata": {},
     "output_type": "execute_result"
    }
   ],
   "source": [
    "type(tuple_variable)"
   ]
  },
  {
   "cell_type": "code",
   "execution_count": 101,
   "id": "f49de22c-be6d-4b06-854c-50a1af0bd60c",
   "metadata": {},
   "outputs": [],
   "source": [
    "my_tuple = (\"hello\",)"
   ]
  },
  {
   "cell_type": "code",
   "execution_count": 102,
   "id": "f30fb3f1-2504-4718-8c3d-e2f322d103a5",
   "metadata": {},
   "outputs": [
    {
     "name": "stdout",
     "output_type": "stream",
     "text": [
      "('hello',)\n"
     ]
    }
   ],
   "source": [
    "print(my_tuple)"
   ]
  },
  {
   "cell_type": "code",
   "execution_count": 103,
   "id": "14d7c133-f2ee-40a0-a39e-f40526605646",
   "metadata": {},
   "outputs": [
    {
     "data": {
      "text/plain": [
       "tuple"
      ]
     },
     "execution_count": 103,
     "metadata": {},
     "output_type": "execute_result"
    }
   ],
   "source": [
    "type(my_tuple)"
   ]
  },
  {
   "cell_type": "markdown",
   "id": "4a4dbe23-c41f-4865-ac78-ebb347eea365",
   "metadata": {},
   "source": [
    "### VERİ YAPILARI – TUPLE’LAR - TUPLE(DEMET) ELEMANLARINA ULAŞMA: İNDEXLEME VE DİLİMLEME\n"
   ]
  },
  {
   "cell_type": "code",
   "execution_count": 104,
   "id": "9d8a3002-7601-46d4-977a-cefc00d45d71",
   "metadata": {},
   "outputs": [],
   "source": [
    "my_tuple = (\"data\", \"science\", 100, 200, [10, \"python\", 25], (8,9,\"number\"))"
   ]
  },
  {
   "cell_type": "code",
   "execution_count": 105,
   "id": "dc38cbc2-b93d-47be-b142-efbb64bc362e",
   "metadata": {},
   "outputs": [
    {
     "name": "stdout",
     "output_type": "stream",
     "text": [
      "('data', 'science', 100, 200, [10, 'python', 25], (8, 9, 'number'))\n"
     ]
    }
   ],
   "source": [
    "print(my_tuple)"
   ]
  },
  {
   "cell_type": "code",
   "execution_count": 106,
   "id": "25fb29a6-bbb0-480e-bf89-b8fe9dbf0d8e",
   "metadata": {},
   "outputs": [
    {
     "data": {
      "text/plain": [
       "100"
      ]
     },
     "execution_count": 106,
     "metadata": {},
     "output_type": "execute_result"
    }
   ],
   "source": [
    "my_tuple[2]"
   ]
  },
  {
   "cell_type": "code",
   "execution_count": 107,
   "id": "40e9ed91-d4bd-40e9-bd5d-aa3085500e7c",
   "metadata": {},
   "outputs": [
    {
     "data": {
      "text/plain": [
       "[10, 'python', 25]"
      ]
     },
     "execution_count": 107,
     "metadata": {},
     "output_type": "execute_result"
    }
   ],
   "source": [
    "my_tuple[4]"
   ]
  },
  {
   "cell_type": "code",
   "execution_count": 109,
   "id": "c95d4d5c-6c85-4302-92ac-b1f142d4641a",
   "metadata": {},
   "outputs": [
    {
     "data": {
      "text/plain": [
       "('science', 100, 200)"
      ]
     },
     "execution_count": 109,
     "metadata": {},
     "output_type": "execute_result"
    }
   ],
   "source": [
    "my_tuple[1:4]"
   ]
  },
  {
   "cell_type": "code",
   "execution_count": 110,
   "id": "0d1d3571-f703-4116-825b-c22b69045e6d",
   "metadata": {},
   "outputs": [
    {
     "ename": "TypeError",
     "evalue": "'tuple' object does not support item assignment",
     "output_type": "error",
     "traceback": [
      "\u001b[1;31m---------------------------------------------------------------------------\u001b[0m",
      "\u001b[1;31mTypeError\u001b[0m                                 Traceback (most recent call last)",
      "\u001b[1;32m<ipython-input-110-3b44ba04680c>\u001b[0m in \u001b[0;36m<module>\u001b[1;34m\u001b[0m\n\u001b[1;32m----> 1\u001b[1;33m \u001b[0mmy_tuple\u001b[0m\u001b[1;33m[\u001b[0m\u001b[1;36m0\u001b[0m\u001b[1;33m]\u001b[0m \u001b[1;33m=\u001b[0m \u001b[1;34m\"machine_learning\"\u001b[0m\u001b[1;33m\u001b[0m\u001b[1;33m\u001b[0m\u001b[0m\n\u001b[0m",
      "\u001b[1;31mTypeError\u001b[0m: 'tuple' object does not support item assignment"
     ]
    }
   ],
   "source": [
    "my_tuple[0] = \"machine_learning\""
   ]
  },
  {
   "cell_type": "markdown",
   "id": "27febfbd-9f45-4f83-ab02-cdfb08675e56",
   "metadata": {},
   "source": [
    "### VERİ YAPILARI – SÖZLÜKLER - SÖZLÜK(DICTIONARY) OLUŞTURMA\n"
   ]
  },
  {
   "cell_type": "code",
   "execution_count": 126,
   "id": "45303f41-e22c-4f50-8026-9359f2516f03",
   "metadata": {},
   "outputs": [],
   "source": [
    "vehicle = {\"car\" : \"lamborghini\", \"airplane\" : \"F16\"}"
   ]
  },
  {
   "cell_type": "code",
   "execution_count": 124,
   "id": "48081fc6-8c71-4c32-b4ac-972662c81eed",
   "metadata": {},
   "outputs": [
    {
     "name": "stdout",
     "output_type": "stream",
     "text": [
      "{'car': 'lamborghini', 'airplane': 'F16'}\n",
      "<class 'dict'>\n"
     ]
    }
   ],
   "source": [
    "print(vehicle, type(vehicle1), sep = \"\\n\")"
   ]
  },
  {
   "cell_type": "code",
   "execution_count": 118,
   "id": "c0ded8b6-0c57-4e7e-a9cf-22217bf575a0",
   "metadata": {},
   "outputs": [],
   "source": [
    "vehicle2 = dict(car = \"ferrari\", airplane = \"airbus\")"
   ]
  },
  {
   "cell_type": "code",
   "execution_count": 120,
   "id": "194b41df-5aa1-49cb-bd25-8a4382617c82",
   "metadata": {},
   "outputs": [
    {
     "name": "stdout",
     "output_type": "stream",
     "text": [
      "{'car': 'ferrari', 'airplane': 'airbus'}\n",
      "<class 'dict'>\n"
     ]
    }
   ],
   "source": [
    "print(vehicle2, type(vehicle2), sep = \"\\n\")"
   ]
  },
  {
   "cell_type": "markdown",
   "id": "abbfcb61-9529-40ef-9811-4403d84f0238",
   "metadata": {},
   "source": [
    "### VERİ YAPILARI – SÖZLÜKLER - SÖZLÜK(DICTIONARY) ELEMANLARINA ULAŞMA\n"
   ]
  },
  {
   "cell_type": "code",
   "execution_count": 128,
   "id": "5bd1125a-b603-44f2-878d-c4c92637d844",
   "metadata": {},
   "outputs": [],
   "source": [
    "capital = {\"USA\" : \"washington\",\n",
    "           \"Austria\" : \"vienna\",\n",
    "           \"Germany\" : \"berlin\",\n",
    "           \"UK\" : \"london\"}"
   ]
  },
  {
   "cell_type": "code",
   "execution_count": 129,
   "id": "adfb5e84-6ad3-4d44-a8b2-2b74f0404faa",
   "metadata": {},
   "outputs": [
    {
     "name": "stdout",
     "output_type": "stream",
     "text": [
      "berlin\n"
     ]
    }
   ],
   "source": [
    "print(capital[\"Germany\"])"
   ]
  },
  {
   "cell_type": "code",
   "execution_count": 134,
   "id": "6db9945b-74bc-4722-a146-e18e34a08834",
   "metadata": {},
   "outputs": [],
   "source": [
    "school_notes = {\"school1\" : {\"CLASS A\" : 75,\n",
    "                             \"CLASS B\" : 80,\n",
    "                             \"CLASS C\" : 70},\n",
    "                \n",
    "                \"school2\" : {\"CLASS A\" : 65,\n",
    "                             \"CLASS B\" : 70,\n",
    "                             \"CLASS C\" : 75},\n",
    "               \n",
    "                \"school3\" : {\"CLASS A\" : 90,\n",
    "                             \"CLASS B\" : 85,\n",
    "                             \"CLASS C\" : 80}}"
   ]
  },
  {
   "cell_type": "code",
   "execution_count": 135,
   "id": "24468539-5d1c-409b-8b8a-6978bd8e82b2",
   "metadata": {},
   "outputs": [
    {
     "name": "stdout",
     "output_type": "stream",
     "text": [
      "{'CLASS A': 65, 'CLASS B': 70, 'CLASS C': 75}\n"
     ]
    }
   ],
   "source": [
    "print(school_notes[\"school2\"])"
   ]
  },
  {
   "cell_type": "code",
   "execution_count": 137,
   "id": "e495083b-293e-40f4-96bb-0e0ca3d0915a",
   "metadata": {},
   "outputs": [
    {
     "name": "stdout",
     "output_type": "stream",
     "text": [
      "80\n"
     ]
    }
   ],
   "source": [
    "print(school_notes[\"school3\"][\"CLASS C\"])"
   ]
  },
  {
   "cell_type": "markdown",
   "id": "47e666fe-3e17-49aa-9440-16830d0f83aa",
   "metadata": {},
   "source": [
    "### VERİ YAPILARI – SÖZLÜKLER - SÖZLÜKLERE(DICTIONARY) ELEMAN EKLEMEK & DEĞİŞTİRMEK"
   ]
  },
  {
   "cell_type": "code",
   "execution_count": 150,
   "id": "63d448cf-e92a-4ceb-81b7-98d0f4e2da6e",
   "metadata": {},
   "outputs": [],
   "source": [
    "capital = {\"USA\" : \"Washington\",\n",
    "           \"Austria\" : \"Vienna\",\n",
    "           \"Germany\" : \"Berlin\",\n",
    "           \"UK\" : \"London\"}"
   ]
  },
  {
   "cell_type": "code",
   "execution_count": 151,
   "id": "55b00d31-bec7-4532-a154-e0fe436f1aa7",
   "metadata": {},
   "outputs": [
    {
     "name": "stdout",
     "output_type": "stream",
     "text": [
      "{'USA': 'Washington', 'Austria': 'Vienna', 'Germany': 'Berlin', 'UK': 'London'}\n"
     ]
    }
   ],
   "source": [
    "print(capital)"
   ]
  },
  {
   "cell_type": "code",
   "execution_count": 152,
   "id": "74ae0e1f-70f6-4eef-9c86-b51e54897478",
   "metadata": {},
   "outputs": [],
   "source": [
    "capital[\"Turkey\"] = \"Ankara\""
   ]
  },
  {
   "cell_type": "code",
   "execution_count": 153,
   "id": "1abaaa46-e8cf-4e55-a7c6-e76876ba26cb",
   "metadata": {},
   "outputs": [
    {
     "data": {
      "text/plain": [
       "{'USA': 'Washington',\n",
       " 'Austria': 'Vienna',\n",
       " 'Germany': 'Berlin',\n",
       " 'UK': 'London',\n",
       " 'Turkey': 'Ankara'}"
      ]
     },
     "execution_count": 153,
     "metadata": {},
     "output_type": "execute_result"
    }
   ],
   "source": [
    "capital"
   ]
  },
  {
   "cell_type": "code",
   "execution_count": 154,
   "id": "4294a7c7-17a2-45aa-b9ec-e2bb54bf2ccf",
   "metadata": {},
   "outputs": [],
   "source": [
    "capital[\"Germany\"] = \"Hamburg\""
   ]
  },
  {
   "cell_type": "code",
   "execution_count": 155,
   "id": "523e5994-f346-4190-8311-bb7c2384bd05",
   "metadata": {},
   "outputs": [
    {
     "data": {
      "text/plain": [
       "{'USA': 'Washington',\n",
       " 'Austria': 'Vienna',\n",
       " 'Germany': 'Hamburg',\n",
       " 'UK': 'London',\n",
       " 'Turkey': 'Ankara'}"
      ]
     },
     "execution_count": 155,
     "metadata": {},
     "output_type": "execute_result"
    }
   ],
   "source": [
    "capital"
   ]
  },
  {
   "cell_type": "code",
   "execution_count": 157,
   "id": "a7c0f1c1-9b63-4fcd-8a33-f933fada37df",
   "metadata": {},
   "outputs": [],
   "source": [
    "del capital[\"Germany\"]"
   ]
  },
  {
   "cell_type": "code",
   "execution_count": 158,
   "id": "0eb5cc7d-fd10-44e8-9e75-580812e702c0",
   "metadata": {},
   "outputs": [
    {
     "data": {
      "text/plain": [
       "{'USA': 'Washington', 'Austria': 'Vienna', 'UK': 'London', 'Turkey': 'Ankara'}"
      ]
     },
     "execution_count": 158,
     "metadata": {},
     "output_type": "execute_result"
    }
   ],
   "source": [
    "capital"
   ]
  },
  {
   "cell_type": "markdown",
   "id": "1633f103-d864-4cd5-af4c-acf94f737f33",
   "metadata": {},
   "source": [
    "### VERİ YAPILARI – SÖZLÜKLER - SÖZLÜK(DICTIONARY) METODLARI\n"
   ]
  },
  {
   "cell_type": "code",
   "execution_count": 159,
   "id": "16442f3c-f66b-4cbe-9f23-14ab69279d32",
   "metadata": {},
   "outputs": [
    {
     "data": {
      "text/plain": [
       "['__class__',\n",
       " '__contains__',\n",
       " '__delattr__',\n",
       " '__delitem__',\n",
       " '__dir__',\n",
       " '__doc__',\n",
       " '__eq__',\n",
       " '__format__',\n",
       " '__ge__',\n",
       " '__getattribute__',\n",
       " '__getitem__',\n",
       " '__gt__',\n",
       " '__hash__',\n",
       " '__init__',\n",
       " '__init_subclass__',\n",
       " '__iter__',\n",
       " '__le__',\n",
       " '__len__',\n",
       " '__lt__',\n",
       " '__ne__',\n",
       " '__new__',\n",
       " '__reduce__',\n",
       " '__reduce_ex__',\n",
       " '__repr__',\n",
       " '__reversed__',\n",
       " '__setattr__',\n",
       " '__setitem__',\n",
       " '__sizeof__',\n",
       " '__str__',\n",
       " '__subclasshook__',\n",
       " 'clear',\n",
       " 'copy',\n",
       " 'fromkeys',\n",
       " 'get',\n",
       " 'items',\n",
       " 'keys',\n",
       " 'pop',\n",
       " 'popitem',\n",
       " 'setdefault',\n",
       " 'update',\n",
       " 'values']"
      ]
     },
     "execution_count": 159,
     "metadata": {},
     "output_type": "execute_result"
    }
   ],
   "source": [
    "dir(dict)"
   ]
  },
  {
   "cell_type": "code",
   "execution_count": 161,
   "id": "a7d3986f-b9ed-4795-b0b6-434aef5355f7",
   "metadata": {},
   "outputs": [],
   "source": [
    "capital = {\"USA\" : \"Washington\",\n",
    "           \"Austria\" : \"Vienna\",\n",
    "           \"Germany\" : \"Berlin\",\n",
    "           \"UK\" : \"London\"}"
   ]
  },
  {
   "cell_type": "code",
   "execution_count": 162,
   "id": "abe20430-75d4-46cb-b4ea-d88a3db78017",
   "metadata": {},
   "outputs": [
    {
     "data": {
      "text/plain": [
       "dict_items([('USA', 'Washington'), ('Austria', 'Vienna'), ('Germany', 'Berlin'), ('UK', 'London')])"
      ]
     },
     "execution_count": 162,
     "metadata": {},
     "output_type": "execute_result"
    }
   ],
   "source": [
    "# items() method\n",
    "capital.items()"
   ]
  },
  {
   "cell_type": "code",
   "execution_count": 163,
   "id": "08d1fc3d-b138-442b-8d81-481ec124248f",
   "metadata": {},
   "outputs": [
    {
     "data": {
      "text/plain": [
       "dict_keys(['USA', 'Austria', 'Germany', 'UK'])"
      ]
     },
     "execution_count": 163,
     "metadata": {},
     "output_type": "execute_result"
    }
   ],
   "source": [
    "# keys() method\n",
    "capital.keys()"
   ]
  },
  {
   "cell_type": "code",
   "execution_count": 166,
   "id": "bad0ecf4-a814-459f-8261-d878a5213dc9",
   "metadata": {},
   "outputs": [
    {
     "data": {
      "text/plain": [
       "dict_values(['Washington', 'Vienna', 'Berlin', 'London'])"
      ]
     },
     "execution_count": 166,
     "metadata": {},
     "output_type": "execute_result"
    }
   ],
   "source": [
    "# values() method\n",
    "capital.values()"
   ]
  },
  {
   "cell_type": "code",
   "execution_count": 168,
   "id": "3df4aa5e-222b-47c6-96c0-9d3b39ce29b3",
   "metadata": {},
   "outputs": [],
   "source": [
    "list1 = list(capital.keys())"
   ]
  },
  {
   "cell_type": "code",
   "execution_count": 169,
   "id": "b27f73d8-e21f-4fb2-ba98-b6c0f2e7fe75",
   "metadata": {},
   "outputs": [
    {
     "name": "stdout",
     "output_type": "stream",
     "text": [
      "['USA', 'Austria', 'Germany', 'UK']\n"
     ]
    }
   ],
   "source": [
    "print(list1)"
   ]
  },
  {
   "cell_type": "code",
   "execution_count": 172,
   "id": "7767da1f-8241-401c-9ffb-9e2c73ae76ff",
   "metadata": {},
   "outputs": [],
   "source": [
    "# update() method\n",
    "capital.update({\"Turkey\" : \"Ankara\"})"
   ]
  },
  {
   "cell_type": "code",
   "execution_count": 173,
   "id": "48b50ef2-cf17-4a15-af59-ce1a458d9bc5",
   "metadata": {},
   "outputs": [
    {
     "data": {
      "text/plain": [
       "{'USA': 'Washington',\n",
       " 'Austria': 'Vienna',\n",
       " 'Germany': 'Berlin',\n",
       " 'UK': 'London',\n",
       " 'Turkey': 'Ankara'}"
      ]
     },
     "execution_count": 173,
     "metadata": {},
     "output_type": "execute_result"
    }
   ],
   "source": [
    "capital"
   ]
  },
  {
   "cell_type": "code",
   "execution_count": 174,
   "id": "1909cc0f-dedc-4e70-9f1c-54673ceae455",
   "metadata": {},
   "outputs": [],
   "source": [
    "capital.update({\"Germany\" : \"Hamburg\"})"
   ]
  },
  {
   "cell_type": "code",
   "execution_count": 175,
   "id": "e9163927-2295-4b15-9aeb-ba9d5c9f0622",
   "metadata": {},
   "outputs": [
    {
     "data": {
      "text/plain": [
       "{'USA': 'Washington',\n",
       " 'Austria': 'Vienna',\n",
       " 'Germany': 'Hamburg',\n",
       " 'UK': 'London',\n",
       " 'Turkey': 'Ankara'}"
      ]
     },
     "execution_count": 175,
     "metadata": {},
     "output_type": "execute_result"
    }
   ],
   "source": [
    "capital"
   ]
  },
  {
   "cell_type": "code",
   "execution_count": 176,
   "id": "496ca58a-fcb7-4672-8ffa-264307ada381",
   "metadata": {},
   "outputs": [
    {
     "data": {
      "text/plain": [
       "'Hamburg'"
      ]
     },
     "execution_count": 176,
     "metadata": {},
     "output_type": "execute_result"
    }
   ],
   "source": [
    "# pop() method\n",
    "capital.pop(\"Germany\")"
   ]
  },
  {
   "cell_type": "code",
   "execution_count": 177,
   "id": "f40d9054-451e-47d6-880f-2b3a4cc4c84e",
   "metadata": {},
   "outputs": [
    {
     "data": {
      "text/plain": [
       "{'USA': 'Washington', 'Austria': 'Vienna', 'UK': 'London', 'Turkey': 'Ankara'}"
      ]
     },
     "execution_count": 177,
     "metadata": {},
     "output_type": "execute_result"
    }
   ],
   "source": [
    "capital "
   ]
  },
  {
   "cell_type": "markdown",
   "id": "5e51da9a-bfea-43c5-8134-f1cb7c3ba040",
   "metadata": {},
   "source": [
    "### VERİ YAPILARI – SET - SET(KÜME) OLUŞTURMA\n"
   ]
  },
  {
   "cell_type": "code",
   "execution_count": 197,
   "id": "569b7969-3319-4ed7-8e7a-3dac59d017c5",
   "metadata": {},
   "outputs": [],
   "source": [
    "list_example = [10, \"data\", 7.8, False]"
   ]
  },
  {
   "cell_type": "code",
   "execution_count": 198,
   "id": "10124a06-79d8-4850-bd24-f9b2c64fb75a",
   "metadata": {},
   "outputs": [],
   "source": [
    "set_example = set(list_example)"
   ]
  },
  {
   "cell_type": "code",
   "execution_count": 199,
   "id": "dd286ae6-b662-498e-b68f-c23f7e8c4223",
   "metadata": {},
   "outputs": [
    {
     "name": "stdout",
     "output_type": "stream",
     "text": [
      "{False, 10, 'data', 7.8}\n"
     ]
    }
   ],
   "source": [
    "print(set_example)"
   ]
  },
  {
   "cell_type": "code",
   "execution_count": 200,
   "id": "b38fa083-878e-4c99-aef8-2cd96f483f0a",
   "metadata": {},
   "outputs": [
    {
     "data": {
      "text/plain": [
       "set"
      ]
     },
     "execution_count": 200,
     "metadata": {},
     "output_type": "execute_result"
    }
   ],
   "source": [
    "type(set_example)"
   ]
  },
  {
   "cell_type": "code",
   "execution_count": 201,
   "id": "f9a2c6a8-a78c-4ff1-9969-c8ca8102e05b",
   "metadata": {},
   "outputs": [],
   "source": [
    "tuple_example = (15, \"data science\", 15, 8.6, \"data science\")"
   ]
  },
  {
   "cell_type": "code",
   "execution_count": 202,
   "id": "2e802bc0-453c-4153-9678-63202cfbd2e7",
   "metadata": {},
   "outputs": [],
   "source": [
    "set_example2 = set(tuple_example)"
   ]
  },
  {
   "cell_type": "code",
   "execution_count": 206,
   "id": "c3b71c0c-a4a5-4185-a555-0086ae3b247d",
   "metadata": {},
   "outputs": [
    {
     "name": "stdout",
     "output_type": "stream",
     "text": [
      "{8.6, 'data science', 15}\n",
      "<class 'set'>\n"
     ]
    }
   ],
   "source": [
    "print(set_example2, type(set_example2), sep = \"\\n\")"
   ]
  },
  {
   "cell_type": "code",
   "execution_count": 207,
   "id": "fc8cee0e-117a-4719-99b8-2e2bd484fad4",
   "metadata": {},
   "outputs": [],
   "source": [
    "word = \"hello data science\""
   ]
  },
  {
   "cell_type": "code",
   "execution_count": 208,
   "id": "4ad01ab2-91ac-42bf-b6a0-165d60308e40",
   "metadata": {},
   "outputs": [],
   "source": [
    "set_example3 = set(word)"
   ]
  },
  {
   "cell_type": "code",
   "execution_count": 209,
   "id": "b999c594-0b8e-4774-ad6f-7ad1d59cc64c",
   "metadata": {},
   "outputs": [
    {
     "name": "stdout",
     "output_type": "stream",
     "text": [
      "{'i', 'h', 't', 'e', 'n', ' ', 'o', 'c', 'l', 's', 'a', 'd'}\n"
     ]
    }
   ],
   "source": [
    "print(set_example3)"
   ]
  },
  {
   "cell_type": "code",
   "execution_count": 210,
   "id": "a306028a-b55f-42fb-a1e5-dc1dd313e667",
   "metadata": {},
   "outputs": [
    {
     "ename": "TypeError",
     "evalue": "'set' object is not subscriptable",
     "output_type": "error",
     "traceback": [
      "\u001b[1;31m---------------------------------------------------------------------------\u001b[0m",
      "\u001b[1;31mTypeError\u001b[0m                                 Traceback (most recent call last)",
      "\u001b[1;32m<ipython-input-210-73c8aa6f2eba>\u001b[0m in \u001b[0;36m<module>\u001b[1;34m\u001b[0m\n\u001b[1;32m----> 1\u001b[1;33m \u001b[0mset_example3\u001b[0m\u001b[1;33m[\u001b[0m\u001b[1;36m0\u001b[0m\u001b[1;33m]\u001b[0m\u001b[1;33m\u001b[0m\u001b[1;33m\u001b[0m\u001b[0m\n\u001b[0m",
      "\u001b[1;31mTypeError\u001b[0m: 'set' object is not subscriptable"
     ]
    }
   ],
   "source": [
    "set_example3[0]"
   ]
  },
  {
   "cell_type": "markdown",
   "id": "9c617f6e-aa64-466e-9076-b7cf558c2052",
   "metadata": {},
   "source": [
    "### VERİ YAPILARI – SET - SET(KÜME) ELEMAN EKLEME VE ÇIKARMA METODLARI\n"
   ]
  },
  {
   "cell_type": "code",
   "execution_count": 212,
   "id": "2a4307dc-35c4-454d-aa83-1edd32bbbfc1",
   "metadata": {},
   "outputs": [
    {
     "data": {
      "text/plain": [
       "['__and__',\n",
       " '__class__',\n",
       " '__contains__',\n",
       " '__delattr__',\n",
       " '__dir__',\n",
       " '__doc__',\n",
       " '__eq__',\n",
       " '__format__',\n",
       " '__ge__',\n",
       " '__getattribute__',\n",
       " '__gt__',\n",
       " '__hash__',\n",
       " '__iand__',\n",
       " '__init__',\n",
       " '__init_subclass__',\n",
       " '__ior__',\n",
       " '__isub__',\n",
       " '__iter__',\n",
       " '__ixor__',\n",
       " '__le__',\n",
       " '__len__',\n",
       " '__lt__',\n",
       " '__ne__',\n",
       " '__new__',\n",
       " '__or__',\n",
       " '__rand__',\n",
       " '__reduce__',\n",
       " '__reduce_ex__',\n",
       " '__repr__',\n",
       " '__ror__',\n",
       " '__rsub__',\n",
       " '__rxor__',\n",
       " '__setattr__',\n",
       " '__sizeof__',\n",
       " '__str__',\n",
       " '__sub__',\n",
       " '__subclasshook__',\n",
       " '__xor__',\n",
       " 'add',\n",
       " 'clear',\n",
       " 'copy',\n",
       " 'difference',\n",
       " 'difference_update',\n",
       " 'discard',\n",
       " 'intersection',\n",
       " 'intersection_update',\n",
       " 'isdisjoint',\n",
       " 'issubset',\n",
       " 'issuperset',\n",
       " 'pop',\n",
       " 'remove',\n",
       " 'symmetric_difference',\n",
       " 'symmetric_difference_update',\n",
       " 'union',\n",
       " 'update']"
      ]
     },
     "execution_count": 212,
     "metadata": {},
     "output_type": "execute_result"
    }
   ],
   "source": [
    "dir(set)"
   ]
  },
  {
   "cell_type": "code",
   "execution_count": 215,
   "id": "f42ebf90-4db8-4ea5-ba7f-fc9cf41eb043",
   "metadata": {},
   "outputs": [
    {
     "name": "stdout",
     "output_type": "stream",
     "text": [
      "{40, 10, 20, 30}\n"
     ]
    }
   ],
   "source": [
    "# add method\n",
    "list1 = [10, 20, 30, 40]\n",
    "set1 = set(list1)\n",
    "print(set1)"
   ]
  },
  {
   "cell_type": "code",
   "execution_count": 219,
   "id": "db1907d2-21a6-4bd6-a22b-763948f1194b",
   "metadata": {},
   "outputs": [],
   "source": [
    "set1.add(50)"
   ]
  },
  {
   "cell_type": "code",
   "execution_count": 220,
   "id": "0871ea48-b064-4298-a7b2-6e5fcbd9c308",
   "metadata": {},
   "outputs": [
    {
     "name": "stdout",
     "output_type": "stream",
     "text": [
      "{40, 10, 50, 20, 30}\n"
     ]
    }
   ],
   "source": [
    "print(set1)"
   ]
  },
  {
   "cell_type": "code",
   "execution_count": 221,
   "id": "814b9d65-7a18-4da9-8664-78cfcf26cf5e",
   "metadata": {},
   "outputs": [],
   "source": [
    "set1.remove(30)"
   ]
  },
  {
   "cell_type": "code",
   "execution_count": 222,
   "id": "275a2509-323d-4583-8866-a280ae65c898",
   "metadata": {},
   "outputs": [
    {
     "name": "stdout",
     "output_type": "stream",
     "text": [
      "{40, 10, 50, 20}\n"
     ]
    }
   ],
   "source": [
    "print(set1)"
   ]
  },
  {
   "cell_type": "markdown",
   "id": "a5cb29d6-b9fd-4277-928a-65111b6efd2a",
   "metadata": {},
   "source": [
    "### VERİ YAPILARI – SET - SET’LERDE  FARK İŞLEM METODLARI\n"
   ]
  },
  {
   "cell_type": "code",
   "execution_count": 2,
   "id": "bdc4cc67-518d-44fd-bc9e-698c1a1b6890",
   "metadata": {},
   "outputs": [],
   "source": [
    "list1 = [1, 6, 7, 10, 2, 5, 16]\n",
    "list2 = [1, 6, 8, 9, 12, 5, 3]"
   ]
  },
  {
   "cell_type": "code",
   "execution_count": 3,
   "id": "16e8c126-2293-45b6-8f82-1f00d6fd6b2e",
   "metadata": {},
   "outputs": [],
   "source": [
    "set_first = set(list1)\n",
    "set_second = set(list2)"
   ]
  },
  {
   "cell_type": "code",
   "execution_count": 4,
   "id": "5d6a943e-dce7-44ff-9839-9698835e76f0",
   "metadata": {},
   "outputs": [
    {
     "data": {
      "text/plain": [
       "{2, 7, 10, 16}"
      ]
     },
     "execution_count": 4,
     "metadata": {},
     "output_type": "execute_result"
    }
   ],
   "source": [
    "set_first.difference(set_second)"
   ]
  },
  {
   "cell_type": "code",
   "execution_count": 5,
   "id": "5b8078d2-b276-4fcc-a0d4-5879e192cfa5",
   "metadata": {},
   "outputs": [
    {
     "data": {
      "text/plain": [
       "{2, 7, 10, 16}"
      ]
     },
     "execution_count": 5,
     "metadata": {},
     "output_type": "execute_result"
    }
   ],
   "source": [
    "set_first - set_second"
   ]
  },
  {
   "cell_type": "code",
   "execution_count": 6,
   "id": "49b52e78-754e-4d02-b7f0-a9cf8005562e",
   "metadata": {},
   "outputs": [
    {
     "data": {
      "text/plain": [
       "{3, 8, 9, 12}"
      ]
     },
     "execution_count": 6,
     "metadata": {},
     "output_type": "execute_result"
    }
   ],
   "source": [
    "set_second.difference(set_first)"
   ]
  },
  {
   "cell_type": "code",
   "execution_count": 7,
   "id": "478cb4ba-d1d4-409c-82bd-35f51bb322b1",
   "metadata": {},
   "outputs": [
    {
     "data": {
      "text/plain": [
       "{2, 3, 7, 8, 9, 10, 12, 16}"
      ]
     },
     "execution_count": 7,
     "metadata": {},
     "output_type": "execute_result"
    }
   ],
   "source": [
    "set_first.symmetric_difference(set_second)"
   ]
  },
  {
   "cell_type": "code",
   "execution_count": 8,
   "id": "bbaf712e-868e-4550-8497-ec1446c24a44",
   "metadata": {},
   "outputs": [
    {
     "data": {
      "text/plain": [
       "{2, 3, 7, 8, 9, 10, 12, 16}"
      ]
     },
     "execution_count": 8,
     "metadata": {},
     "output_type": "execute_result"
    }
   ],
   "source": [
    "set_second.symmetric_difference(set_first)"
   ]
  },
  {
   "cell_type": "markdown",
   "id": "615e61f6-e992-40c6-a97d-a9cb6be8f8c1",
   "metadata": {},
   "source": [
    "### VERİ YAPILARI – SET - SET’LERDE  KESİŞİM VE BİRLEŞİM İŞLEMİ METODLARI\n"
   ]
  },
  {
   "cell_type": "code",
   "execution_count": 9,
   "id": "f69d48fa-22e2-487a-9962-58065cd2debb",
   "metadata": {},
   "outputs": [],
   "source": [
    "list1 = [1, 6, 7, 10, 2, 5, 16]\n",
    "list2 = [1, 6, 8, 9, 12, 5, 3]"
   ]
  },
  {
   "cell_type": "code",
   "execution_count": 10,
   "id": "4f5fe56d-91ec-42aa-8d69-4aa70b8ef2bb",
   "metadata": {},
   "outputs": [],
   "source": [
    "set_first = set(list1)\n",
    "set_second = set(list2)"
   ]
  },
  {
   "cell_type": "code",
   "execution_count": 11,
   "id": "8c4ae0bd-6839-4e95-a28e-0150230bc495",
   "metadata": {},
   "outputs": [
    {
     "data": {
      "text/plain": [
       "{1, 5, 6}"
      ]
     },
     "execution_count": 11,
     "metadata": {},
     "output_type": "execute_result"
    }
   ],
   "source": [
    "set_first.intersection(set_second)"
   ]
  },
  {
   "cell_type": "code",
   "execution_count": 12,
   "id": "0711114f-aa8a-41a7-a253-cca8befe89c4",
   "metadata": {},
   "outputs": [
    {
     "data": {
      "text/plain": [
       "{1, 5, 6}"
      ]
     },
     "execution_count": 12,
     "metadata": {},
     "output_type": "execute_result"
    }
   ],
   "source": [
    "set_first & set_second"
   ]
  },
  {
   "cell_type": "code",
   "execution_count": 13,
   "id": "8adf6a32-5ae5-4a70-aa1e-7e126ecf6762",
   "metadata": {},
   "outputs": [
    {
     "data": {
      "text/plain": [
       "{1, 2, 3, 5, 6, 7, 8, 9, 10, 12, 16}"
      ]
     },
     "execution_count": 13,
     "metadata": {},
     "output_type": "execute_result"
    }
   ],
   "source": [
    "set_first.union(set_second)"
   ]
  },
  {
   "cell_type": "markdown",
   "id": "9fa5426d-0f94-4fa2-82af-270d8d7178ab",
   "metadata": {},
   "source": [
    "### VERİ YAPILARI – SET - SET’LERE SORU SORAN METODLAR\n"
   ]
  },
  {
   "cell_type": "code",
   "execution_count": 16,
   "id": "750c6278-97ad-42c5-b5c3-dfd0f148b985",
   "metadata": {},
   "outputs": [],
   "source": [
    "set_first = set([5, 7, 8, 12])\n",
    "set_second = set([5, 7, 8, 12, 15, 18, 21])"
   ]
  },
  {
   "cell_type": "code",
   "execution_count": 17,
   "id": "dc6f065f-86ff-4749-82ff-b470a63e70e0",
   "metadata": {},
   "outputs": [
    {
     "data": {
      "text/plain": [
       "True"
      ]
     },
     "execution_count": 17,
     "metadata": {},
     "output_type": "execute_result"
    }
   ],
   "source": [
    "set_first.issubset(set_second)"
   ]
  },
  {
   "cell_type": "code",
   "execution_count": 19,
   "id": "b15cc645-7d2f-4dcd-99b0-46e1e09d4cbf",
   "metadata": {},
   "outputs": [
    {
     "data": {
      "text/plain": [
       "True"
      ]
     },
     "execution_count": 19,
     "metadata": {},
     "output_type": "execute_result"
    }
   ],
   "source": [
    "set_second.issuperset(set_first)"
   ]
  },
  {
   "cell_type": "code",
   "execution_count": 18,
   "id": "e71b6fc0-501c-437f-8a71-23d942aacd22",
   "metadata": {},
   "outputs": [
    {
     "data": {
      "text/plain": [
       "False"
      ]
     },
     "execution_count": 18,
     "metadata": {},
     "output_type": "execute_result"
    }
   ],
   "source": [
    "set_first.isdisjoint(set_second)"
   ]
  },
  {
   "cell_type": "markdown",
   "id": "a9340175-43aa-4278-b925-a459f1878eb4",
   "metadata": {},
   "source": [
    "### KOŞULLU İFADELER - KARŞILAŞTIRMA OPERATÖRLERİ \n"
   ]
  },
  {
   "cell_type": "code",
   "execution_count": 21,
   "id": "7e0e79be-4321-4117-91c4-ebc34444dc01",
   "metadata": {},
   "outputs": [
    {
     "name": "stdout",
     "output_type": "stream",
     "text": [
      "True\n"
     ]
    }
   ],
   "source": [
    "print(5 > 3)"
   ]
  },
  {
   "cell_type": "code",
   "execution_count": 23,
   "id": "84379f58-3a31-4453-9fb4-b5608b34573b",
   "metadata": {},
   "outputs": [
    {
     "name": "stdout",
     "output_type": "stream",
     "text": [
      "False\n"
     ]
    }
   ],
   "source": [
    "print(7 < 2)"
   ]
  },
  {
   "cell_type": "code",
   "execution_count": 29,
   "id": "9d57c00b-387b-4e4a-b564-22c746b1cfc0",
   "metadata": {},
   "outputs": [
    {
     "name": "stdout",
     "output_type": "stream",
     "text": [
      "False\n"
     ]
    }
   ],
   "source": [
    "print(\"machine\" == \"Machine\")"
   ]
  },
  {
   "cell_type": "code",
   "execution_count": 24,
   "id": "dec17d97-7611-4e82-8d48-26cbfc433973",
   "metadata": {},
   "outputs": [
    {
     "name": "stdout",
     "output_type": "stream",
     "text": [
      "True\n"
     ]
    }
   ],
   "source": [
    "print(\"data\" != \"science\")"
   ]
  },
  {
   "cell_type": "code",
   "execution_count": 28,
   "id": "f4cfb717-db41-4b89-aa3c-665c1fd701c0",
   "metadata": {},
   "outputs": [
    {
     "name": "stdout",
     "output_type": "stream",
     "text": [
      "True\n"
     ]
    }
   ],
   "source": [
    "print(10.2 >= 10)"
   ]
  },
  {
   "cell_type": "code",
   "execution_count": 26,
   "id": "194ba879-056e-416f-bb26-e98f513f8d50",
   "metadata": {
    "tags": []
   },
   "outputs": [
    {
     "name": "stdout",
     "output_type": "stream",
     "text": [
      "True\n"
     ]
    }
   ],
   "source": [
    "print(9 <= 9)"
   ]
  },
  {
   "cell_type": "code",
   "execution_count": 30,
   "id": "dd3400c9-ffce-486b-8558-e5e0009dbf6f",
   "metadata": {},
   "outputs": [
    {
     "name": "stdout",
     "output_type": "stream",
     "text": [
      "True\n"
     ]
    }
   ],
   "source": [
    "print(1 == 1.0)"
   ]
  },
  {
   "cell_type": "markdown",
   "id": "e674d013-3360-4493-b7c3-c807b62271ec",
   "metadata": {},
   "source": [
    "### KOŞULLU İFADELER - ‘IF’ İFADELERİNİN YAPISI\n"
   ]
  },
  {
   "cell_type": "code",
   "execution_count": 36,
   "id": "b4be410f-f076-4029-91d1-a884e1b97ce7",
   "metadata": {},
   "outputs": [],
   "source": [
    "min_salary = 3500\n",
    "\n",
    "family1_wife = 1500\n",
    "family1_husband = 1500"
   ]
  },
  {
   "cell_type": "code",
   "execution_count": 37,
   "id": "177b2439-056f-46bb-86c5-babb3e93b75a",
   "metadata": {},
   "outputs": [],
   "source": [
    "if (family1_wife + family1_husband) < min_salary :\n",
    "    print(\"financial support shoul be provided\")"
   ]
  },
  {
   "cell_type": "code",
   "execution_count": 38,
   "id": "3ed31322-bbac-40d1-abdc-d8ff15318952",
   "metadata": {},
   "outputs": [],
   "source": [
    "min_salary = 3500\n",
    "\n",
    "family1_wife = 1500\n",
    "family1_husband = 4000 # MAAŞI DEĞİŞTİRDİK"
   ]
  },
  {
   "cell_type": "code",
   "execution_count": 39,
   "id": "b75d0a3a-39db-4433-a81c-c97ae835ccda",
   "metadata": {},
   "outputs": [],
   "source": [
    "if (family1_wife + family1_husband) < min_salary :\n",
    "    print(\"financial support shoul be provided\")"
   ]
  },
  {
   "cell_type": "markdown",
   "id": "94752630-0462-46c9-aa63-e0d70079705e",
   "metadata": {},
   "source": [
    "### KOŞULLU İFADELER - ‘IF-ELSE’ İFADELERİNİN YAPISI \n"
   ]
  },
  {
   "cell_type": "code",
   "execution_count": 40,
   "id": "918949c9-9329-48bd-9f2d-1ae2b26a99e1",
   "metadata": {},
   "outputs": [],
   "source": [
    "min_salary = 3500\n",
    "\n",
    "family1_wife = 1500\n",
    "family1_husband = 4000 "
   ]
  },
  {
   "cell_type": "code",
   "execution_count": 41,
   "id": "19439eda-26b2-4ce0-99ef-734c8ebea5d1",
   "metadata": {},
   "outputs": [
    {
     "name": "stdout",
     "output_type": "stream",
     "text": [
      "No financial support is required\n"
     ]
    }
   ],
   "source": [
    "if (family1_wife + family1_husband) < min_salary :\n",
    "    print(\"financial support should be provided\")\n",
    "else :\n",
    "    print(\"No financial support is required\")"
   ]
  },
  {
   "cell_type": "markdown",
   "id": "b855ee04-1041-4202-8368-e6a6d224dcec",
   "metadata": {},
   "source": [
    "### KOŞULLU İFADELER - ‘IF-ELIF-ELSE’ İFADELERİNİN YAPISI "
   ]
  },
  {
   "cell_type": "code",
   "execution_count": 42,
   "id": "5bb15b1d-cd37-4c49-9b43-eaa056deb20f",
   "metadata": {},
   "outputs": [],
   "source": [
    "min_salary = 3500\n",
    "\n",
    "family1_wife = 1500\n",
    "family1_husband = 4000 "
   ]
  },
  {
   "cell_type": "code",
   "execution_count": 44,
   "id": "6121fe08-79fd-4d05-bba3-5e115c5f7c9b",
   "metadata": {},
   "outputs": [
    {
     "name": "stdout",
     "output_type": "stream",
     "text": [
      "financial support may be considered\n"
     ]
    }
   ],
   "source": [
    "if (family1_wife + family1_husband) < min_salary :\n",
    "    print(\"financial support shoul be provided\")\n",
    "elif min_salary <= (family1_wife + family1_husband) < 6000 :\n",
    "    print(\"financial support may be considered\")   \n",
    "else :\n",
    "    print(\"No financial support is required\")"
   ]
  },
  {
   "cell_type": "markdown",
   "id": "345dbe26-689e-4906-a2a6-4e117b89646f",
   "metadata": {},
   "source": [
    "### KOŞULLU İFADELER - İÇ İÇE GEÇMİŞ(NESTED) “IF-ELIF-ELSE” İFADELERİ\n"
   ]
  },
  {
   "cell_type": "code",
   "execution_count": 45,
   "id": "db2c4e09-048d-46ed-a2ef-9e2a0d2e78e8",
   "metadata": {},
   "outputs": [],
   "source": [
    "list1 = [1,2,3,4]"
   ]
  },
  {
   "cell_type": "code",
   "execution_count": 46,
   "id": "a101cb10-a74d-477c-919a-e27c7b536ea8",
   "metadata": {},
   "outputs": [
    {
     "data": {
      "text/plain": [
       "True"
      ]
     },
     "execution_count": 46,
     "metadata": {},
     "output_type": "execute_result"
    }
   ],
   "source": [
    "2 in list1"
   ]
  },
  {
   "cell_type": "code",
   "execution_count": 47,
   "id": "8c48d163-fcf2-48f6-9123-1c79cbf9c85c",
   "metadata": {},
   "outputs": [
    {
     "data": {
      "text/plain": [
       "False"
      ]
     },
     "execution_count": 47,
     "metadata": {},
     "output_type": "execute_result"
    }
   ],
   "source": [
    "8 in list1"
   ]
  },
  {
   "cell_type": "code",
   "execution_count": 50,
   "id": "f48da5bd-b932-4ded-ad60-0dcf50d46efd",
   "metadata": {},
   "outputs": [
    {
     "name": "stdout",
     "output_type": "stream",
     "text": [
      "Elderlies are not allowed\n"
     ]
    }
   ],
   "source": [
    "group = \"kid\", \"adult\", \"elderly\"\n",
    "\n",
    "tourist = \"elderly\"\n",
    "\n",
    "if tourist in group : \n",
    "    if tourist == \"kid\" : \n",
    "        print(\"Kids are not allowed\")\n",
    "    elif tourist == \"adult\" :\n",
    "        print(\"Adult are allowed\")\n",
    "    elif tourist == \"elderly\" :\n",
    "        print(\"Elderlies are not allowed\")\n",
    "else :\n",
    "    print(\"Tourist is not included in the grup\")"
   ]
  },
  {
   "cell_type": "code",
   "execution_count": 51,
   "id": "46c994ad-ff94-4d11-bd8a-b449e3e6ecc8",
   "metadata": {},
   "outputs": [
    {
     "name": "stdout",
     "output_type": "stream",
     "text": [
      "Tourist is not included in the grup\n"
     ]
    }
   ],
   "source": [
    "group = \"kid\", \"adult\", \"elderly\"\n",
    "\n",
    "tourist = \"cat\" # burada tourist değişkenini değiştirdim.\n",
    "\n",
    "if tourist in group : \n",
    "    if tourist == \"kid\" : \n",
    "        print(\"Kids are not allowed\")\n",
    "    elif tourist == \"adult\" :\n",
    "        print(\"Adult are allowed\")\n",
    "    elif tourist == \"elderly\" :\n",
    "        print(\"Elderlies are not allowed\")\n",
    "else :\n",
    "    print(\"Tourist is not included in the grup\")"
   ]
  },
  {
   "cell_type": "markdown",
   "id": "0e4afbde-662e-445f-9dd5-89f8ac78b975",
   "metadata": {},
   "source": [
    "### KOŞULLU İFADELER - IF VE INPUT İLE KOORDİNELİ PROGRAMLAMA\n"
   ]
  },
  {
   "cell_type": "code",
   "execution_count": 54,
   "id": "3b53b041-a82f-4626-998e-a80221c18e8c",
   "metadata": {},
   "outputs": [
    {
     "name": "stdin",
     "output_type": "stream",
     "text": [
      "Please enter your name:  Joseph\n"
     ]
    },
    {
     "name": "stdout",
     "output_type": "stream",
     "text": [
      "Hello Joseph\n"
     ]
    }
   ],
   "source": [
    "name = input(\"Please enter your name: \")\n",
    "\n",
    "print(\"Hello\", name)"
   ]
  },
  {
   "cell_type": "code",
   "execution_count": 2,
   "id": "bb61764e-e464-432c-85b2-6975377b3fb4",
   "metadata": {},
   "outputs": [
    {
     "name": "stdin",
     "output_type": "stream",
     "text": [
      "Please enter the purchase amount:  2000\n"
     ]
    },
    {
     "name": "stdout",
     "output_type": "stream",
     "text": [
      "You can enter the draw\n"
     ]
    }
   ],
   "source": [
    "limit = 1000\n",
    "\n",
    "purchase_amount = int(input(\"Please enter the purchase amount: \"))\n",
    "\n",
    "if purchase_amount < limit :\n",
    "    print(\"You could not enter the draw\")\n",
    "elif purchase_amount >= limit :\n",
    "    print(\"You can enter the draw\")"
   ]
  },
  {
   "cell_type": "markdown",
   "id": "655330b6-792f-4f22-aa7b-6ca9f80728f8",
   "metadata": {},
   "source": [
    "### KOŞULLU İFADELER - TERNARY CONDITION\n"
   ]
  },
  {
   "cell_type": "code",
   "execution_count": 4,
   "id": "386e9af4-ec04-4b6b-9432-87369e60616d",
   "metadata": {},
   "outputs": [],
   "source": [
    "min_salary = 3000\n",
    "\n",
    "family1_wife = 1200\n",
    "family1_husband = 1500 "
   ]
  },
  {
   "cell_type": "code",
   "execution_count": 6,
   "id": "661077b5-eff7-4000-9115-e934c317f62d",
   "metadata": {},
   "outputs": [
    {
     "name": "stdout",
     "output_type": "stream",
     "text": [
      "Financial support should be provided\n"
     ]
    }
   ],
   "source": [
    "if (family1_wife + family1_husband) < min_salary:\n",
    "    print(\"Financial support should be provided\")\n",
    "else:\n",
    "    print(\"No financial support is required\")"
   ]
  },
  {
   "cell_type": "code",
   "execution_count": 7,
   "id": "be292018-e1d0-41f1-897b-987a2845693c",
   "metadata": {},
   "outputs": [
    {
     "data": {
      "text/plain": [
       "'Financial support should be provided'"
      ]
     },
     "execution_count": 7,
     "metadata": {},
     "output_type": "execute_result"
    }
   ],
   "source": [
    "\"Financial support should be provided\" if (family1_wife + family1_husband) < min_salary else \"No financial support is required\" "
   ]
  }
 ],
 "metadata": {
  "kernelspec": {
   "display_name": "Python 3",
   "language": "python",
   "name": "python3"
  },
  "language_info": {
   "codemirror_mode": {
    "name": "ipython",
    "version": 3
   },
   "file_extension": ".py",
   "mimetype": "text/x-python",
   "name": "python",
   "nbconvert_exporter": "python",
   "pygments_lexer": "ipython3",
   "version": "3.8.8"
  }
 },
 "nbformat": 4,
 "nbformat_minor": 5
}
